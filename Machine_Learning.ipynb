{
 "cells": [
  {
   "cell_type": "code",
   "execution_count": 1,
   "metadata": {
    "execution": {
     "iopub.execute_input": "2023-08-26T07:13:14.009468Z",
     "iopub.status.busy": "2023-08-26T07:13:14.009064Z",
     "iopub.status.idle": "2023-08-26T07:13:14.022200Z",
     "shell.execute_reply": "2023-08-26T07:13:14.021110Z",
     "shell.execute_reply.started": "2023-08-26T07:13:14.009418Z"
    },
    "id": "6YZ2xm-N5aBE"
   },
   "outputs": [],
   "source": [
    "import pandas as pd\n",
    "import numpy as np\n",
    "import seaborn as sns\n",
    "\n",
    "import matplotlib.pyplot as plt\n",
    "%matplotlib inline\n",
    "\n",
    "import re\n",
    "import copy\n",
    "import pickle\n",
    "# import nltk\n",
    "# from nltk.corpus import stopwords\n",
    "# from nltk.stem.porter import PorterStemmer\n",
    "# from nltk.stem import WordNetLemmatizer\n",
    "\n",
    "from sklearn.feature_extraction.text import CountVectorizer, TfidfVectorizer\n",
    "from sklearn.preprocessing import OneHotEncoder, LabelEncoder\n",
    "from sklearn.linear_model import LinearRegression, LogisticRegression\n",
    "from sklearn.ensemble import RandomForestRegressor\n",
    "from sklearn.neighbors import KNeighborsClassifier\n",
    "from sklearn import svm\n",
    "from sklearn.naive_bayes import MultinomialNB\n",
    "from sklearn.model_selection import train_test_split\n",
    "from scipy.spatial.distance import euclidean, jaccard, hamming\n",
    "\n",
    "from sklearn.metrics import accuracy_score, mean_squared_error, r2_score, classification_report"
   ]
  },
  {
   "cell_type": "raw",
   "metadata": {
    "id": "X9rDRvP55aBH"
   },
   "source": [
    "Q-1. Imagine you have a dataset where you have different Instagram features\n",
    "like username, Caption, Hashtag, Followers, Time_Since_posted, and likes, now your task is\n",
    "to predict the number of likes and Time Since posted and the rest of the features are\n",
    "your input features. Now you have to build a model which can predict the\n",
    "number of likes and Time Since posted.\n",
    "Dataset This is the Dataset You can use this dataset for this question."
   ]
  },
  {
   "cell_type": "code",
   "execution_count": null,
   "metadata": {
    "execution": {
     "iopub.execute_input": "2023-08-26T07:13:14.025707Z",
     "iopub.status.busy": "2023-08-26T07:13:14.025022Z",
     "iopub.status.idle": "2023-08-26T07:13:14.280246Z",
     "shell.execute_reply": "2023-08-26T07:13:14.279322Z",
     "shell.execute_reply.started": "2023-08-26T07:13:14.025671Z"
    },
    "id": "Pe_TWRWl5aBH"
   },
   "outputs": [],
   "source": [
    "# df1 = pd.read_csv(\"Datasets/instagram_reach.csv\")\n",
    "df1 = pd.read_csv(\"https://raw.githubusercontent.com/Dhirengit/PPT-Ineuron/main/DataSets/instagram_reach.csv\")\n",
    "df1.sample()"
   ]
  },
  {
   "cell_type": "code",
   "execution_count": null,
   "metadata": {
    "execution": {
     "iopub.execute_input": "2023-08-26T07:13:14.282190Z",
     "iopub.status.busy": "2023-08-26T07:13:14.281852Z",
     "iopub.status.idle": "2023-08-26T07:13:14.289307Z",
     "shell.execute_reply": "2023-08-26T07:13:14.288414Z",
     "shell.execute_reply.started": "2023-08-26T07:13:14.282158Z"
    },
    "id": "FR22bIp25aBI"
   },
   "outputs": [],
   "source": [
    "df1.reset_index(drop=True)\n",
    "df1[\"Time\"] = df1[\"Time since posted\"].apply(lambda x: int(x.split(\" \")[0]))\n",
    "df1.drop(columns=[\"Unnamed: 0\",\"S.No\", \"Caption\", \"USERNAME\",\"Time since posted\"], inplace=True)"
   ]
  },
  {
   "cell_type": "code",
   "execution_count": null,
   "metadata": {
    "execution": {
     "iopub.execute_input": "2023-08-26T07:13:14.941645Z",
     "iopub.status.busy": "2023-08-26T07:13:14.940648Z",
     "iopub.status.idle": "2023-08-26T07:13:14.954744Z",
     "shell.execute_reply": "2023-08-26T07:13:14.953585Z",
     "shell.execute_reply.started": "2023-08-26T07:13:14.941609Z"
    },
    "id": "xsQ-vRZR5aBI"
   },
   "outputs": [],
   "source": [
    "df1.info()"
   ]
  },
  {
   "cell_type": "code",
   "execution_count": null,
   "metadata": {
    "execution": {
     "iopub.execute_input": "2023-08-26T07:13:14.957721Z",
     "iopub.status.busy": "2023-08-26T07:13:14.957252Z",
     "iopub.status.idle": "2023-08-26T07:13:14.978569Z",
     "shell.execute_reply": "2023-08-26T07:13:14.977572Z",
     "shell.execute_reply.started": "2023-08-26T07:13:14.957686Z"
    },
    "id": "3MwB_FEz5aBI"
   },
   "outputs": [],
   "source": [
    "df1.describe()"
   ]
  },
  {
   "cell_type": "code",
   "execution_count": null,
   "metadata": {
    "execution": {
     "iopub.execute_input": "2023-08-26T07:13:14.980388Z",
     "iopub.status.busy": "2023-08-26T07:13:14.980026Z",
     "iopub.status.idle": "2023-08-26T07:13:14.986265Z",
     "shell.execute_reply": "2023-08-26T07:13:14.985322Z",
     "shell.execute_reply.started": "2023-08-26T07:13:14.980353Z"
    },
    "id": "T358LSB45aBJ"
   },
   "outputs": [],
   "source": [
    "print(df1.loc[:0][\"Hashtags\"])"
   ]
  },
  {
   "cell_type": "code",
   "execution_count": null,
   "metadata": {
    "execution": {
     "iopub.execute_input": "2023-08-26T07:13:14.988619Z",
     "iopub.status.busy": "2023-08-26T07:13:14.987867Z",
     "iopub.status.idle": "2023-08-26T07:13:14.999967Z",
     "shell.execute_reply": "2023-08-26T07:13:14.998968Z",
     "shell.execute_reply.started": "2023-08-26T07:13:14.988561Z"
    },
    "id": "NHzAEuYo5aBJ"
   },
   "outputs": [],
   "source": [
    "def convert_hastag(text):\n",
    "    ps = PorterStemmer()\n",
    "    wordnet = WordNetLemmatizer()\n",
    "\n",
    "    tags = nltk.sent_tokenize(text)\n",
    "    corpus = []\n",
    "    tag = re.sub(\"[^a-zA-Z]\", \" \", text)\n",
    "    tag = tag.lower()\n",
    "    tag = tag.split()\n",
    "#     tag = [wordnet.lemmatize(word) for word in tag if not word in set(stopwords.words(\"english\"))]\n",
    "\n",
    "    return tag\n",
    "\n",
    "convert_hastag(df1[\"Hashtags\"][0])"
   ]
  },
  {
   "cell_type": "code",
   "execution_count": null,
   "metadata": {
    "execution": {
     "iopub.execute_input": "2023-08-26T07:13:15.003723Z",
     "iopub.status.busy": "2023-08-26T07:13:15.003411Z",
     "iopub.status.idle": "2023-08-26T07:13:15.024979Z",
     "shell.execute_reply": "2023-08-26T07:13:15.023864Z",
     "shell.execute_reply.started": "2023-08-26T07:13:15.003699Z"
    },
    "id": "VT_2J4eh5aBJ"
   },
   "outputs": [],
   "source": [
    "hastag = pd.DataFrame()\n",
    "df1[\"Hashtags\"]= df1[\"Hashtags\"].apply(convert_hastag)"
   ]
  },
  {
   "cell_type": "code",
   "execution_count": null,
   "metadata": {
    "execution": {
     "iopub.execute_input": "2023-08-26T07:13:15.028704Z",
     "iopub.status.busy": "2023-08-26T07:13:15.028295Z",
     "iopub.status.idle": "2023-08-26T07:13:15.040843Z",
     "shell.execute_reply": "2023-08-26T07:13:15.039565Z",
     "shell.execute_reply.started": "2023-08-26T07:13:15.028679Z"
    },
    "id": "8PlMlTsv5aBK"
   },
   "outputs": [],
   "source": [
    "print(df1[[\"Hashtags\"]])"
   ]
  },
  {
   "cell_type": "code",
   "execution_count": null,
   "metadata": {
    "execution": {
     "iopub.execute_input": "2023-08-26T07:13:15.043082Z",
     "iopub.status.busy": "2023-08-26T07:13:15.042139Z",
     "iopub.status.idle": "2023-08-26T07:13:15.053042Z",
     "shell.execute_reply": "2023-08-26T07:13:15.052030Z",
     "shell.execute_reply.started": "2023-08-26T07:13:15.043049Z"
    },
    "id": "lCalPPlO5aBK"
   },
   "outputs": [],
   "source": [
    "unique_hashtag = set(tag for row in df1[\"Hashtags\"] for tag in row)\n",
    "len(unique_hashtag)"
   ]
  },
  {
   "cell_type": "code",
   "execution_count": null,
   "metadata": {
    "execution": {
     "iopub.execute_input": "2023-08-26T07:13:15.055912Z",
     "iopub.status.busy": "2023-08-26T07:13:15.055574Z",
     "iopub.status.idle": "2023-08-26T07:13:15.565769Z",
     "shell.execute_reply": "2023-08-26T07:13:15.564845Z",
     "shell.execute_reply.started": "2023-08-26T07:13:15.055881Z"
    },
    "id": "rYO_6m8-5aBK"
   },
   "outputs": [],
   "source": [
    "for hashtag in unique_hashtag:\n",
    "    df1[hashtag] = 0 # initialize 0 value for every hashtag\n"
   ]
  },
  {
   "cell_type": "code",
   "execution_count": null,
   "metadata": {
    "execution": {
     "iopub.execute_input": "2023-08-26T07:13:15.568293Z",
     "iopub.status.busy": "2023-08-26T07:13:15.567361Z",
     "iopub.status.idle": "2023-08-26T07:13:15.628528Z",
     "shell.execute_reply": "2023-08-26T07:13:15.627574Z",
     "shell.execute_reply.started": "2023-08-26T07:13:15.568258Z"
    },
    "id": "5__YiLua5aBL"
   },
   "outputs": [],
   "source": [
    "for index, row in enumerate(df1[\"Hashtags\"]): # enumerate hashtags\n",
    "    for tag in row: # Row wise hashtag\n",
    "        df1.at[index, tag] = 1 # appply 1 value when index and tag match\n"
   ]
  },
  {
   "cell_type": "code",
   "execution_count": null,
   "metadata": {
    "execution": {
     "iopub.execute_input": "2023-08-26T07:13:15.630254Z",
     "iopub.status.busy": "2023-08-26T07:13:15.629932Z",
     "iopub.status.idle": "2023-08-26T07:13:15.673795Z",
     "shell.execute_reply": "2023-08-26T07:13:15.672961Z",
     "shell.execute_reply.started": "2023-08-26T07:13:15.630223Z"
    },
    "id": "hrYGWFWR5aBL"
   },
   "outputs": [],
   "source": [
    "df1.drop(columns=[\"Hashtags\"], inplace=True)"
   ]
  },
  {
   "cell_type": "code",
   "execution_count": null,
   "metadata": {
    "execution": {
     "iopub.execute_input": "2023-08-26T07:13:15.675934Z",
     "iopub.status.busy": "2023-08-26T07:13:15.675376Z",
     "iopub.status.idle": "2023-08-26T07:13:15.714617Z",
     "shell.execute_reply": "2023-08-26T07:13:15.713758Z",
     "shell.execute_reply.started": "2023-08-26T07:13:15.675900Z"
    },
    "id": "AE9ZzME65aBL"
   },
   "outputs": [],
   "source": [
    "x1 = df1.drop(columns=[\"Likes\", \"Time\"])"
   ]
  },
  {
   "cell_type": "code",
   "execution_count": null,
   "metadata": {
    "execution": {
     "iopub.execute_input": "2023-08-26T07:13:15.718305Z",
     "iopub.status.busy": "2023-08-26T07:13:15.718038Z",
     "iopub.status.idle": "2023-08-26T07:13:15.738497Z",
     "shell.execute_reply": "2023-08-26T07:13:15.737512Z",
     "shell.execute_reply.started": "2023-08-26T07:13:15.718281Z"
    },
    "id": "jFVg68Kp5aBL"
   },
   "outputs": [],
   "source": [
    "y1 = df1[[\"Likes\", \"Time\"]]"
   ]
  },
  {
   "cell_type": "code",
   "execution_count": null,
   "metadata": {
    "execution": {
     "iopub.execute_input": "2023-08-26T07:13:15.741149Z",
     "iopub.status.busy": "2023-08-26T07:13:15.740587Z",
     "iopub.status.idle": "2023-08-26T07:13:15.762542Z",
     "shell.execute_reply": "2023-08-26T07:13:15.761673Z",
     "shell.execute_reply.started": "2023-08-26T07:13:15.741116Z"
    },
    "id": "D3uddpXe5aBL"
   },
   "outputs": [],
   "source": [
    "x1_train, x1_test, y1_train, y1_test = train_test_split(x1, y1, test_size=0.1)"
   ]
  },
  {
   "cell_type": "code",
   "execution_count": null,
   "metadata": {
    "execution": {
     "iopub.execute_input": "2023-08-26T07:13:15.765850Z",
     "iopub.status.busy": "2023-08-26T07:13:15.765584Z",
     "iopub.status.idle": "2023-08-26T07:13:15.773680Z",
     "shell.execute_reply": "2023-08-26T07:13:15.772782Z",
     "shell.execute_reply.started": "2023-08-26T07:13:15.765827Z"
    },
    "id": "lsj8CZnA5aBM"
   },
   "outputs": [],
   "source": [
    "print(f\"X_train shape = {x1_train.shape}\")\n",
    "print(f\"X_test shape = {x1_test.shape}\")\n",
    "print(f\"y_train shape = {y1_train.shape}\")\n",
    "print(f\"y_test shape = {y1_test.shape}\")"
   ]
  },
  {
   "cell_type": "code",
   "execution_count": null,
   "metadata": {
    "execution": {
     "iopub.execute_input": "2023-08-26T07:13:15.776872Z",
     "iopub.status.busy": "2023-08-26T07:13:15.776303Z",
     "iopub.status.idle": "2023-08-26T07:13:15.789547Z",
     "shell.execute_reply": "2023-08-26T07:13:15.788493Z",
     "shell.execute_reply.started": "2023-08-26T07:13:15.776840Z"
    },
    "id": "TEBfJbgx5aBM"
   },
   "outputs": [],
   "source": [
    "y1_test"
   ]
  },
  {
   "cell_type": "code",
   "execution_count": null,
   "metadata": {
    "execution": {
     "iopub.execute_input": "2023-08-26T07:13:15.792847Z",
     "iopub.status.busy": "2023-08-26T07:13:15.792487Z",
     "iopub.status.idle": "2023-08-26T07:13:15.798638Z",
     "shell.execute_reply": "2023-08-26T07:13:15.797372Z",
     "shell.execute_reply.started": "2023-08-26T07:13:15.792822Z"
    },
    "id": "CIXqTdYx5aBM"
   },
   "outputs": [],
   "source": [
    "rf = RandomForestRegressor()"
   ]
  },
  {
   "cell_type": "code",
   "execution_count": null,
   "metadata": {
    "execution": {
     "iopub.execute_input": "2023-08-26T07:13:16.216948Z",
     "iopub.status.busy": "2023-08-26T07:13:16.216299Z",
     "iopub.status.idle": "2023-08-26T07:13:16.821218Z",
     "shell.execute_reply": "2023-08-26T07:13:16.820263Z",
     "shell.execute_reply.started": "2023-08-26T07:13:16.216907Z"
    },
    "id": "JXppqolY5aBM"
   },
   "outputs": [],
   "source": [
    "rf.fit(x1_train, y1_train)"
   ]
  },
  {
   "cell_type": "code",
   "execution_count": null,
   "metadata": {
    "execution": {
     "iopub.execute_input": "2023-08-26T07:13:16.824834Z",
     "iopub.status.busy": "2023-08-26T07:13:16.824059Z",
     "iopub.status.idle": "2023-08-26T07:13:16.852576Z",
     "shell.execute_reply": "2023-08-26T07:13:16.851421Z",
     "shell.execute_reply.started": "2023-08-26T07:13:16.824803Z"
    },
    "id": "3gJ0rEbe5aBM"
   },
   "outputs": [],
   "source": [
    "y1_pred = rf.predict(x1_test)\n",
    "y1_pred"
   ]
  },
  {
   "cell_type": "code",
   "execution_count": null,
   "metadata": {
    "execution": {
     "iopub.execute_input": "2023-08-26T07:13:16.854288Z",
     "iopub.status.busy": "2023-08-26T07:13:16.853960Z",
     "iopub.status.idle": "2023-08-26T07:13:16.862293Z",
     "shell.execute_reply": "2023-08-26T07:13:16.861229Z",
     "shell.execute_reply.started": "2023-08-26T07:13:16.854256Z"
    },
    "id": "4lTK7o6S5aBN"
   },
   "outputs": [],
   "source": [
    "mse1 = mean_squared_error(y1_test, y1_pred)\n",
    "mse1"
   ]
  },
  {
   "cell_type": "code",
   "execution_count": null,
   "metadata": {
    "execution": {
     "iopub.execute_input": "2023-08-26T07:13:16.864538Z",
     "iopub.status.busy": "2023-08-26T07:13:16.863824Z",
     "iopub.status.idle": "2023-08-26T07:13:16.873594Z",
     "shell.execute_reply": "2023-08-26T07:13:16.872566Z",
     "shell.execute_reply.started": "2023-08-26T07:13:16.864499Z"
    },
    "id": "Y6CFd5Aw5aBN"
   },
   "outputs": [],
   "source": [
    "rmse1 = np.sqrt(mse1)\n",
    "rmse1"
   ]
  },
  {
   "cell_type": "code",
   "execution_count": null,
   "metadata": {
    "execution": {
     "iopub.execute_input": "2023-08-26T07:13:16.878090Z",
     "iopub.status.busy": "2023-08-26T07:13:16.877747Z",
     "iopub.status.idle": "2023-08-26T07:13:16.889169Z",
     "shell.execute_reply": "2023-08-26T07:13:16.888210Z",
     "shell.execute_reply.started": "2023-08-26T07:13:16.878064Z"
    },
    "id": "rt-rFqTa5aBO"
   },
   "outputs": [],
   "source": [
    "r2score1 = r2_score(y1_test, y1_pred)\n",
    "r2score1"
   ]
  },
  {
   "cell_type": "raw",
   "metadata": {
    "id": "B1-HTf2c5aBO"
   },
   "source": [
    "Q-2. Imagine you have a dataset where you have different features like Age ,\n",
    "Gender , Height , Weight , BMI , and Blood Pressure and you have to classify the people into\n",
    "different classes like Normal , Overweight , Obesity , Underweight , and Extreme Obesity by using\n",
    "any 4 different classification algorithms. Now you have to build a model which\n",
    "can classify people into different classes.\n",
    "Dataset This is the Dataset You can use this dataset for this question."
   ]
  },
  {
   "cell_type": "code",
   "execution_count": null,
   "metadata": {
    "execution": {
     "iopub.execute_input": "2023-08-26T07:13:16.890612Z",
     "iopub.status.busy": "2023-08-26T07:13:16.890266Z",
     "iopub.status.idle": "2023-08-26T07:13:17.143234Z",
     "shell.execute_reply": "2023-08-26T07:13:17.142303Z",
     "shell.execute_reply.started": "2023-08-26T07:13:16.890545Z"
    },
    "id": "us6RP0Vy5aBO"
   },
   "outputs": [],
   "source": [
    "# df2 = pd.read_csv(\"DataSets/ObesityDataSet_raw_and_data_sinthetic.csv\")\n",
    "df2 = pd.read_csv(\"https://raw.githubusercontent.com/Dhirengit/PPT-Ineuron/main/DataSets/ObesityDataSet_raw_and_data_sinthetic.csv\")"
   ]
  },
  {
   "cell_type": "code",
   "execution_count": null,
   "metadata": {
    "execution": {
     "iopub.execute_input": "2023-08-26T07:13:17.146076Z",
     "iopub.status.busy": "2023-08-26T07:13:17.145371Z",
     "iopub.status.idle": "2023-08-26T07:13:17.169290Z",
     "shell.execute_reply": "2023-08-26T07:13:17.168173Z",
     "shell.execute_reply.started": "2023-08-26T07:13:17.146043Z"
    },
    "id": "Vuz9fUvL5aBO"
   },
   "outputs": [],
   "source": [
    "df2.head()"
   ]
  },
  {
   "cell_type": "code",
   "execution_count": null,
   "metadata": {
    "execution": {
     "iopub.execute_input": "2023-08-26T07:13:17.171859Z",
     "iopub.status.busy": "2023-08-26T07:13:17.171381Z",
     "iopub.status.idle": "2023-08-26T07:13:17.188291Z",
     "shell.execute_reply": "2023-08-26T07:13:17.187403Z",
     "shell.execute_reply.started": "2023-08-26T07:13:17.171826Z"
    },
    "id": "_LhysyNI5aBP"
   },
   "outputs": [],
   "source": [
    "df2.isnull().sum()"
   ]
  },
  {
   "cell_type": "code",
   "execution_count": null,
   "metadata": {
    "execution": {
     "iopub.execute_input": "2023-08-26T07:13:17.190541Z",
     "iopub.status.busy": "2023-08-26T07:13:17.189959Z",
     "iopub.status.idle": "2023-08-26T07:13:17.225329Z",
     "shell.execute_reply": "2023-08-26T07:13:17.224209Z",
     "shell.execute_reply.started": "2023-08-26T07:13:17.190508Z"
    },
    "id": "Xgfk9ydT5aBP"
   },
   "outputs": [],
   "source": [
    "df2.describe()"
   ]
  },
  {
   "cell_type": "code",
   "execution_count": null,
   "metadata": {
    "execution": {
     "iopub.execute_input": "2023-08-26T07:13:17.227393Z",
     "iopub.status.busy": "2023-08-26T07:13:17.227033Z",
     "iopub.status.idle": "2023-08-26T07:13:17.246750Z",
     "shell.execute_reply": "2023-08-26T07:13:17.245787Z",
     "shell.execute_reply.started": "2023-08-26T07:13:17.227359Z"
    },
    "id": "6utn4Xgs5aBP"
   },
   "outputs": [],
   "source": [
    "df2.info()"
   ]
  },
  {
   "cell_type": "code",
   "execution_count": null,
   "metadata": {
    "execution": {
     "iopub.execute_input": "2023-08-26T07:13:17.248464Z",
     "iopub.status.busy": "2023-08-26T07:13:17.248055Z",
     "iopub.status.idle": "2023-08-26T07:13:17.271354Z",
     "shell.execute_reply": "2023-08-26T07:13:17.270362Z",
     "shell.execute_reply.started": "2023-08-26T07:13:17.248416Z"
    },
    "id": "w48psSXb5aBP"
   },
   "outputs": [],
   "source": [
    "df2.sample(5)"
   ]
  },
  {
   "cell_type": "code",
   "execution_count": null,
   "metadata": {
    "execution": {
     "iopub.execute_input": "2023-08-26T07:13:17.273277Z",
     "iopub.status.busy": "2023-08-26T07:13:17.272688Z",
     "iopub.status.idle": "2023-08-26T07:13:17.279497Z",
     "shell.execute_reply": "2023-08-26T07:13:17.278617Z",
     "shell.execute_reply.started": "2023-08-26T07:13:17.273240Z"
    },
    "id": "FkXMSBrp5aBP"
   },
   "outputs": [],
   "source": [
    "df2[\"SCC\"].unique()"
   ]
  },
  {
   "cell_type": "code",
   "execution_count": null,
   "metadata": {
    "execution": {
     "iopub.execute_input": "2023-08-26T07:13:17.281336Z",
     "iopub.status.busy": "2023-08-26T07:13:17.280640Z",
     "iopub.status.idle": "2023-08-26T07:13:17.291319Z",
     "shell.execute_reply": "2023-08-26T07:13:17.290426Z",
     "shell.execute_reply.started": "2023-08-26T07:13:17.281304Z"
    },
    "id": "KvuGpHZM5aBQ"
   },
   "outputs": [],
   "source": [
    "df2[[\"Age\", \"Weight\"]] = df2[[\"Age\", \"Weight\"]].astype(int)"
   ]
  },
  {
   "cell_type": "code",
   "execution_count": null,
   "metadata": {
    "execution": {
     "iopub.execute_input": "2023-08-26T07:13:17.297697Z",
     "iopub.status.busy": "2023-08-26T07:13:17.297090Z",
     "iopub.status.idle": "2023-08-26T07:13:17.304687Z",
     "shell.execute_reply": "2023-08-26T07:13:17.303951Z",
     "shell.execute_reply.started": "2023-08-26T07:13:17.297666Z"
    },
    "id": "-K5TcQjp5aBQ"
   },
   "outputs": [],
   "source": [
    "df2[\"Gender\"] = df2[\"Gender\"].apply(lambda x : 1 if x == \"Male\" else 0)"
   ]
  },
  {
   "cell_type": "code",
   "execution_count": null,
   "metadata": {
    "execution": {
     "iopub.execute_input": "2023-08-26T07:13:17.306790Z",
     "iopub.status.busy": "2023-08-26T07:13:17.305944Z",
     "iopub.status.idle": "2023-08-26T07:13:17.314926Z",
     "shell.execute_reply": "2023-08-26T07:13:17.314243Z",
     "shell.execute_reply.started": "2023-08-26T07:13:17.306758Z"
    },
    "id": "wS7vDCNG5aBQ"
   },
   "outputs": [],
   "source": [
    "df2[\"SMOKE\"] = df2[\"SMOKE\"].apply(lambda x : 1 if x == \"yes\" else 0)"
   ]
  },
  {
   "cell_type": "code",
   "execution_count": null,
   "metadata": {
    "execution": {
     "iopub.execute_input": "2023-08-26T07:13:17.316977Z",
     "iopub.status.busy": "2023-08-26T07:13:17.315962Z",
     "iopub.status.idle": "2023-08-26T07:13:17.325234Z",
     "shell.execute_reply": "2023-08-26T07:13:17.324541Z",
     "shell.execute_reply.started": "2023-08-26T07:13:17.316945Z"
    },
    "id": "UEc5ojrK5aBQ"
   },
   "outputs": [],
   "source": [
    "df2[\"family_history_with_overweight\"] = df2[\"family_history_with_overweight\"].apply(lambda x : 1 if x == \"yes\" else 0)"
   ]
  },
  {
   "cell_type": "code",
   "execution_count": null,
   "metadata": {
    "execution": {
     "iopub.execute_input": "2023-08-26T07:13:17.327400Z",
     "iopub.status.busy": "2023-08-26T07:13:17.326490Z",
     "iopub.status.idle": "2023-08-26T07:13:17.335343Z",
     "shell.execute_reply": "2023-08-26T07:13:17.334420Z",
     "shell.execute_reply.started": "2023-08-26T07:13:17.327368Z"
    },
    "id": "WCDviuyi5aBQ"
   },
   "outputs": [],
   "source": [
    "df2[\"FAVC\"] = df2[\"FAVC\"].apply(lambda x : 1 if x == \"yes\" else 0)"
   ]
  },
  {
   "cell_type": "code",
   "execution_count": null,
   "metadata": {
    "execution": {
     "iopub.execute_input": "2023-08-26T07:13:17.338284Z",
     "iopub.status.busy": "2023-08-26T07:13:17.338001Z",
     "iopub.status.idle": "2023-08-26T07:13:17.346760Z",
     "shell.execute_reply": "2023-08-26T07:13:17.345910Z",
     "shell.execute_reply.started": "2023-08-26T07:13:17.338261Z"
    },
    "id": "gUjd145f5aBR"
   },
   "outputs": [],
   "source": [
    "df2[\"SCC\"] = df2[\"SCC\"].apply(lambda x : 1 if x == \"yes\" else 0)"
   ]
  },
  {
   "cell_type": "code",
   "execution_count": null,
   "metadata": {
    "execution": {
     "iopub.execute_input": "2023-08-26T07:13:17.348929Z",
     "iopub.status.busy": "2023-08-26T07:13:17.348313Z",
     "iopub.status.idle": "2023-08-26T07:13:17.375265Z",
     "shell.execute_reply": "2023-08-26T07:13:17.374369Z",
     "shell.execute_reply.started": "2023-08-26T07:13:17.348896Z"
    },
    "id": "dZ8lPu0y5aBS"
   },
   "outputs": [],
   "source": [
    "df2"
   ]
  },
  {
   "cell_type": "code",
   "execution_count": null,
   "metadata": {
    "execution": {
     "iopub.execute_input": "2023-08-26T07:13:17.378081Z",
     "iopub.status.busy": "2023-08-26T07:13:17.377519Z",
     "iopub.status.idle": "2023-08-26T07:13:17.386165Z",
     "shell.execute_reply": "2023-08-26T07:13:17.385092Z",
     "shell.execute_reply.started": "2023-08-26T07:13:17.378048Z"
    },
    "id": "MMztSJeV5aBS"
   },
   "outputs": [],
   "source": [
    "df2[\"MTRANS\"].unique()"
   ]
  },
  {
   "cell_type": "code",
   "execution_count": null,
   "metadata": {
    "execution": {
     "iopub.execute_input": "2023-08-26T07:13:17.387476Z",
     "iopub.status.busy": "2023-08-26T07:13:17.387201Z",
     "iopub.status.idle": "2023-08-26T07:13:17.393263Z",
     "shell.execute_reply": "2023-08-26T07:13:17.392116Z",
     "shell.execute_reply.started": "2023-08-26T07:13:17.387427Z"
    },
    "id": "QZHgdSor5aBS"
   },
   "outputs": [],
   "source": [
    "label_encoder = LabelEncoder()"
   ]
  },
  {
   "cell_type": "code",
   "execution_count": null,
   "metadata": {
    "execution": {
     "iopub.execute_input": "2023-08-26T07:13:17.395527Z",
     "iopub.status.busy": "2023-08-26T07:13:17.394653Z",
     "iopub.status.idle": "2023-08-26T07:13:17.403060Z",
     "shell.execute_reply": "2023-08-26T07:13:17.402121Z",
     "shell.execute_reply.started": "2023-08-26T07:13:17.395496Z"
    },
    "id": "-7QkndR25aBS"
   },
   "outputs": [],
   "source": [
    "df2[\"CAEC\"] =label_encoder.fit_transform(df2[\"CAEC\"])"
   ]
  },
  {
   "cell_type": "code",
   "execution_count": null,
   "metadata": {
    "execution": {
     "iopub.execute_input": "2023-08-26T07:13:17.404868Z",
     "iopub.status.busy": "2023-08-26T07:13:17.404379Z",
     "iopub.status.idle": "2023-08-26T07:13:17.413348Z",
     "shell.execute_reply": "2023-08-26T07:13:17.412720Z",
     "shell.execute_reply.started": "2023-08-26T07:13:17.404837Z"
    },
    "id": "bbjPIDkA5aBT"
   },
   "outputs": [],
   "source": [
    "df2[\"CALC\"] = label_encoder.fit_transform(df2[\"CALC\"])"
   ]
  },
  {
   "cell_type": "code",
   "execution_count": null,
   "metadata": {
    "execution": {
     "iopub.execute_input": "2023-08-26T07:13:17.415431Z",
     "iopub.status.busy": "2023-08-26T07:13:17.414683Z",
     "iopub.status.idle": "2023-08-26T07:13:17.424182Z",
     "shell.execute_reply": "2023-08-26T07:13:17.423549Z",
     "shell.execute_reply.started": "2023-08-26T07:13:17.415397Z"
    },
    "id": "ktvJvI4r5aBT"
   },
   "outputs": [],
   "source": [
    "df2[\"MTRANS\"] = label_encoder.fit_transform(df2[\"MTRANS\"])"
   ]
  },
  {
   "cell_type": "code",
   "execution_count": null,
   "metadata": {
    "execution": {
     "iopub.execute_input": "2023-08-26T07:13:17.427359Z",
     "iopub.status.busy": "2023-08-26T07:13:17.426680Z",
     "iopub.status.idle": "2023-08-26T07:13:17.433875Z",
     "shell.execute_reply": "2023-08-26T07:13:17.433190Z",
     "shell.execute_reply.started": "2023-08-26T07:13:17.427328Z"
    },
    "id": "dHdTXTfm5aBT"
   },
   "outputs": [],
   "source": [
    "df2[\"NObeyesdad\"] = label_encoder.fit_transform(df2[\"NObeyesdad\"])"
   ]
  },
  {
   "cell_type": "code",
   "execution_count": null,
   "metadata": {
    "execution": {
     "iopub.execute_input": "2023-08-26T07:13:17.435948Z",
     "iopub.status.busy": "2023-08-26T07:13:17.435239Z",
     "iopub.status.idle": "2023-08-26T07:13:17.458328Z",
     "shell.execute_reply": "2023-08-26T07:13:17.457274Z",
     "shell.execute_reply.started": "2023-08-26T07:13:17.435914Z"
    },
    "id": "1_vPqJXs5aBT"
   },
   "outputs": [],
   "source": [
    "df2.sample(5)"
   ]
  },
  {
   "cell_type": "code",
   "execution_count": null,
   "metadata": {
    "execution": {
     "iopub.execute_input": "2023-08-26T07:13:17.460290Z",
     "iopub.status.busy": "2023-08-26T07:13:17.459815Z",
     "iopub.status.idle": "2023-08-26T07:13:17.474034Z",
     "shell.execute_reply": "2023-08-26T07:13:17.472906Z",
     "shell.execute_reply.started": "2023-08-26T07:13:17.460259Z"
    },
    "id": "XimD5psq5aBT"
   },
   "outputs": [],
   "source": [
    "df2.info()"
   ]
  },
  {
   "cell_type": "markdown",
   "metadata": {
    "id": "yOBw-ZQU5aBT"
   },
   "source": [
    "# 4 Different Classification algorithms"
   ]
  },
  {
   "cell_type": "code",
   "execution_count": null,
   "metadata": {
    "execution": {
     "iopub.execute_input": "2023-08-26T07:13:17.475975Z",
     "iopub.status.busy": "2023-08-26T07:13:17.475654Z",
     "iopub.status.idle": "2023-08-26T07:13:17.481327Z",
     "shell.execute_reply": "2023-08-26T07:13:17.480259Z",
     "shell.execute_reply.started": "2023-08-26T07:13:17.475946Z"
    },
    "id": "lisrkFIp5aBV"
   },
   "outputs": [],
   "source": [
    "x2 = df2.drop(columns=[\"NObeyesdad\"])\n",
    "y2 = df2[\"NObeyesdad\"]"
   ]
  },
  {
   "cell_type": "code",
   "execution_count": null,
   "metadata": {
    "execution": {
     "iopub.execute_input": "2023-08-26T07:13:17.483410Z",
     "iopub.status.busy": "2023-08-26T07:13:17.483024Z",
     "iopub.status.idle": "2023-08-26T07:13:17.494141Z",
     "shell.execute_reply": "2023-08-26T07:13:17.493108Z",
     "shell.execute_reply.started": "2023-08-26T07:13:17.483380Z"
    },
    "id": "jsArXjrr5aBV"
   },
   "outputs": [],
   "source": [
    "y2"
   ]
  },
  {
   "cell_type": "code",
   "execution_count": null,
   "metadata": {
    "execution": {
     "iopub.execute_input": "2023-08-26T07:13:17.496420Z",
     "iopub.status.busy": "2023-08-26T07:13:17.495495Z",
     "iopub.status.idle": "2023-08-26T07:13:17.502757Z",
     "shell.execute_reply": "2023-08-26T07:13:17.501773Z",
     "shell.execute_reply.started": "2023-08-26T07:13:17.496384Z"
    },
    "id": "jPDa4FOV5aBV"
   },
   "outputs": [],
   "source": [
    "x2_train, x2_test, y2_train, y2_test = train_test_split(x2,y2, test_size=0.2)"
   ]
  },
  {
   "cell_type": "code",
   "execution_count": null,
   "metadata": {
    "execution": {
     "iopub.execute_input": "2023-08-26T07:13:17.505214Z",
     "iopub.status.busy": "2023-08-26T07:13:17.504070Z",
     "iopub.status.idle": "2023-08-26T07:13:17.511109Z",
     "shell.execute_reply": "2023-08-26T07:13:17.510477Z",
     "shell.execute_reply.started": "2023-08-26T07:13:17.505181Z"
    },
    "id": "of6KgSiS5aBW"
   },
   "outputs": [],
   "source": [
    "log_r2 = LogisticRegression(solver=\"liblinear\")"
   ]
  },
  {
   "cell_type": "code",
   "execution_count": null,
   "metadata": {
    "execution": {
     "iopub.execute_input": "2023-08-26T07:13:17.513133Z",
     "iopub.status.busy": "2023-08-26T07:13:17.512327Z",
     "iopub.status.idle": "2023-08-26T07:13:17.620965Z",
     "shell.execute_reply": "2023-08-26T07:13:17.619874Z",
     "shell.execute_reply.started": "2023-08-26T07:13:17.513094Z"
    },
    "id": "_KLRsSXT5aBW"
   },
   "outputs": [],
   "source": [
    "log_r2.fit(x2_train, y2_train)"
   ]
  },
  {
   "cell_type": "code",
   "execution_count": null,
   "metadata": {
    "execution": {
     "iopub.execute_input": "2023-08-26T07:13:17.622998Z",
     "iopub.status.busy": "2023-08-26T07:13:17.622425Z",
     "iopub.status.idle": "2023-08-26T07:13:17.631682Z",
     "shell.execute_reply": "2023-08-26T07:13:17.630782Z",
     "shell.execute_reply.started": "2023-08-26T07:13:17.622964Z"
    },
    "id": "sfE_YYhz5aBW"
   },
   "outputs": [],
   "source": [
    "y2_pred_log = log_r2.predict(x2_test)"
   ]
  },
  {
   "cell_type": "code",
   "execution_count": null,
   "metadata": {
    "execution": {
     "iopub.execute_input": "2023-08-26T07:13:17.633724Z",
     "iopub.status.busy": "2023-08-26T07:13:17.633242Z",
     "iopub.status.idle": "2023-08-26T07:13:17.643105Z",
     "shell.execute_reply": "2023-08-26T07:13:17.641892Z",
     "shell.execute_reply.started": "2023-08-26T07:13:17.633692Z"
    },
    "id": "Iccg3tD05aBW"
   },
   "outputs": [],
   "source": [
    "accuracy_score(y2_test, y2_pred_log)"
   ]
  },
  {
   "cell_type": "code",
   "execution_count": null,
   "metadata": {
    "execution": {
     "iopub.execute_input": "2023-08-26T07:13:17.645206Z",
     "iopub.status.busy": "2023-08-26T07:13:17.644817Z",
     "iopub.status.idle": "2023-08-26T07:13:17.650108Z",
     "shell.execute_reply": "2023-08-26T07:13:17.649037Z",
     "shell.execute_reply.started": "2023-08-26T07:13:17.645174Z"
    },
    "id": "vSLF6WCz5aBX"
   },
   "outputs": [],
   "source": [
    "knn2 = KNeighborsClassifier()"
   ]
  },
  {
   "cell_type": "code",
   "execution_count": null,
   "metadata": {
    "execution": {
     "iopub.execute_input": "2023-08-26T07:13:17.652104Z",
     "iopub.status.busy": "2023-08-26T07:13:17.651732Z",
     "iopub.status.idle": "2023-08-26T07:13:17.664554Z",
     "shell.execute_reply": "2023-08-26T07:13:17.663428Z",
     "shell.execute_reply.started": "2023-08-26T07:13:17.652072Z"
    },
    "id": "LVKYtx0y5aBX"
   },
   "outputs": [],
   "source": [
    "knn2.fit(x2_train, y2_train)"
   ]
  },
  {
   "cell_type": "code",
   "execution_count": null,
   "metadata": {
    "execution": {
     "iopub.execute_input": "2023-08-26T07:13:17.666840Z",
     "iopub.status.busy": "2023-08-26T07:13:17.666338Z",
     "iopub.status.idle": "2023-08-26T07:13:17.695531Z",
     "shell.execute_reply": "2023-08-26T07:13:17.694676Z",
     "shell.execute_reply.started": "2023-08-26T07:13:17.666807Z"
    },
    "id": "1t39N0475aBX"
   },
   "outputs": [],
   "source": [
    "y2_pred_knn = knn2.predict(x2_test)"
   ]
  },
  {
   "cell_type": "code",
   "execution_count": null,
   "metadata": {
    "execution": {
     "iopub.execute_input": "2023-08-26T07:13:17.697937Z",
     "iopub.status.busy": "2023-08-26T07:13:17.697252Z",
     "iopub.status.idle": "2023-08-26T07:13:17.705437Z",
     "shell.execute_reply": "2023-08-26T07:13:17.704626Z",
     "shell.execute_reply.started": "2023-08-26T07:13:17.697896Z"
    },
    "id": "XMDBKW125aBY"
   },
   "outputs": [],
   "source": [
    "accuracy_score(y2_test, y2_pred_knn)"
   ]
  },
  {
   "cell_type": "code",
   "execution_count": null,
   "metadata": {
    "execution": {
     "iopub.execute_input": "2023-08-26T07:13:17.707720Z",
     "iopub.status.busy": "2023-08-26T07:13:17.706982Z",
     "iopub.status.idle": "2023-08-26T07:13:17.713171Z",
     "shell.execute_reply": "2023-08-26T07:13:17.711928Z",
     "shell.execute_reply.started": "2023-08-26T07:13:17.707683Z"
    },
    "id": "FTVXVafF5aBY"
   },
   "outputs": [],
   "source": [
    "svm2 = svm.SVC(kernel=\"linear\")"
   ]
  },
  {
   "cell_type": "code",
   "execution_count": null,
   "metadata": {
    "execution": {
     "iopub.execute_input": "2023-08-26T07:13:17.715278Z",
     "iopub.status.busy": "2023-08-26T07:13:17.714955Z",
     "iopub.status.idle": "2023-08-26T07:13:17.863838Z",
     "shell.execute_reply": "2023-08-26T07:13:17.862826Z",
     "shell.execute_reply.started": "2023-08-26T07:13:17.715248Z"
    },
    "id": "HTWbGBUn5aBY"
   },
   "outputs": [],
   "source": [
    "svm2.fit(x2_train, y2_train)"
   ]
  },
  {
   "cell_type": "code",
   "execution_count": null,
   "metadata": {
    "execution": {
     "iopub.execute_input": "2023-08-26T07:13:17.873038Z",
     "iopub.status.busy": "2023-08-26T07:13:17.872760Z",
     "iopub.status.idle": "2023-08-26T07:13:17.887502Z",
     "shell.execute_reply": "2023-08-26T07:13:17.886594Z",
     "shell.execute_reply.started": "2023-08-26T07:13:17.873014Z"
    },
    "id": "O6lCfTh35aBZ"
   },
   "outputs": [],
   "source": [
    "y2_pred_svm = svm2.predict(x2_test)"
   ]
  },
  {
   "cell_type": "code",
   "execution_count": null,
   "metadata": {
    "execution": {
     "iopub.execute_input": "2023-08-26T07:13:17.889154Z",
     "iopub.status.busy": "2023-08-26T07:13:17.888683Z",
     "iopub.status.idle": "2023-08-26T07:13:17.898318Z",
     "shell.execute_reply": "2023-08-26T07:13:17.897313Z",
     "shell.execute_reply.started": "2023-08-26T07:13:17.889121Z"
    },
    "id": "6Yk_mfUU5aBZ"
   },
   "outputs": [],
   "source": [
    "accuracy_score(y2_test, y2_pred_svm)"
   ]
  },
  {
   "cell_type": "code",
   "execution_count": null,
   "metadata": {
    "execution": {
     "iopub.execute_input": "2023-08-26T07:13:17.900276Z",
     "iopub.status.busy": "2023-08-26T07:13:17.899759Z",
     "iopub.status.idle": "2023-08-26T07:13:17.905025Z",
     "shell.execute_reply": "2023-08-26T07:13:17.903955Z",
     "shell.execute_reply.started": "2023-08-26T07:13:17.900243Z"
    },
    "id": "iJTyWa-h5aBZ"
   },
   "outputs": [],
   "source": [
    "naive2 = MultinomialNB()"
   ]
  },
  {
   "cell_type": "code",
   "execution_count": null,
   "metadata": {
    "execution": {
     "iopub.execute_input": "2023-08-26T07:13:17.906834Z",
     "iopub.status.busy": "2023-08-26T07:13:17.906404Z",
     "iopub.status.idle": "2023-08-26T07:13:17.922467Z",
     "shell.execute_reply": "2023-08-26T07:13:17.921493Z",
     "shell.execute_reply.started": "2023-08-26T07:13:17.906801Z"
    },
    "id": "0qsuoSz_5aBZ"
   },
   "outputs": [],
   "source": [
    "naive2.fit(x2_train, y2_train)"
   ]
  },
  {
   "cell_type": "code",
   "execution_count": null,
   "metadata": {
    "execution": {
     "iopub.execute_input": "2023-08-26T07:13:17.924820Z",
     "iopub.status.busy": "2023-08-26T07:13:17.924154Z",
     "iopub.status.idle": "2023-08-26T07:13:17.931224Z",
     "shell.execute_reply": "2023-08-26T07:13:17.930252Z",
     "shell.execute_reply.started": "2023-08-26T07:13:17.924789Z"
    },
    "id": "KfDOprBp5aBZ"
   },
   "outputs": [],
   "source": [
    "y2_pred_naive = naive2.predict(x2_test)"
   ]
  },
  {
   "cell_type": "code",
   "execution_count": null,
   "metadata": {
    "execution": {
     "iopub.execute_input": "2023-08-26T07:13:17.933091Z",
     "iopub.status.busy": "2023-08-26T07:13:17.932560Z",
     "iopub.status.idle": "2023-08-26T07:13:17.942696Z",
     "shell.execute_reply": "2023-08-26T07:13:17.941659Z",
     "shell.execute_reply.started": "2023-08-26T07:13:17.933059Z"
    },
    "id": "MLh8ZU9T5aBa"
   },
   "outputs": [],
   "source": [
    "accuracy_score(y2_test, y2_pred_naive)"
   ]
  },
  {
   "cell_type": "raw",
   "metadata": {
    "id": "ipAz0JRp5aBa"
   },
   "source": [
    "Q-3. Imagine you have a dataset where you have different categories of data, Now\n",
    "you need to find the most similar data to the given data by using any 4 different\n",
    "similarity algorithms. Now you have to build a model which can find the most similar\n",
    "data to the given data."
   ]
  },
  {
   "cell_type": "code",
   "execution_count": null,
   "metadata": {
    "execution": {
     "iopub.execute_input": "2023-08-26T07:13:17.944957Z",
     "iopub.status.busy": "2023-08-26T07:13:17.944466Z",
     "iopub.status.idle": "2023-08-26T07:13:20.079673Z",
     "shell.execute_reply": "2023-08-26T07:13:20.078666Z",
     "shell.execute_reply.started": "2023-08-26T07:13:17.944783Z"
    },
    "id": "zROy6-Yq5aBa"
   },
   "outputs": [],
   "source": [
    "# df_3 =  pd.read_json(\"DataSets/News_Category_Dataset_v3.json\", lines=True)\n",
    "\n",
    "df_3 =  pd.read_json(\"https://raw.githubusercontent.com/Dhirengit/PPT-Ineuron/main/DataSets/News_Category_Dataset_v3.json\", lines=True)"
   ]
  },
  {
   "cell_type": "code",
   "execution_count": null,
   "metadata": {
    "execution": {
     "iopub.execute_input": "2023-08-26T07:13:20.081726Z",
     "iopub.status.busy": "2023-08-26T07:13:20.081341Z",
     "iopub.status.idle": "2023-08-26T07:13:20.088234Z",
     "shell.execute_reply": "2023-08-26T07:13:20.087164Z",
     "shell.execute_reply.started": "2023-08-26T07:13:20.081695Z"
    },
    "id": "ojy5MGNT5aBa"
   },
   "outputs": [],
   "source": [
    "df_3.shape"
   ]
  },
  {
   "cell_type": "code",
   "execution_count": null,
   "metadata": {
    "execution": {
     "iopub.execute_input": "2023-08-26T07:13:20.090600Z",
     "iopub.status.busy": "2023-08-26T07:13:20.089914Z",
     "iopub.status.idle": "2023-08-26T07:13:20.113754Z",
     "shell.execute_reply": "2023-08-26T07:13:20.112914Z",
     "shell.execute_reply.started": "2023-08-26T07:13:20.090568Z"
    },
    "id": "odOlrI0T5aBb"
   },
   "outputs": [],
   "source": [
    "df_3_new = copy.deepcopy(df_3)"
   ]
  },
  {
   "cell_type": "code",
   "execution_count": null,
   "metadata": {
    "execution": {
     "iopub.execute_input": "2023-08-26T07:13:20.115557Z",
     "iopub.status.busy": "2023-08-26T07:13:20.115204Z",
     "iopub.status.idle": "2023-08-26T07:13:20.143328Z",
     "shell.execute_reply": "2023-08-26T07:13:20.142335Z",
     "shell.execute_reply.started": "2023-08-26T07:13:20.115524Z"
    },
    "id": "HYPl7yva5aBb"
   },
   "outputs": [],
   "source": [
    "df_3_new = df_3.sample(1100)\n",
    "df_3_new.shape"
   ]
  },
  {
   "cell_type": "code",
   "execution_count": null,
   "metadata": {
    "execution": {
     "iopub.execute_input": "2023-08-26T07:13:20.145181Z",
     "iopub.status.busy": "2023-08-26T07:13:20.144777Z",
     "iopub.status.idle": "2023-08-26T07:13:20.151483Z",
     "shell.execute_reply": "2023-08-26T07:13:20.150407Z",
     "shell.execute_reply.started": "2023-08-26T07:13:20.145150Z"
    },
    "id": "l-CV6e4p5aBb"
   },
   "outputs": [],
   "source": [
    "def link_filter(text):\n",
    "    replace_text = text.replace(\"https://www.huffpost.com/entry/\", \"\")\n",
    "    replace_text = replace_text.replace(\"https://www.huffingtonpost.com/entry/\", \"\")\n",
    "    replace_text = replace_text.split(\"_\")[0]\n",
    "    replace_text = re.sub(\"[^a-zA-Z]\", \" \",replace_text )\n",
    "    return replace_text"
   ]
  },
  {
   "cell_type": "code",
   "execution_count": null,
   "metadata": {
    "execution": {
     "iopub.execute_input": "2023-08-26T07:13:20.153493Z",
     "iopub.status.busy": "2023-08-26T07:13:20.153096Z",
     "iopub.status.idle": "2023-08-26T07:13:21.194672Z",
     "shell.execute_reply": "2023-08-26T07:13:21.193751Z",
     "shell.execute_reply.started": "2023-08-26T07:13:20.153406Z"
    },
    "id": "5MNY8MWO5aBb"
   },
   "outputs": [],
   "source": [
    "df_3_new[\"link\"]= df_3[\"link\"].apply(link_filter)"
   ]
  },
  {
   "cell_type": "code",
   "execution_count": null,
   "metadata": {
    "execution": {
     "iopub.execute_input": "2023-08-26T07:13:21.196466Z",
     "iopub.status.busy": "2023-08-26T07:13:21.196087Z",
     "iopub.status.idle": "2023-08-26T07:13:21.204148Z",
     "shell.execute_reply": "2023-08-26T07:13:21.203020Z",
     "shell.execute_reply.started": "2023-08-26T07:13:21.196415Z"
    },
    "id": "VFfMiWKN5aBb"
   },
   "outputs": [],
   "source": [
    "df_3_new.shape"
   ]
  },
  {
   "cell_type": "code",
   "execution_count": null,
   "metadata": {
    "execution": {
     "iopub.execute_input": "2023-08-26T07:13:21.206617Z",
     "iopub.status.busy": "2023-08-26T07:13:21.205917Z",
     "iopub.status.idle": "2023-08-26T07:13:21.213593Z",
     "shell.execute_reply": "2023-08-26T07:13:21.212516Z",
     "shell.execute_reply.started": "2023-08-26T07:13:21.206574Z"
    },
    "id": "vzx2om485aBb"
   },
   "outputs": [],
   "source": [
    "def text_preprecess(text, use_stop_word=True):\n",
    "    ps = PorterStemmer()\n",
    "#     wordnet = WordNetLemmatizer()\n",
    "\n",
    "    tags = nltk.sent_tokenize(text)\n",
    "    tag = re.sub(\"[^a-zA-Z]\", \" \", text)\n",
    "    tag = tag.lower()\n",
    "    tag = tag.split()\n",
    "    tag = [ps.stem(word) for word in tag if not word in set(stopwords.words(\"english\"))] if use_stop_word else tag\n",
    "\n",
    "    return tag"
   ]
  },
  {
   "cell_type": "code",
   "execution_count": null,
   "metadata": {
    "execution": {
     "iopub.execute_input": "2023-08-26T07:13:21.215544Z",
     "iopub.status.busy": "2023-08-26T07:13:21.215198Z",
     "iopub.status.idle": "2023-08-26T07:13:22.242746Z",
     "shell.execute_reply": "2023-08-26T07:13:22.241772Z",
     "shell.execute_reply.started": "2023-08-26T07:13:21.215512Z"
    },
    "id": "Yr8yNO_b5aBc"
   },
   "outputs": [],
   "source": [
    "df_3_new[\"link\"] = df_3_new[\"link\"].apply(text_preprecess)"
   ]
  },
  {
   "cell_type": "code",
   "execution_count": null,
   "metadata": {
    "execution": {
     "iopub.execute_input": "2023-08-26T07:13:22.244707Z",
     "iopub.status.busy": "2023-08-26T07:13:22.244323Z",
     "iopub.status.idle": "2023-08-26T07:13:24.021163Z",
     "shell.execute_reply": "2023-08-26T07:13:24.020181Z",
     "shell.execute_reply.started": "2023-08-26T07:13:22.244673Z"
    },
    "id": "-zqoCSm35aBc"
   },
   "outputs": [],
   "source": [
    "df_3_new[\"headline\"] = df_3_new[\"headline\"].apply(text_preprecess)"
   ]
  },
  {
   "cell_type": "code",
   "execution_count": null,
   "metadata": {
    "execution": {
     "iopub.execute_input": "2023-08-26T07:13:24.023277Z",
     "iopub.status.busy": "2023-08-26T07:13:24.022344Z",
     "iopub.status.idle": "2023-08-26T07:13:28.013432Z",
     "shell.execute_reply": "2023-08-26T07:13:28.012431Z",
     "shell.execute_reply.started": "2023-08-26T07:13:24.023248Z"
    },
    "id": "qcudMNio5aBc"
   },
   "outputs": [],
   "source": [
    "df_3_new[\"short_description\"] = df_3_new[\"short_description\"].apply(text_preprecess)"
   ]
  },
  {
   "cell_type": "code",
   "execution_count": null,
   "metadata": {
    "execution": {
     "iopub.execute_input": "2023-08-26T07:13:28.015157Z",
     "iopub.status.busy": "2023-08-26T07:13:28.014817Z",
     "iopub.status.idle": "2023-08-26T07:13:28.074435Z",
     "shell.execute_reply": "2023-08-26T07:13:28.073585Z",
     "shell.execute_reply.started": "2023-08-26T07:13:28.015121Z"
    },
    "id": "z1paz5KH5aBc"
   },
   "outputs": [],
   "source": [
    "df_3_new[\"authors\"] = df_3_new[\"authors\"].apply(text_preprecess, use_stop_word=False)"
   ]
  },
  {
   "cell_type": "code",
   "execution_count": null,
   "metadata": {
    "execution": {
     "iopub.execute_input": "2023-08-26T07:13:28.077743Z",
     "iopub.status.busy": "2023-08-26T07:13:28.077407Z",
     "iopub.status.idle": "2023-08-26T07:13:28.121713Z",
     "shell.execute_reply": "2023-08-26T07:13:28.120769Z",
     "shell.execute_reply.started": "2023-08-26T07:13:28.077719Z"
    },
    "id": "NkySvKMw5aBd"
   },
   "outputs": [],
   "source": [
    "df_3_new[\"category\"] = df_3_new[\"category\"].apply(text_preprecess, use_stop_word=False)"
   ]
  },
  {
   "cell_type": "code",
   "execution_count": null,
   "metadata": {
    "execution": {
     "iopub.execute_input": "2023-08-26T07:13:28.123512Z",
     "iopub.status.busy": "2023-08-26T07:13:28.123099Z",
     "iopub.status.idle": "2023-08-26T07:13:28.137468Z",
     "shell.execute_reply": "2023-08-26T07:13:28.136493Z",
     "shell.execute_reply.started": "2023-08-26T07:13:28.123479Z"
    },
    "id": "6UF9yA6y5aBd"
   },
   "outputs": [],
   "source": [
    "df_3_new[\"tags\"] = df_3_new[\"link\"] + df_3_new[\"headline\"] + df_3_new[\"short_description\"] + df_3_new[\"category\"] + df_3_new[\"authors\"]"
   ]
  },
  {
   "cell_type": "code",
   "execution_count": null,
   "metadata": {
    "execution": {
     "iopub.execute_input": "2023-08-26T07:13:28.139985Z",
     "iopub.status.busy": "2023-08-26T07:13:28.138934Z",
     "iopub.status.idle": "2023-08-26T07:13:28.148905Z",
     "shell.execute_reply": "2023-08-26T07:13:28.147831Z",
     "shell.execute_reply.started": "2023-08-26T07:13:28.139953Z"
    },
    "id": "kV5cRr9C5aBd"
   },
   "outputs": [],
   "source": [
    "df_3_new.drop(columns=[\"link\", \"headline\", \"short_description\", \"category\", \"authors\",\"date\"], inplace=True)"
   ]
  },
  {
   "cell_type": "code",
   "execution_count": null,
   "metadata": {
    "execution": {
     "iopub.execute_input": "2023-08-26T07:13:28.150685Z",
     "iopub.status.busy": "2023-08-26T07:13:28.150178Z",
     "iopub.status.idle": "2023-08-26T07:13:28.162607Z",
     "shell.execute_reply": "2023-08-26T07:13:28.161592Z",
     "shell.execute_reply.started": "2023-08-26T07:13:28.150652Z"
    },
    "id": "j_nWE5Do5aBd"
   },
   "outputs": [],
   "source": [
    "df_3_new[\"tags\"] = df_3_new[\"tags\"].apply(lambda text : \" \".join(text))"
   ]
  },
  {
   "cell_type": "code",
   "execution_count": null,
   "metadata": {
    "execution": {
     "iopub.execute_input": "2023-08-26T07:13:28.164606Z",
     "iopub.status.busy": "2023-08-26T07:13:28.164145Z",
     "iopub.status.idle": "2023-08-26T07:13:28.176062Z",
     "shell.execute_reply": "2023-08-26T07:13:28.175134Z",
     "shell.execute_reply.started": "2023-08-26T07:13:28.164536Z"
    },
    "id": "z33hjke_5aBd"
   },
   "outputs": [],
   "source": [
    "df_3_new.shape"
   ]
  },
  {
   "cell_type": "code",
   "execution_count": null,
   "metadata": {
    "execution": {
     "iopub.execute_input": "2023-08-26T07:13:28.177912Z",
     "iopub.status.busy": "2023-08-26T07:13:28.177569Z",
     "iopub.status.idle": "2023-08-26T07:13:28.191265Z",
     "shell.execute_reply": "2023-08-26T07:13:28.190392Z",
     "shell.execute_reply.started": "2023-08-26T07:13:28.177860Z"
    },
    "id": "yMre2XJM5aBe"
   },
   "outputs": [],
   "source": [
    "df_3_new"
   ]
  },
  {
   "cell_type": "code",
   "execution_count": null,
   "metadata": {
    "execution": {
     "iopub.execute_input": "2023-08-26T07:13:28.193182Z",
     "iopub.status.busy": "2023-08-26T07:13:28.192786Z",
     "iopub.status.idle": "2023-08-26T07:13:28.200657Z",
     "shell.execute_reply": "2023-08-26T07:13:28.199741Z",
     "shell.execute_reply.started": "2023-08-26T07:13:28.193151Z"
    },
    "id": "LiO-Ep1b5aBe"
   },
   "outputs": [],
   "source": [
    "cv3 = CountVectorizer(max_features=1500)"
   ]
  },
  {
   "cell_type": "code",
   "execution_count": null,
   "metadata": {
    "execution": {
     "iopub.execute_input": "2023-08-26T07:13:28.202624Z",
     "iopub.status.busy": "2023-08-26T07:13:28.202078Z",
     "iopub.status.idle": "2023-08-26T07:13:28.271341Z",
     "shell.execute_reply": "2023-08-26T07:13:28.270335Z",
     "shell.execute_reply.started": "2023-08-26T07:13:28.202577Z"
    },
    "id": "TGnm2EmS5aBe"
   },
   "outputs": [],
   "source": [
    "vector = cv3.fit_transform(df_3_new[\"tags\"]).toarray()\n",
    "vector.shape"
   ]
  },
  {
   "cell_type": "code",
   "execution_count": null,
   "metadata": {
    "execution": {
     "iopub.execute_input": "2023-08-26T07:13:28.272935Z",
     "iopub.status.busy": "2023-08-26T07:13:28.272575Z",
     "iopub.status.idle": "2023-08-26T07:13:28.333101Z",
     "shell.execute_reply": "2023-08-26T07:13:28.331596Z",
     "shell.execute_reply.started": "2023-08-26T07:13:28.272903Z"
    },
    "id": "6DdlquHq5aBe"
   },
   "outputs": [],
   "source": [
    "from sklearn.metrics.pairwise import cosine_similarity\n",
    "similarity = cosine_similarity(vector)"
   ]
  },
  {
   "cell_type": "code",
   "execution_count": null,
   "metadata": {
    "execution": {
     "iopub.execute_input": "2023-08-26T07:13:28.335041Z",
     "iopub.status.busy": "2023-08-26T07:13:28.334689Z",
     "iopub.status.idle": "2023-08-26T07:13:28.345160Z",
     "shell.execute_reply": "2023-08-26T07:13:28.343898Z",
     "shell.execute_reply.started": "2023-08-26T07:13:28.335004Z"
    },
    "id": "Sglpoqtv5aBf"
   },
   "outputs": [],
   "source": [
    "similarity"
   ]
  },
  {
   "cell_type": "code",
   "execution_count": null,
   "metadata": {
    "execution": {
     "iopub.execute_input": "2023-08-26T07:13:28.347137Z",
     "iopub.status.busy": "2023-08-26T07:13:28.346618Z",
     "iopub.status.idle": "2023-08-26T07:13:28.354878Z",
     "shell.execute_reply": "2023-08-26T07:13:28.353641Z",
     "shell.execute_reply.started": "2023-08-26T07:13:28.347093Z"
    },
    "id": "txisLJXj5aBf"
   },
   "outputs": [],
   "source": [
    "# def euclidean_distance(point1, point2):\n",
    "#     return np.linalg.norm(point1 - point2)\n",
    "\n",
    "# # Function to find the most similar data point using Euclidean distance\n",
    "# def find_most_similar_data(dataset, given_data):\n",
    "#     distances = [euclidean_distance(given_data, data) for data in dataset]\n",
    "#     most_similar_index = np.argmin(distances)\n",
    "#     return dataset[most_similar_index]\n",
    "\n",
    "\n",
    "# # Example usage:\n",
    "# given_data = vector[0]  # The point for which we want to find the most similar point\n",
    "# most_similar_data = find_most_similar_data(vector, given_data)\n",
    "\n",
    "# print(\"Given data point:\", given_data, vector.shape)\n",
    "# print(\"Most similar data point:\", most_similar_data, given_data.shape)"
   ]
  },
  {
   "cell_type": "code",
   "execution_count": null,
   "metadata": {
    "execution": {
     "iopub.execute_input": "2023-08-26T07:13:28.356930Z",
     "iopub.status.busy": "2023-08-26T07:13:28.356596Z",
     "iopub.status.idle": "2023-08-26T07:13:42.557153Z",
     "shell.execute_reply": "2023-08-26T07:13:42.555976Z",
     "shell.execute_reply.started": "2023-08-26T07:13:28.356899Z"
    },
    "id": "8vas9DL15aBf"
   },
   "outputs": [],
   "source": [
    "data_array = vector\n",
    "\n",
    "def cosine_similarity(vec1, vec2):\n",
    "    dot_product = np.dot(vec1, vec2)\n",
    "    norm_vec1 = np.linalg.norm(vec1)\n",
    "    norm_vec2 = np.linalg.norm(vec2)\n",
    "    return dot_product / (norm_vec1 * norm_vec2)\n",
    "\n",
    "max_similarity = -1\n",
    "most_similar_pair = (0, 0)\n",
    "\n",
    "for i in range(len(data_array)):\n",
    "    for j in range(i + 1, len(data_array)):\n",
    "        similarity = cosine_similarity(data_array[i], data_array[j])\n",
    "        if similarity > max_similarity:\n",
    "            max_similarity = similarity\n",
    "            most_similar_pair = (i, j)\n",
    "            print(i,j,\"max_similarity\", max_similarity)\n",
    "\n",
    "\n",
    "print(\"Cosine Most similar pair:\", most_similar_pair)\n",
    "print(\"Cosine Similarity score:\", max_similarity)"
   ]
  },
  {
   "cell_type": "code",
   "execution_count": null,
   "metadata": {
    "execution": {
     "iopub.execute_input": "2023-08-26T07:13:42.561344Z",
     "iopub.status.busy": "2023-08-26T07:13:42.560316Z",
     "iopub.status.idle": "2023-08-26T07:13:42.571012Z",
     "shell.execute_reply": "2023-08-26T07:13:42.568718Z",
     "shell.execute_reply.started": "2023-08-26T07:13:42.561305Z"
    },
    "id": "Mf8Z3MSl5aBg"
   },
   "outputs": [],
   "source": [
    "df_3_new.iloc[most_similar_pair[0]], df_3_new.iloc[most_similar_pair[1]]"
   ]
  },
  {
   "cell_type": "code",
   "execution_count": null,
   "metadata": {
    "execution": {
     "iopub.execute_input": "2023-08-26T07:13:42.573206Z",
     "iopub.status.busy": "2023-08-26T07:13:42.572625Z",
     "iopub.status.idle": "2023-08-26T07:13:52.513829Z",
     "shell.execute_reply": "2023-08-26T07:13:52.512712Z",
     "shell.execute_reply.started": "2023-08-26T07:13:42.573171Z"
    },
    "id": "JXt-Gb2k5aBg"
   },
   "outputs": [],
   "source": [
    "max_similarity= -1\n",
    "most_similar_pair = (0, 0)\n",
    "\n",
    "for i in range(len(data_array)):\n",
    "    for j in range(i + 1, len(data_array)):\n",
    "        distance = euclidean(data_array[i], data_array[j])\n",
    "        similarity = 1 / (1 + distance)\n",
    "        if similarity > max_similarity:\n",
    "            max_similarity = similarity\n",
    "            most_similar_pair = (i, j)\n",
    "            print(i,j,\"max_similarity\", max_similarity)\n",
    "\n",
    "print(\"Euclidean Most Similar pair:\", most_similar_pair)\n",
    "print(\"Euclidean Similarity score:\", max_similarity)"
   ]
  },
  {
   "cell_type": "code",
   "execution_count": null,
   "metadata": {
    "execution": {
     "iopub.execute_input": "2023-08-26T07:13:52.517530Z",
     "iopub.status.busy": "2023-08-26T07:13:52.516380Z",
     "iopub.status.idle": "2023-08-26T07:13:52.526045Z",
     "shell.execute_reply": "2023-08-26T07:13:52.524929Z",
     "shell.execute_reply.started": "2023-08-26T07:13:52.517491Z"
    },
    "id": "57DINa5C5aBg"
   },
   "outputs": [],
   "source": [
    "df_3_new.iloc[most_similar_pair[0]], df_3_new.iloc[most_similar_pair[1]]"
   ]
  },
  {
   "cell_type": "code",
   "execution_count": null,
   "metadata": {
    "execution": {
     "iopub.execute_input": "2023-08-26T07:13:52.528210Z",
     "iopub.status.busy": "2023-08-26T07:13:52.527784Z",
     "iopub.status.idle": "2023-08-26T07:14:06.364109Z",
     "shell.execute_reply": "2023-08-26T07:14:06.362346Z",
     "shell.execute_reply.started": "2023-08-26T07:13:52.528171Z"
    },
    "id": "_A2OxZBk5aBg"
   },
   "outputs": [],
   "source": [
    "#Jaccard Similarity\n",
    "def jaccard_similarity(set1, set2):\n",
    "    intersection = len(set1.intersection(set2))\n",
    "    union = len(set1.union(set2))\n",
    "    similarity = intersection / union\n",
    "    return similarity\n",
    "\n",
    "most_similar_row = None\n",
    "max_similarity = -1\n",
    "\n",
    "for i in range(data_array.shape[0]):\n",
    "    for j in range(i+1 , data_array.shape[0]):\n",
    "        jaccard_similarity = 1 - jaccard(data_array[i], data_array[j])\n",
    "        if jaccard_similarity > max_similarity:\n",
    "            max_similarity = jaccard_similarity\n",
    "            most_similar_row = i, j\n",
    "            print(i,j, max_similarity)\n",
    "\n",
    "\n",
    "# Print the indices of the most similar rows and their Jaccard similarity score\n",
    "print(f\"Jaccard Most similar rows: {most_similar_row[0]} and {most_similar_row[1]}\")\n",
    "print(f\"Jaccard similarity score: {max_similarity}\")"
   ]
  },
  {
   "cell_type": "code",
   "execution_count": null,
   "metadata": {
    "execution": {
     "iopub.execute_input": "2023-08-26T07:14:06.366021Z",
     "iopub.status.busy": "2023-08-26T07:14:06.365398Z",
     "iopub.status.idle": "2023-08-26T07:14:06.374973Z",
     "shell.execute_reply": "2023-08-26T07:14:06.373814Z",
     "shell.execute_reply.started": "2023-08-26T07:14:06.365984Z"
    },
    "id": "RxvumIsr5aBg"
   },
   "outputs": [],
   "source": [
    "df_3_new.iloc[most_similar_row[0]], df_3_new.iloc[most_similar_row[1]]"
   ]
  },
  {
   "cell_type": "markdown",
   "metadata": {
    "id": "Ht2-0zw95aBh"
   },
   "source": [
    "**correlation between Rows**"
   ]
  },
  {
   "cell_type": "code",
   "execution_count": null,
   "metadata": {
    "execution": {
     "iopub.execute_input": "2023-08-26T07:14:42.616907Z",
     "iopub.status.busy": "2023-08-26T07:14:42.616515Z",
     "iopub.status.idle": "2023-08-26T07:14:42.622306Z",
     "shell.execute_reply": "2023-08-26T07:14:42.620740Z",
     "shell.execute_reply.started": "2023-08-26T07:14:42.616877Z"
    },
    "id": "r6Jo94Th5aBh"
   },
   "outputs": [],
   "source": [
    "from scipy.spatial.distance import euclidean, jaccard, hamming, correlation"
   ]
  },
  {
   "cell_type": "code",
   "execution_count": null,
   "metadata": {
    "execution": {
     "iopub.execute_input": "2023-08-26T07:16:05.999268Z",
     "iopub.status.busy": "2023-08-26T07:16:05.998426Z",
     "iopub.status.idle": "2023-08-26T07:16:06.009406Z",
     "shell.execute_reply": "2023-08-26T07:16:06.008360Z",
     "shell.execute_reply.started": "2023-08-26T07:16:05.999230Z"
    },
    "id": "18fgfct15aBh"
   },
   "outputs": [],
   "source": [
    "correlation(data_array[1], data_array[1])"
   ]
  },
  {
   "cell_type": "code",
   "execution_count": null,
   "metadata": {
    "execution": {
     "iopub.execute_input": "2023-08-26T07:24:27.659690Z",
     "iopub.status.busy": "2023-08-26T07:24:27.657577Z",
     "iopub.status.idle": "2023-08-26T07:25:35.522917Z",
     "shell.execute_reply": "2023-08-26T07:25:35.521964Z",
     "shell.execute_reply.started": "2023-08-26T07:24:27.659655Z"
    },
    "id": "li-x2aCb5aBh"
   },
   "outputs": [],
   "source": [
    "most_similar_row = None\n",
    "max_correlation = -1\n",
    "\n",
    "for i in range(data_array.shape[0]):\n",
    "    for j in range(i+1 , data_array.shape[0]):\n",
    "        corr = 1 - correlation(data_array[i], data_array[j])\n",
    "        if corr > max_correlation:\n",
    "            max_correlation = corr\n",
    "            most_similar_row = i, j\n",
    "            print(i,j, max_correlation)\n",
    "\n",
    "\n",
    "# Print the indices of the most similar rows and their Jaccard similarity score\n",
    "print(f\"Most correlation similar rows: {most_similar_row[0]} and {most_similar_row[1]}\")\n",
    "print(f\"correlation similarity score: {max_correlation}\")\n",
    "\n",
    "df_3_new.iloc[most_similar_row[0]], df_3_new.iloc[most_similar_row[1]]"
   ]
  },
  {
   "cell_type": "raw",
   "metadata": {
    "id": "2gQVpGzW5aBh"
   },
   "source": [
    "Q-4. Imagine you working as a sale manager now you need to predict the Revenue and whether that particular revenue is on the weekend or not and find the Informational_Duration using the Ensemble learning algorithm Dataset This is the Dataset You can use this dataset for this question."
   ]
  },
  {
   "cell_type": "code",
   "execution_count": null,
   "metadata": {
    "id": "AIFbhNfq5aBi"
   },
   "outputs": [],
   "source": [
    "import pandas as pd\n",
    "df_4 = pd.read_csv(\"DataSets/online_shoppers_intention.csv\")\n",
    "# df_4 = pd.read_csv(\"https://raw.githubusercontent.com/Dhirengit/PPT-Ineuron/main/DataSets/online_shoppers_intention.csv\")\n",
    "df_4.shape"
   ]
  },
  {
   "cell_type": "code",
   "execution_count": null,
   "metadata": {
    "id": "PpvTSUgT5aBi"
   },
   "outputs": [],
   "source": [
    "df_4.sample(10)"
   ]
  },
  {
   "cell_type": "code",
   "execution_count": null,
   "metadata": {
    "id": "v9eYqA1g5aBi"
   },
   "outputs": [],
   "source": [
    "from sklearn.preprocessing import LabelEncoder\n",
    "import copy\n",
    "\n",
    "# Data preprocessin\n",
    "df_4[\"Weekend\"] = df_4[\"Weekend\"].apply(lambda x : 1 if x else 0)\n",
    "df_4[\"Revenue\"] = df_4[\"Revenue\"].apply(lambda x : 1 if x else 0)\n",
    "\n",
    "# Encode categorical features (e.g., Month, VisitorType) using LabelEncoder\n",
    "label_encoder = LabelEncoder()\n",
    "df_4['Month'] = label_encoder.fit_transform(df_4['Month'])\n",
    "df_4['VisitorType'] = label_encoder.fit_transform(df_4['VisitorType'])"
   ]
  },
  {
   "cell_type": "code",
   "execution_count": null,
   "metadata": {
    "id": "RjqWHj0Y5aBi"
   },
   "outputs": [],
   "source": [
    "# Import necessary libraries\n",
    "from sklearn.model_selection import train_test_split\n",
    "from xgboost import XGBClassifier\n",
    "from sklearn.ensemble import RandomForestClassifier\n",
    "from sklearn.ensemble import VotingClassifier\n",
    "from sklearn.metrics import accuracy_score\n",
    "data = copy.deepcopy(df_4)\n",
    "\n",
    "# Split the data into features (X) and the target variable (y)\n",
    "X = data.drop(columns=[\"Revenue\"])\n",
    "y = data['Revenue']\n",
    "\n",
    "# Split the data into training and testing sets\n",
    "X_train, X_test, y_train, y_test = train_test_split(X, y, test_size=0.25)\n",
    "\n",
    "# Ensemble model using XGBoost and Random Forest\n",
    "xgb_model = XGBClassifier()\n",
    "rf_model = RandomForestClassifier()\n",
    "ensemble_model = VotingClassifier(estimators=[('XGB', xgb_model), ('RF', rf_model)], voting='soft')\n",
    "\n",
    "# Train the ensemble model\n",
    "ensemble_model.fit(X_train, y_train)\n",
    "\n",
    "# Make predictions\n",
    "y_pred = ensemble_model.predict(X_test)\n",
    "\n",
    "# Calculate accuracy\n",
    "accuracy = accuracy_score(y_test, y_pred)\n",
    "print(f\"Accuracy of Total data: {accuracy:.2f}\")\n",
    "\n",
    "# Predicting whether it's a weekend or not\n",
    "weekend_predictions = ensemble_model.predict(X_test)\n",
    "\n",
    "# Finding Informational_Duration\n",
    "informational_duration = X_test[['Informational_Duration', 'Weekend']]\n",
    "# print(\"informational_duration\", informational_duration)\n",
    "# Now, you can work with 'weekend_predictions' and 'informational_duration' as needed.\n"
   ]
  },
  {
   "cell_type": "markdown",
   "metadata": {
    "id": "v4m4SSal5aBj"
   },
   "source": [
    "# Train model on Weekend Dataset"
   ]
  },
  {
   "cell_type": "code",
   "execution_count": null,
   "metadata": {
    "id": "EZcNm4Rx5aBj"
   },
   "outputs": [],
   "source": [
    "weekend_dataset = copy.deepcopy(df_4)\n",
    "weekend_dataset.shape"
   ]
  },
  {
   "cell_type": "code",
   "execution_count": null,
   "metadata": {
    "id": "lzdQhpYy5aBj"
   },
   "outputs": [],
   "source": [
    "weekend_dataset = weekend_dataset[weekend_dataset[\"Weekend\"] == 1]\n",
    "weekend_dataset.shape"
   ]
  },
  {
   "cell_type": "code",
   "execution_count": null,
   "metadata": {
    "id": "FLCXxk0p5aBj"
   },
   "outputs": [],
   "source": [
    "weekend_dataset[[\"Informational_Duration\"]].sum()"
   ]
  },
  {
   "cell_type": "code",
   "execution_count": null,
   "metadata": {
    "id": "e4BydhmN5aBj"
   },
   "outputs": [],
   "source": [
    "weekend_X = data.drop(columns=[\"Revenue\"])\n",
    "weekend_y = data['Revenue']\n",
    "\n",
    "# Split the data into training and testing sets\n",
    "X_train, X_test, y_train, y_test = train_test_split(weekend_X, weekend_y, test_size=0.25)\n",
    "\n",
    "# Ensemble model using XGBoost and Random Forest\n",
    "xgb_model = XGBClassifier()\n",
    "rf_model = RandomForestClassifier()\n",
    "ensemble_model = VotingClassifier(estimators=[('XGB', xgb_model), ('RF', rf_model)], voting='soft')\n",
    "\n",
    "# Train the ensemble model\n",
    "ensemble_model.fit(X_train, y_train)\n",
    "\n",
    "# Make predictions\n",
    "y_pred = ensemble_model.predict(X_test)\n",
    "\n",
    "# Calculate accuracy\n",
    "accuracy = accuracy_score(y_test, y_pred)\n",
    "print(f\"Accuracy of Weekend data: {accuracy:.4f}\")\n",
    "\n",
    "# Predicting whether it's a weekend or not\n",
    "weekend_predictions = ensemble_model.predict(X_test)"
   ]
  },
  {
   "cell_type": "code",
   "execution_count": null,
   "metadata": {
    "id": "A6p1jYFg5aBk"
   },
   "outputs": [],
   "source": [
    "no_weekend_dataset = copy.deepcopy(df_4)\n",
    "no_weekend_dataset.shape"
   ]
  },
  {
   "cell_type": "code",
   "execution_count": null,
   "metadata": {
    "id": "KvtJomaH5aBk"
   },
   "outputs": [],
   "source": [
    "no_weekend_dataset.head()"
   ]
  },
  {
   "cell_type": "code",
   "execution_count": null,
   "metadata": {
    "id": "xW0VqTKH5aBk"
   },
   "outputs": [],
   "source": [
    "no_weekend_dataset = df_4[df_4[\"Weekend\"] == 0]\n",
    "no_weekend_dataset.shape, no_weekend_dataset[[\"Informational_Duration\"]].sum()"
   ]
  },
  {
   "cell_type": "code",
   "execution_count": null,
   "metadata": {
    "id": "09-MCc9M5aBk"
   },
   "outputs": [],
   "source": [
    "no_weekend_X = data.drop(columns=[\"Revenue\"])\n",
    "no_weekend_y = data['Revenue']\n",
    "\n",
    "# Split the data into training and testing sets\n",
    "X_train, X_test, y_train, y_test = train_test_split(no_weekend_X, no_weekend_y, test_size=0.25)\n",
    "\n",
    "# Ensemble model using XGBoost and Random Forest\n",
    "xgb_model = XGBClassifier()\n",
    "rf_model = RandomForestClassifier()\n",
    "ensemble_model = VotingClassifier(estimators=[('XGB', xgb_model), ('RF', rf_model)], voting='soft')\n",
    "\n",
    "# Train the ensemble model\n",
    "ensemble_model.fit(X_train, y_train)\n",
    "\n",
    "# Make predictions\n",
    "y_pred = ensemble_model.predict(X_test)\n",
    "\n",
    "# Calculate accuracy\n",
    "accuracy = accuracy_score(y_test, y_pred)\n",
    "print(f\"Accuracy of Without Weekend data: {accuracy:.4f}\")\n",
    "accuracy\n",
    "# Predicting whether it's a weekend or not\n",
    "weekend_predictions = ensemble_model.predict(X_test)\n",
    "weekend_predictions"
   ]
  },
  {
   "cell_type": "markdown",
   "metadata": {
    "id": "peokwRno5aBk"
   },
   "source": [
    "##### Q-5. Uber is a taxi service provider as we know, we need to predict the high booking area using an Unsupervised algorithm and price for the location using a supervised algorithm and use some map function to display the data Dataset This is the Dataset You can use this dataset for this question."
   ]
  },
  {
   "cell_type": "code",
   "execution_count": null,
   "metadata": {
    "id": "h_BwnU4_5aBl",
    "outputId": "6736e561-0d5d-468b-8aef-d3e3ed3936dd"
   },
   "outputs": [
    {
     "data": {
      "text/html": [
       "<div>\n",
       "<style scoped>\n",
       "    .dataframe tbody tr th:only-of-type {\n",
       "        vertical-align: middle;\n",
       "    }\n",
       "\n",
       "    .dataframe tbody tr th {\n",
       "        vertical-align: top;\n",
       "    }\n",
       "\n",
       "    .dataframe thead th {\n",
       "        text-align: right;\n",
       "    }\n",
       "</style>\n",
       "<table border=\"1\" class=\"dataframe\">\n",
       "  <thead>\n",
       "    <tr style=\"text-align: right;\">\n",
       "      <th></th>\n",
       "      <th>id</th>\n",
       "      <th>timestamp</th>\n",
       "      <th>hour</th>\n",
       "      <th>day</th>\n",
       "      <th>month</th>\n",
       "      <th>datetime</th>\n",
       "      <th>timezone</th>\n",
       "      <th>source</th>\n",
       "      <th>destination</th>\n",
       "      <th>cab_type</th>\n",
       "      <th>...</th>\n",
       "      <th>precipIntensityMax</th>\n",
       "      <th>uvIndexTime</th>\n",
       "      <th>temperatureMin</th>\n",
       "      <th>temperatureMinTime</th>\n",
       "      <th>temperatureMax</th>\n",
       "      <th>temperatureMaxTime</th>\n",
       "      <th>apparentTemperatureMin</th>\n",
       "      <th>apparentTemperatureMinTime</th>\n",
       "      <th>apparentTemperatureMax</th>\n",
       "      <th>apparentTemperatureMaxTime</th>\n",
       "    </tr>\n",
       "  </thead>\n",
       "  <tbody>\n",
       "    <tr>\n",
       "      <th>562498</th>\n",
       "      <td>9e36792d-fbd6-43ed-bbcb-45890262c93a</td>\n",
       "      <td>1.543810e+09</td>\n",
       "      <td>4</td>\n",
       "      <td>3</td>\n",
       "      <td>12</td>\n",
       "      <td>2018-12-03 04:07:57</td>\n",
       "      <td>America/New_York</td>\n",
       "      <td>South Station</td>\n",
       "      <td>North Station</td>\n",
       "      <td>Lyft</td>\n",
       "      <td>...</td>\n",
       "      <td>0.1055</td>\n",
       "      <td>1543770000</td>\n",
       "      <td>36.35</td>\n",
       "      <td>1543726800</td>\n",
       "      <td>52.86</td>\n",
       "      <td>1543788000</td>\n",
       "      <td>35.33</td>\n",
       "      <td>1543744800</td>\n",
       "      <td>52.19</td>\n",
       "      <td>1543788000</td>\n",
       "    </tr>\n",
       "    <tr>\n",
       "      <th>71181</th>\n",
       "      <td>65e75ed3-c129-4cdb-96b9-29f4b7da57bb</td>\n",
       "      <td>1.543542e+09</td>\n",
       "      <td>1</td>\n",
       "      <td>30</td>\n",
       "      <td>11</td>\n",
       "      <td>2018-11-30 01:43:03</td>\n",
       "      <td>America/New_York</td>\n",
       "      <td>West End</td>\n",
       "      <td>Boston University</td>\n",
       "      <td>Lyft</td>\n",
       "      <td>...</td>\n",
       "      <td>0.0000</td>\n",
       "      <td>1543510800</td>\n",
       "      <td>35.20</td>\n",
       "      <td>1543550400</td>\n",
       "      <td>44.96</td>\n",
       "      <td>1543510800</td>\n",
       "      <td>31.40</td>\n",
       "      <td>1543550400</td>\n",
       "      <td>38.85</td>\n",
       "      <td>1543510800</td>\n",
       "    </tr>\n",
       "    <tr>\n",
       "      <th>248411</th>\n",
       "      <td>35cbf10b-4034-4e46-af74-deef1a8ac2d5</td>\n",
       "      <td>1.544958e+09</td>\n",
       "      <td>11</td>\n",
       "      <td>16</td>\n",
       "      <td>12</td>\n",
       "      <td>2018-12-16 11:05:08</td>\n",
       "      <td>America/New_York</td>\n",
       "      <td>South Station</td>\n",
       "      <td>North Station</td>\n",
       "      <td>Uber</td>\n",
       "      <td>...</td>\n",
       "      <td>0.1257</td>\n",
       "      <td>1544979600</td>\n",
       "      <td>38.48</td>\n",
       "      <td>1544954400</td>\n",
       "      <td>43.61</td>\n",
       "      <td>1544990400</td>\n",
       "      <td>34.01</td>\n",
       "      <td>1545019200</td>\n",
       "      <td>38.37</td>\n",
       "      <td>1544986800</td>\n",
       "    </tr>\n",
       "    <tr>\n",
       "      <th>468050</th>\n",
       "      <td>a74cf5f8-e88e-42ee-91c7-dd0a5b50380a</td>\n",
       "      <td>1.544793e+09</td>\n",
       "      <td>13</td>\n",
       "      <td>14</td>\n",
       "      <td>12</td>\n",
       "      <td>2018-12-14 13:05:07</td>\n",
       "      <td>America/New_York</td>\n",
       "      <td>Financial District</td>\n",
       "      <td>Northeastern University</td>\n",
       "      <td>Uber</td>\n",
       "      <td>...</td>\n",
       "      <td>0.0000</td>\n",
       "      <td>1544806800</td>\n",
       "      <td>27.18</td>\n",
       "      <td>1544781600</td>\n",
       "      <td>46.65</td>\n",
       "      <td>1544814000</td>\n",
       "      <td>24.51</td>\n",
       "      <td>1544785200</td>\n",
       "      <td>43.86</td>\n",
       "      <td>1544817600</td>\n",
       "    </tr>\n",
       "    <tr>\n",
       "      <th>458880</th>\n",
       "      <td>6fe54ded-2f0d-4f4e-8286-d4cf4a45b45c</td>\n",
       "      <td>1.545156e+09</td>\n",
       "      <td>18</td>\n",
       "      <td>18</td>\n",
       "      <td>12</td>\n",
       "      <td>2018-12-18 18:00:09</td>\n",
       "      <td>America/New_York</td>\n",
       "      <td>Haymarket Square</td>\n",
       "      <td>North Station</td>\n",
       "      <td>Lyft</td>\n",
       "      <td>...</td>\n",
       "      <td>0.0028</td>\n",
       "      <td>1545152400</td>\n",
       "      <td>23.09</td>\n",
       "      <td>1545192000</td>\n",
       "      <td>38.03</td>\n",
       "      <td>1545109200</td>\n",
       "      <td>11.82</td>\n",
       "      <td>1545134400</td>\n",
       "      <td>31.92</td>\n",
       "      <td>1545109200</td>\n",
       "    </tr>\n",
       "  </tbody>\n",
       "</table>\n",
       "<p>5 rows × 57 columns</p>\n",
       "</div>"
      ],
      "text/plain": [
       "                                          id     timestamp  hour  day  month  \\\n",
       "562498  9e36792d-fbd6-43ed-bbcb-45890262c93a  1.543810e+09     4    3     12   \n",
       "71181   65e75ed3-c129-4cdb-96b9-29f4b7da57bb  1.543542e+09     1   30     11   \n",
       "248411  35cbf10b-4034-4e46-af74-deef1a8ac2d5  1.544958e+09    11   16     12   \n",
       "468050  a74cf5f8-e88e-42ee-91c7-dd0a5b50380a  1.544793e+09    13   14     12   \n",
       "458880  6fe54ded-2f0d-4f4e-8286-d4cf4a45b45c  1.545156e+09    18   18     12   \n",
       "\n",
       "                   datetime          timezone              source  \\\n",
       "562498  2018-12-03 04:07:57  America/New_York       South Station   \n",
       "71181   2018-11-30 01:43:03  America/New_York            West End   \n",
       "248411  2018-12-16 11:05:08  America/New_York       South Station   \n",
       "468050  2018-12-14 13:05:07  America/New_York  Financial District   \n",
       "458880  2018-12-18 18:00:09  America/New_York    Haymarket Square   \n",
       "\n",
       "                    destination cab_type  ... precipIntensityMax uvIndexTime  \\\n",
       "562498            North Station     Lyft  ...             0.1055  1543770000   \n",
       "71181         Boston University     Lyft  ...             0.0000  1543510800   \n",
       "248411            North Station     Uber  ...             0.1257  1544979600   \n",
       "468050  Northeastern University     Uber  ...             0.0000  1544806800   \n",
       "458880            North Station     Lyft  ...             0.0028  1545152400   \n",
       "\n",
       "        temperatureMin  temperatureMinTime  temperatureMax  \\\n",
       "562498           36.35          1543726800           52.86   \n",
       "71181            35.20          1543550400           44.96   \n",
       "248411           38.48          1544954400           43.61   \n",
       "468050           27.18          1544781600           46.65   \n",
       "458880           23.09          1545192000           38.03   \n",
       "\n",
       "        temperatureMaxTime  apparentTemperatureMin  \\\n",
       "562498          1543788000                   35.33   \n",
       "71181           1543510800                   31.40   \n",
       "248411          1544990400                   34.01   \n",
       "468050          1544814000                   24.51   \n",
       "458880          1545109200                   11.82   \n",
       "\n",
       "        apparentTemperatureMinTime  apparentTemperatureMax  \\\n",
       "562498                  1543744800                   52.19   \n",
       "71181                   1543550400                   38.85   \n",
       "248411                  1545019200                   38.37   \n",
       "468050                  1544785200                   43.86   \n",
       "458880                  1545134400                   31.92   \n",
       "\n",
       "       apparentTemperatureMaxTime  \n",
       "562498                 1543788000  \n",
       "71181                  1543510800  \n",
       "248411                 1544986800  \n",
       "468050                 1544817600  \n",
       "458880                 1545109200  \n",
       "\n",
       "[5 rows x 57 columns]"
      ]
     },
     "execution_count": 40,
     "metadata": {},
     "output_type": "execute_result"
    }
   ],
   "source": [
    "import pandas as pd\n",
    "import zipfile\n",
    "\n",
    "zip_file_path = 'DataSets/Uber_ride.zip'\n",
    "\n",
    "with zipfile.ZipFile(zip_file_path, 'r') as zip_file:\n",
    "    with zip_file.open('rideshare_kaggle.csv') as csv_file:\n",
    "        df5 = pd.read_csv(csv_file)\n",
    "\n",
    "df5.sample(5)"
   ]
  },
  {
   "cell_type": "code",
   "execution_count": null,
   "metadata": {
    "id": "-v0ORLxa5aBm",
    "outputId": "20b0f832-183a-4ed8-91f6-535b1eda379e"
   },
   "outputs": [
    {
     "data": {
      "text/plain": [
       "(693071, 57)"
      ]
     },
     "execution_count": 41,
     "metadata": {},
     "output_type": "execute_result"
    }
   ],
   "source": [
    "df5.shape"
   ]
  },
  {
   "cell_type": "code",
   "execution_count": null,
   "metadata": {
    "id": "Fc1VDLLc5aBm",
    "outputId": "aa405ba7-3b8d-4f9a-e365-7df4138db6c1"
   },
   "outputs": [
    {
     "data": {
      "text/html": [
       "<div>\n",
       "<style scoped>\n",
       "    .dataframe tbody tr th:only-of-type {\n",
       "        vertical-align: middle;\n",
       "    }\n",
       "\n",
       "    .dataframe tbody tr th {\n",
       "        vertical-align: top;\n",
       "    }\n",
       "\n",
       "    .dataframe thead th {\n",
       "        text-align: right;\n",
       "    }\n",
       "</style>\n",
       "<table border=\"1\" class=\"dataframe\">\n",
       "  <thead>\n",
       "    <tr style=\"text-align: right;\">\n",
       "      <th></th>\n",
       "      <th>id</th>\n",
       "      <th>datetime</th>\n",
       "      <th>timezone</th>\n",
       "      <th>source</th>\n",
       "      <th>destination</th>\n",
       "      <th>cab_type</th>\n",
       "      <th>product_id</th>\n",
       "      <th>name</th>\n",
       "      <th>short_summary</th>\n",
       "      <th>long_summary</th>\n",
       "      <th>icon</th>\n",
       "    </tr>\n",
       "  </thead>\n",
       "  <tbody>\n",
       "    <tr>\n",
       "      <th>604339</th>\n",
       "      <td>b40a12d3-6e0f-4839-bc40-1aed47160247</td>\n",
       "      <td>2018-12-16 01:30:05</td>\n",
       "      <td>America/New_York</td>\n",
       "      <td>Fenway</td>\n",
       "      <td>Theatre District</td>\n",
       "      <td>Lyft</td>\n",
       "      <td>lyft_lux</td>\n",
       "      <td>Lux Black</td>\n",
       "      <td>Partly Cloudy</td>\n",
       "      <td>Mostly cloudy throughout the day.</td>\n",
       "      <td>partly-cloudy-night</td>\n",
       "    </tr>\n",
       "  </tbody>\n",
       "</table>\n",
       "</div>"
      ],
      "text/plain": [
       "                                          id             datetime  \\\n",
       "604339  b40a12d3-6e0f-4839-bc40-1aed47160247  2018-12-16 01:30:05   \n",
       "\n",
       "                timezone  source       destination cab_type product_id  \\\n",
       "604339  America/New_York  Fenway  Theatre District     Lyft   lyft_lux   \n",
       "\n",
       "             name    short_summary                         long_summary  \\\n",
       "604339  Lux Black   Partly Cloudy    Mostly cloudy throughout the day.    \n",
       "\n",
       "                         icon  \n",
       "604339   partly-cloudy-night   "
      ]
     },
     "execution_count": 42,
     "metadata": {},
     "output_type": "execute_result"
    }
   ],
   "source": [
    "df5.select_dtypes(include=['object']).sample()"
   ]
  },
  {
   "cell_type": "code",
   "execution_count": null,
   "metadata": {
    "id": "QfGyEgsJ5aBm"
   },
   "outputs": [],
   "source": [
    "from sklearn.preprocessing import LabelEncoder\n",
    "df5.dropna(inplace=True)\n",
    "df5.drop(columns=[\"id\",\"datetime\",\"timestamp\",\"timezone\", \"product_id\", \"long_summary\"], inplace=True)\n",
    "\n",
    "# Encode categorical features (e.g., Month, VisitorType) using LabelEncoder\n",
    "label_encoder = LabelEncoder()\n",
    "labels = [\"icon\",\"cab_type\", \"short_summary\", \"name\", \"destination\", \"source\"]\n",
    "for label in labels:\n",
    "    df5[label] = label_encoder.fit_transform(df5[label])\n"
   ]
  },
  {
   "cell_type": "code",
   "execution_count": null,
   "metadata": {
    "id": "iFKWzaBa5aBm",
    "outputId": "4f571460-d805-4308-b4ec-27462a468909"
   },
   "outputs": [
    {
     "data": {
      "text/html": [
       "<div>\n",
       "<style scoped>\n",
       "    .dataframe tbody tr th:only-of-type {\n",
       "        vertical-align: middle;\n",
       "    }\n",
       "\n",
       "    .dataframe tbody tr th {\n",
       "        vertical-align: top;\n",
       "    }\n",
       "\n",
       "    .dataframe thead th {\n",
       "        text-align: right;\n",
       "    }\n",
       "</style>\n",
       "<table border=\"1\" class=\"dataframe\">\n",
       "  <thead>\n",
       "    <tr style=\"text-align: right;\">\n",
       "      <th></th>\n",
       "      <th>hour</th>\n",
       "      <th>day</th>\n",
       "      <th>month</th>\n",
       "      <th>source</th>\n",
       "      <th>destination</th>\n",
       "      <th>cab_type</th>\n",
       "      <th>name</th>\n",
       "      <th>price</th>\n",
       "      <th>distance</th>\n",
       "      <th>surge_multiplier</th>\n",
       "      <th>...</th>\n",
       "      <th>precipIntensityMax</th>\n",
       "      <th>uvIndexTime</th>\n",
       "      <th>temperatureMin</th>\n",
       "      <th>temperatureMinTime</th>\n",
       "      <th>temperatureMax</th>\n",
       "      <th>temperatureMaxTime</th>\n",
       "      <th>apparentTemperatureMin</th>\n",
       "      <th>apparentTemperatureMinTime</th>\n",
       "      <th>apparentTemperatureMax</th>\n",
       "      <th>apparentTemperatureMaxTime</th>\n",
       "    </tr>\n",
       "  </thead>\n",
       "  <tbody>\n",
       "    <tr>\n",
       "      <th>639885</th>\n",
       "      <td>4</td>\n",
       "      <td>3</td>\n",
       "      <td>12</td>\n",
       "      <td>4</td>\n",
       "      <td>6</td>\n",
       "      <td>1</td>\n",
       "      <td>10</td>\n",
       "      <td>7.0</td>\n",
       "      <td>1.21</td>\n",
       "      <td>1.0</td>\n",
       "      <td>...</td>\n",
       "      <td>0.1055</td>\n",
       "      <td>1543770000</td>\n",
       "      <td>36.35</td>\n",
       "      <td>1543726800</td>\n",
       "      <td>52.86</td>\n",
       "      <td>1543788000</td>\n",
       "      <td>35.33</td>\n",
       "      <td>1543744800</td>\n",
       "      <td>52.19</td>\n",
       "      <td>1543788000</td>\n",
       "    </tr>\n",
       "    <tr>\n",
       "      <th>520998</th>\n",
       "      <td>23</td>\n",
       "      <td>16</td>\n",
       "      <td>12</td>\n",
       "      <td>7</td>\n",
       "      <td>3</td>\n",
       "      <td>0</td>\n",
       "      <td>6</td>\n",
       "      <td>19.5</td>\n",
       "      <td>3.22</td>\n",
       "      <td>1.0</td>\n",
       "      <td>...</td>\n",
       "      <td>0.1252</td>\n",
       "      <td>1544979600</td>\n",
       "      <td>39.22</td>\n",
       "      <td>1544954400</td>\n",
       "      <td>43.83</td>\n",
       "      <td>1544990400</td>\n",
       "      <td>33.98</td>\n",
       "      <td>1545019200</td>\n",
       "      <td>38.38</td>\n",
       "      <td>1544986800</td>\n",
       "    </tr>\n",
       "    <tr>\n",
       "      <th>386912</th>\n",
       "      <td>20</td>\n",
       "      <td>27</td>\n",
       "      <td>11</td>\n",
       "      <td>4</td>\n",
       "      <td>3</td>\n",
       "      <td>0</td>\n",
       "      <td>3</td>\n",
       "      <td>32.5</td>\n",
       "      <td>3.80</td>\n",
       "      <td>1.0</td>\n",
       "      <td>...</td>\n",
       "      <td>0.1430</td>\n",
       "      <td>1543338000</td>\n",
       "      <td>36.34</td>\n",
       "      <td>1543377600</td>\n",
       "      <td>47.11</td>\n",
       "      <td>1543320000</td>\n",
       "      <td>32.26</td>\n",
       "      <td>1543377600</td>\n",
       "      <td>44.14</td>\n",
       "      <td>1543320000</td>\n",
       "    </tr>\n",
       "    <tr>\n",
       "      <th>598003</th>\n",
       "      <td>5</td>\n",
       "      <td>13</td>\n",
       "      <td>12</td>\n",
       "      <td>8</td>\n",
       "      <td>11</td>\n",
       "      <td>1</td>\n",
       "      <td>1</td>\n",
       "      <td>36.5</td>\n",
       "      <td>2.86</td>\n",
       "      <td>1.0</td>\n",
       "      <td>...</td>\n",
       "      <td>0.0001</td>\n",
       "      <td>1544716800</td>\n",
       "      <td>17.98</td>\n",
       "      <td>1544688000</td>\n",
       "      <td>33.82</td>\n",
       "      <td>1544731200</td>\n",
       "      <td>13.52</td>\n",
       "      <td>1544688000</td>\n",
       "      <td>32.84</td>\n",
       "      <td>1544734800</td>\n",
       "    </tr>\n",
       "    <tr>\n",
       "      <th>590248</th>\n",
       "      <td>20</td>\n",
       "      <td>27</td>\n",
       "      <td>11</td>\n",
       "      <td>0</td>\n",
       "      <td>3</td>\n",
       "      <td>0</td>\n",
       "      <td>3</td>\n",
       "      <td>16.5</td>\n",
       "      <td>1.38</td>\n",
       "      <td>1.0</td>\n",
       "      <td>...</td>\n",
       "      <td>0.1430</td>\n",
       "      <td>1543338000</td>\n",
       "      <td>36.34</td>\n",
       "      <td>1543377600</td>\n",
       "      <td>47.11</td>\n",
       "      <td>1543320000</td>\n",
       "      <td>32.26</td>\n",
       "      <td>1543377600</td>\n",
       "      <td>44.14</td>\n",
       "      <td>1543320000</td>\n",
       "    </tr>\n",
       "    <tr>\n",
       "      <th>248582</th>\n",
       "      <td>14</td>\n",
       "      <td>17</td>\n",
       "      <td>12</td>\n",
       "      <td>2</td>\n",
       "      <td>11</td>\n",
       "      <td>0</td>\n",
       "      <td>2</td>\n",
       "      <td>19.5</td>\n",
       "      <td>3.13</td>\n",
       "      <td>1.0</td>\n",
       "      <td>...</td>\n",
       "      <td>0.0185</td>\n",
       "      <td>1545066000</td>\n",
       "      <td>34.07</td>\n",
       "      <td>1545044400</td>\n",
       "      <td>41.39</td>\n",
       "      <td>1545076800</td>\n",
       "      <td>28.17</td>\n",
       "      <td>1545044400</td>\n",
       "      <td>35.93</td>\n",
       "      <td>1545076800</td>\n",
       "    </tr>\n",
       "    <tr>\n",
       "      <th>560616</th>\n",
       "      <td>15</td>\n",
       "      <td>28</td>\n",
       "      <td>11</td>\n",
       "      <td>1</td>\n",
       "      <td>2</td>\n",
       "      <td>1</td>\n",
       "      <td>9</td>\n",
       "      <td>8.0</td>\n",
       "      <td>2.32</td>\n",
       "      <td>1.0</td>\n",
       "      <td>...</td>\n",
       "      <td>0.0000</td>\n",
       "      <td>1543420800</td>\n",
       "      <td>33.70</td>\n",
       "      <td>1543399200</td>\n",
       "      <td>42.60</td>\n",
       "      <td>1543438800</td>\n",
       "      <td>29.88</td>\n",
       "      <td>1543399200</td>\n",
       "      <td>36.56</td>\n",
       "      <td>1543435200</td>\n",
       "    </tr>\n",
       "    <tr>\n",
       "      <th>683731</th>\n",
       "      <td>15</td>\n",
       "      <td>13</td>\n",
       "      <td>12</td>\n",
       "      <td>11</td>\n",
       "      <td>9</td>\n",
       "      <td>1</td>\n",
       "      <td>12</td>\n",
       "      <td>7.5</td>\n",
       "      <td>2.14</td>\n",
       "      <td>1.0</td>\n",
       "      <td>...</td>\n",
       "      <td>0.0001</td>\n",
       "      <td>1544716800</td>\n",
       "      <td>18.05</td>\n",
       "      <td>1544688000</td>\n",
       "      <td>33.92</td>\n",
       "      <td>1544731200</td>\n",
       "      <td>13.60</td>\n",
       "      <td>1544688000</td>\n",
       "      <td>32.95</td>\n",
       "      <td>1544734800</td>\n",
       "    </tr>\n",
       "    <tr>\n",
       "      <th>573244</th>\n",
       "      <td>19</td>\n",
       "      <td>28</td>\n",
       "      <td>11</td>\n",
       "      <td>6</td>\n",
       "      <td>7</td>\n",
       "      <td>1</td>\n",
       "      <td>12</td>\n",
       "      <td>8.5</td>\n",
       "      <td>0.92</td>\n",
       "      <td>1.0</td>\n",
       "      <td>...</td>\n",
       "      <td>0.0000</td>\n",
       "      <td>1543420800</td>\n",
       "      <td>33.82</td>\n",
       "      <td>1543399200</td>\n",
       "      <td>42.72</td>\n",
       "      <td>1543438800</td>\n",
       "      <td>30.19</td>\n",
       "      <td>1543399200</td>\n",
       "      <td>36.75</td>\n",
       "      <td>1543438800</td>\n",
       "    </tr>\n",
       "    <tr>\n",
       "      <th>313967</th>\n",
       "      <td>17</td>\n",
       "      <td>15</td>\n",
       "      <td>12</td>\n",
       "      <td>7</td>\n",
       "      <td>8</td>\n",
       "      <td>0</td>\n",
       "      <td>6</td>\n",
       "      <td>19.5</td>\n",
       "      <td>3.33</td>\n",
       "      <td>1.0</td>\n",
       "      <td>...</td>\n",
       "      <td>0.0077</td>\n",
       "      <td>1544893200</td>\n",
       "      <td>39.80</td>\n",
       "      <td>1544929200</td>\n",
       "      <td>54.29</td>\n",
       "      <td>1544896800</td>\n",
       "      <td>36.78</td>\n",
       "      <td>1544929200</td>\n",
       "      <td>53.62</td>\n",
       "      <td>1544896800</td>\n",
       "    </tr>\n",
       "  </tbody>\n",
       "</table>\n",
       "<p>10 rows × 51 columns</p>\n",
       "</div>"
      ],
      "text/plain": [
       "        hour  day  month  source  destination  cab_type  name  price  \\\n",
       "639885     4    3     12       4            6         1    10    7.0   \n",
       "520998    23   16     12       7            3         0     6   19.5   \n",
       "386912    20   27     11       4            3         0     3   32.5   \n",
       "598003     5   13     12       8           11         1     1   36.5   \n",
       "590248    20   27     11       0            3         0     3   16.5   \n",
       "248582    14   17     12       2           11         0     2   19.5   \n",
       "560616    15   28     11       1            2         1     9    8.0   \n",
       "683731    15   13     12      11            9         1    12    7.5   \n",
       "573244    19   28     11       6            7         1    12    8.5   \n",
       "313967    17   15     12       7            8         0     6   19.5   \n",
       "\n",
       "        distance  surge_multiplier  ...  precipIntensityMax  uvIndexTime  \\\n",
       "639885      1.21               1.0  ...              0.1055   1543770000   \n",
       "520998      3.22               1.0  ...              0.1252   1544979600   \n",
       "386912      3.80               1.0  ...              0.1430   1543338000   \n",
       "598003      2.86               1.0  ...              0.0001   1544716800   \n",
       "590248      1.38               1.0  ...              0.1430   1543338000   \n",
       "248582      3.13               1.0  ...              0.0185   1545066000   \n",
       "560616      2.32               1.0  ...              0.0000   1543420800   \n",
       "683731      2.14               1.0  ...              0.0001   1544716800   \n",
       "573244      0.92               1.0  ...              0.0000   1543420800   \n",
       "313967      3.33               1.0  ...              0.0077   1544893200   \n",
       "\n",
       "        temperatureMin  temperatureMinTime  temperatureMax  \\\n",
       "639885           36.35          1543726800           52.86   \n",
       "520998           39.22          1544954400           43.83   \n",
       "386912           36.34          1543377600           47.11   \n",
       "598003           17.98          1544688000           33.82   \n",
       "590248           36.34          1543377600           47.11   \n",
       "248582           34.07          1545044400           41.39   \n",
       "560616           33.70          1543399200           42.60   \n",
       "683731           18.05          1544688000           33.92   \n",
       "573244           33.82          1543399200           42.72   \n",
       "313967           39.80          1544929200           54.29   \n",
       "\n",
       "        temperatureMaxTime  apparentTemperatureMin  \\\n",
       "639885          1543788000                   35.33   \n",
       "520998          1544990400                   33.98   \n",
       "386912          1543320000                   32.26   \n",
       "598003          1544731200                   13.52   \n",
       "590248          1543320000                   32.26   \n",
       "248582          1545076800                   28.17   \n",
       "560616          1543438800                   29.88   \n",
       "683731          1544731200                   13.60   \n",
       "573244          1543438800                   30.19   \n",
       "313967          1544896800                   36.78   \n",
       "\n",
       "        apparentTemperatureMinTime  apparentTemperatureMax  \\\n",
       "639885                  1543744800                   52.19   \n",
       "520998                  1545019200                   38.38   \n",
       "386912                  1543377600                   44.14   \n",
       "598003                  1544688000                   32.84   \n",
       "590248                  1543377600                   44.14   \n",
       "248582                  1545044400                   35.93   \n",
       "560616                  1543399200                   36.56   \n",
       "683731                  1544688000                   32.95   \n",
       "573244                  1543399200                   36.75   \n",
       "313967                  1544929200                   53.62   \n",
       "\n",
       "        apparentTemperatureMaxTime  \n",
       "639885                  1543788000  \n",
       "520998                  1544986800  \n",
       "386912                  1543320000  \n",
       "598003                  1544734800  \n",
       "590248                  1543320000  \n",
       "248582                  1545076800  \n",
       "560616                  1543435200  \n",
       "683731                  1544734800  \n",
       "573244                  1543438800  \n",
       "313967                  1544896800  \n",
       "\n",
       "[10 rows x 51 columns]"
      ]
     },
     "execution_count": 51,
     "metadata": {},
     "output_type": "execute_result"
    }
   ],
   "source": [
    "df5.sample(10)"
   ]
  },
  {
   "cell_type": "code",
   "execution_count": null,
   "metadata": {
    "id": "UGFLiQdj5aBn",
    "outputId": "f0e9c3a5-e18e-4602-e415-66803e32d8e2"
   },
   "outputs": [
    {
     "data": {
      "text/plain": [
       "(0, (637976, 51))"
      ]
     },
     "execution_count": 50,
     "metadata": {},
     "output_type": "execute_result"
    }
   ],
   "source": [
    "# df5.isna().sum()\n",
    "df5[\"price\"].isna().sum(), df5.shape"
   ]
  },
  {
   "cell_type": "code",
   "execution_count": null,
   "metadata": {
    "id": "kmBxRZf55aBn"
   },
   "outputs": [],
   "source": [
    "import pandas as pd\n",
    "from sklearn.cluster import KMeans\n",
    "from sklearn.model_selection import train_test_split\n",
    "from sklearn.linear_model import LinearRegression\n",
    "import folium\n",
    "\n",
    "# Load and preprocess the dataset\n",
    "data = df5\n",
    "# Preprocess and feature extraction\n",
    "\n",
    "# Unsupervised Learning - Clustering\n",
    "num_clusters = 5\n",
    "kmeans = KMeans(n_clusters=num_clusters)\n",
    "data['cluster'] = kmeans.fit_predict(data)  # Use relevant features\n",
    "\n",
    "# Supervised Learning - Price Prediction\n",
    "X = data.drop(['price'], axis=1)\n",
    "y = data['price']\n",
    "X_train, X_test, y_train, y_test = train_test_split(X, y, test_size=0.2, random_state=42)\n",
    "\n",
    "model = LinearRegression()\n",
    "model.fit(X_train, y_train)\n",
    "\n",
    "# Visualization using Folium\n",
    "m = folium.Map(zoom_start=10)\n",
    "\n",
    "# Add cluster markers to the map\n",
    "for cluster_id in range(num_clusters):\n",
    "    cluster_data = data[data['cluster'] == cluster_id]\n",
    "    for index, row in cluster_data.iterrows():\n",
    "        folium.Marker([row['source'], row['source']], popup=f\"Price: Dhiren\").add_to(m)\n",
    "\n",
    "m.save('map.html')\n"
   ]
  },
  {
   "cell_type": "raw",
   "metadata": {
    "id": "hpJCRKM35aBn"
   },
   "source": [
    "Q-6. Imagine you have a dataset where you have predicted loan Eligibility using any\n",
    "4 different classification algorithms. Now you have to build a model which can\n",
    "predict loan Eligibility and you need to find the accuracy of the model and built-in\n",
    "docker and use some library to display that in frontend"
   ]
  },
  {
   "cell_type": "code",
   "execution_count": null,
   "metadata": {
    "id": "guszVf8F5aBn"
   },
   "outputs": [],
   "source": []
  },
  {
   "cell_type": "raw",
   "metadata": {
    "id": "whWLqs2Y5aBo"
   },
   "source": [
    "Q-7. Imagine you have a dataset where you need to predict the Genres of Music\n",
    "using an Unsupervised algorithm and you need to find the accuracy of the model, built-in\n",
    "docker, and use some library to display that in frontend."
   ]
  },
  {
   "cell_type": "code",
   "execution_count": 4,
   "metadata": {
    "id": "40M_Sd2n5aBo"
   },
   "outputs": [],
   "source": [
    "df7 = pd.read_csv(\"https://raw.githubusercontent.com/Dhirengit/PPT-Ineuron/main/DataSets/data7.csv\")"
   ]
  },
  {
   "cell_type": "code",
   "execution_count": 5,
   "metadata": {
    "id": "w72kV1vo5aBo"
   },
   "outputs": [],
   "source": [
    "df7.drop(columns=[\"filename\"], inplace=True)"
   ]
  },
  {
   "cell_type": "code",
   "execution_count": 6,
   "metadata": {
    "colab": {
     "base_uri": "https://localhost:8080/"
    },
    "id": "pRF2H1165aBo",
    "outputId": "be38e839-7e3c-48af-8963-79e856737708"
   },
   "outputs": [
    {
     "data": {
      "text/plain": [
       "10"
      ]
     },
     "execution_count": 6,
     "metadata": {},
     "output_type": "execute_result"
    }
   ],
   "source": [
    "df7[\"label\"].nunique()"
   ]
  },
  {
   "cell_type": "code",
   "execution_count": 7,
   "metadata": {
    "id": "O8n8r_hXAW4X"
   },
   "outputs": [],
   "source": [
    "import pandas as pd\n",
    "from sklearn.cluster import KMeans\n",
    "from sklearn.preprocessing import StandardScaler\n",
    "from sklearn.metrics import accuracy_score\n"
   ]
  },
  {
   "cell_type": "code",
   "execution_count": 8,
   "metadata": {
    "id": "vnZLb1VB5aBo"
   },
   "outputs": [],
   "source": [
    "# Drop non-numeric columns (if any)\n",
    "df7_numeric = df7.select_dtypes(include=['number'])\n",
    "\n",
    "# Standardize the data\n",
    "scaler = StandardScaler()\n",
    "df7_scaled = scaler.fit_transform(df7_numeric)\n"
   ]
  },
  {
   "cell_type": "code",
   "execution_count": 9,
   "metadata": {
    "colab": {
     "base_uri": "https://localhost:8080/"
    },
    "id": "NfkmMJNpCd3S",
    "outputId": "97729387-15f2-4f1c-8c0e-22a26742a4b8"
   },
   "outputs": [
    {
     "data": {
      "text/plain": [
       "array([[-0.57427442, -0.50201802,  0.01965207, ...,  0.11859349,\n",
       "        -1.3965024 ,  1.0464641 ],\n",
       "       [-0.84497384, -0.92400011, -0.88433656, ..., -0.76122978,\n",
       "         1.5040354 ,  0.12680789],\n",
       "       [ 1.14546309,  1.25624067, -1.5330166 , ..., -3.16164499,\n",
       "        -2.31676643, -3.20477931],\n",
       "       ...,\n",
       "       [-0.57427442, -0.85366976, -0.07129998, ..., -0.34896317,\n",
       "        -0.62264404, -0.96275995],\n",
       "       [-0.25649683, -0.85366976, -0.4186674 , ..., -0.62348331,\n",
       "         0.03517241, -0.59971023],\n",
       "       [-1.54162676, -1.48664289, -0.22728422, ..., -0.23386705,\n",
       "        -0.53844052, -0.81501978]])"
      ]
     },
     "execution_count": 9,
     "metadata": {},
     "output_type": "execute_result"
    }
   ],
   "source": [
    "df7_scaled"
   ]
  },
  {
   "cell_type": "code",
   "execution_count": 10,
   "metadata": {
    "colab": {
     "base_uri": "https://localhost:8080/"
    },
    "id": "odclxIQHDbe5",
    "outputId": "b87272ac-f2e8-4242-e9ba-554b063048be"
   },
   "outputs": [
    {
     "data": {
      "text/plain": [
       "array(['blues', 'classical', 'country', 'disco', 'hiphop', 'jazz',\n",
       "       'metal', 'pop', 'reggae', 'rock'], dtype=object)"
      ]
     },
     "execution_count": 10,
     "metadata": {},
     "output_type": "execute_result"
    }
   ],
   "source": [
    "df7[\"label\"].unique()"
   ]
  },
  {
   "cell_type": "code",
   "execution_count": 11,
   "metadata": {
    "colab": {
     "base_uri": "https://localhost:8080/"
    },
    "id": "DCLPlAeADzPo",
    "outputId": "4aa1f05f-b55c-45c9-aed2-f200a7c1318e"
   },
   "outputs": [
    {
     "data": {
      "text/plain": [
       "Index(['tempo', 'beats', 'chroma_stft', 'rmse', 'spectral_centroid',\n",
       "       'spectral_bandwidth', 'rolloff', 'zero_crossing_rate', 'mfcc1', 'mfcc2',\n",
       "       'mfcc3', 'mfcc4', 'mfcc5', 'mfcc6', 'mfcc7', 'mfcc8', 'mfcc9', 'mfcc10',\n",
       "       'mfcc11', 'mfcc12', 'mfcc13', 'mfcc14', 'mfcc15', 'mfcc16', 'mfcc17',\n",
       "       'mfcc18', 'mfcc19', 'mfcc20', 'label'],\n",
       "      dtype='object')"
      ]
     },
     "execution_count": 11,
     "metadata": {},
     "output_type": "execute_result"
    }
   ],
   "source": [
    "df7.columns"
   ]
  },
  {
   "cell_type": "code",
   "execution_count": 12,
   "metadata": {
    "colab": {
     "base_uri": "https://localhost:8080/",
     "height": 1000
    },
    "id": "Y1E25jjRDafA",
    "outputId": "79d05c75-267d-42d1-c29c-cfe6934355d4"
   },
   "outputs": [
    {
     "data": {
      "image/png": "[encoded data removed]",
      "text/plain": [
       "<Figure size 640x480 with 1 Axes>"
      ]
     },
     "metadata": {},
     "output_type": "display_data"
    },
    {
     "name": "stdout",
     "output_type": "stream",
     "text": [
      "3    152\n",
      "9    146\n",
      "2    127\n",
      "1    124\n",
      "0    119\n",
      "7     97\n",
      "8     83\n",
      "4     70\n",
      "6     48\n",
      "5     34\n",
      "Name: Cluster, dtype: int64\n"
     ]
    },
    {
     "data": {
      "image/png": "[encoded data removed]",
      "text/plain": [
       "<Figure size 640x480 with 1 Axes>"
      ]
     },
     "metadata": {},
     "output_type": "display_data"
    }
   ],
   "source": [
    "import pandas as pd\n",
    "import numpy as np\n",
    "import matplotlib.pyplot as plt\n",
    "from sklearn.cluster import KMeans\n",
    "from sklearn.preprocessing import StandardScaler\n",
    "\n",
    "\n",
    "# You should replace these with the actual feature columns from your dataset.\n",
    "X7 = df7.drop(columns=[\"label\"])  # Replace with your feature columns\n",
    "\n",
    "# Standardize the features\n",
    "scaler = StandardScaler()\n",
    "X_scaled = scaler.fit_transform(X7)\n",
    "\n",
    "# Determine the optimal number of clusters using the Elbow method\n",
    "wcss = []\n",
    "for i in range(1, 11):\n",
    "    kmeans = KMeans(n_clusters=i, init='k-means++', max_iter=300, n_init=10, random_state=0)\n",
    "    kmeans.fit(X_scaled)\n",
    "    wcss.append(kmeans.inertia_)\n",
    "\n",
    "# Plot the Elbow method graph\n",
    "plt.plot(range(1, 11), wcss)\n",
    "plt.title('Elbow Method')\n",
    "plt.xlabel('Number of clusters')\n",
    "plt.ylabel('WCSS')  # WCSS stands for \"Within-Cluster-Sum-of-Squares\"\n",
    "plt.show()\n",
    "\n",
    "# Based on the elbow method, choose the optimal number of clusters\n",
    "# Let's say you choose 3 clusters based on the plot\n",
    "\n",
    "# Apply K-Means clustering with the chosen number of clusters\n",
    "num_clusters = 10  # Replace with the optimal number of clusters you determined\n",
    "kmeans = KMeans(n_clusters=num_clusters, init='k-means++', max_iter=300, n_init=10, random_state=0)\n",
    "cluster_labels = kmeans.fit_predict(X_scaled)\n",
    "\n",
    "# Add the cluster labels to the original DataFrame\n",
    "df7['Cluster'] = cluster_labels\n",
    "\n",
    "# Analyze the clusters\n",
    "cluster_counts = df7['Cluster'].value_counts()\n",
    "print(cluster_counts)\n",
    "\n",
    "# Visualize the clusters\n",
    "# You can choose any two features to create a scatter plot or use dimensionality reduction techniques like PCA or t-SNE for visualization.\n",
    "\n",
    "# Example scatter plot (replace 'feature1' and 'feature2' with actual feature names)\n",
    "plt.scatter(df7[df7['Cluster'] == 0]['chroma_stft'], df7[df7['Cluster'] == 0]['beats'], s=100, c='red', label='Cluster 0')\n",
    "plt.scatter(df7[df7['Cluster'] == 1]['chroma_stft'], df7[df7['Cluster'] == 1]['beats'], s=100, c='blue', label='Cluster 1')\n",
    "plt.scatter(df7[df7['Cluster'] == 2]['chroma_stft'], df7[df7['Cluster'] == 2]['beats'], s=100, c='green', label='Cluster 2')\n",
    "plt.scatter(kmeans.cluster_centers_[:, 0], kmeans.cluster_centers_[:, 1], s=300, c='yellow', label='Centroids')\n",
    "plt.title('Clusters of Music Genres')\n",
    "plt.xlabel('Feature 1 chroma_stft')\n",
    "plt.ylabel('Feature 2 beats')\n",
    "plt.legend()\n",
    "plt.show()\n"
   ]
  },
  {
   "cell_type": "code",
   "execution_count": 13,
   "metadata": {
    "id": "sY3mpCy5XUYJ"
   },
   "outputs": [],
   "source": [
    "from sklearn.cluster import DBSCAN\n",
    "# Density Based Spatial Clustering Applicaton With Noise"
   ]
  },
  {
   "cell_type": "code",
   "execution_count": 38,
   "metadata": {
    "id": "7IgRNrw9-TjJ"
   },
   "outputs": [],
   "source": [
    "dbscan = DBSCAN(eps=3, min_samples=2)"
   ]
  },
  {
   "cell_type": "code",
   "execution_count": 39,
   "metadata": {
    "colab": {
     "base_uri": "https://localhost:8080/",
     "height": 75
    },
    "id": "i3P_kuZb_-kD",
    "outputId": "a6be632c-adab-48a7-d4ad-0e831b1a057b"
   },
   "outputs": [
    {
     "data": {
      "text/html": [
       "<style>#sk-container-id-9 {color: black;background-color: white;}#sk-container-id-9 pre{padding: 0;}#sk-container-id-9 div.sk-toggleable {background-color: white;}#sk-container-id-9 label.sk-toggleable__label {cursor: pointer;display: block;width: 100%;margin-bottom: 0;padding: 0.3em;box-sizing: border-box;text-align: center;}#sk-container-id-9 label.sk-toggleable__label-arrow:before {content: \"▸\";float: left;margin-right: 0.25em;color: #696969;}#sk-container-id-9 label.sk-toggleable__label-arrow:hover:before {color: black;}#sk-container-id-9 div.sk-estimator:hover label.sk-toggleable__label-arrow:before {color: black;}#sk-container-id-9 div.sk-toggleable__content {max-height: 0;max-width: 0;overflow: hidden;text-align: left;background-color: #f0f8ff;}#sk-container-id-9 div.sk-toggleable__content pre {margin: 0.2em;color: black;border-radius: 0.25em;background-color: #f0f8ff;}#sk-container-id-9 input.sk-toggleable__control:checked~div.sk-toggleable__content {max-height: 200px;max-width: 100%;overflow: auto;}#sk-container-id-9 input.sk-toggleable__control:checked~label.sk-toggleable__label-arrow:before {content: \"▾\";}#sk-container-id-9 div.sk-estimator input.sk-toggleable__control:checked~label.sk-toggleable__label {background-color: #d4ebff;}#sk-container-id-9 div.sk-label input.sk-toggleable__control:checked~label.sk-toggleable__label {background-color: #d4ebff;}#sk-container-id-9 input.sk-hidden--visually {border: 0;clip: rect(1px 1px 1px 1px);clip: rect(1px, 1px, 1px, 1px);height: 1px;margin: -1px;overflow: hidden;padding: 0;position: absolute;width: 1px;}#sk-container-id-9 div.sk-estimator {font-family: monospace;background-color: #f0f8ff;border: 1px dotted black;border-radius: 0.25em;box-sizing: border-box;margin-bottom: 0.5em;}#sk-container-id-9 div.sk-estimator:hover {background-color: #d4ebff;}#sk-container-id-9 div.sk-parallel-item::after {content: \"\";width: 100%;border-bottom: 1px solid gray;flex-grow: 1;}#sk-container-id-9 div.sk-label:hover label.sk-toggleable__label {background-color: #d4ebff;}#sk-container-id-9 div.sk-serial::before {content: \"\";position: absolute;border-left: 1px solid gray;box-sizing: border-box;top: 0;bottom: 0;left: 50%;z-index: 0;}#sk-container-id-9 div.sk-serial {display: flex;flex-direction: column;align-items: center;background-color: white;padding-right: 0.2em;padding-left: 0.2em;position: relative;}#sk-container-id-9 div.sk-item {position: relative;z-index: 1;}#sk-container-id-9 div.sk-parallel {display: flex;align-items: stretch;justify-content: center;background-color: white;position: relative;}#sk-container-id-9 div.sk-item::before, #sk-container-id-9 div.sk-parallel-item::before {content: \"\";position: absolute;border-left: 1px solid gray;box-sizing: border-box;top: 0;bottom: 0;left: 50%;z-index: -1;}#sk-container-id-9 div.sk-parallel-item {display: flex;flex-direction: column;z-index: 1;position: relative;background-color: white;}#sk-container-id-9 div.sk-parallel-item:first-child::after {align-self: flex-end;width: 50%;}#sk-container-id-9 div.sk-parallel-item:last-child::after {align-self: flex-start;width: 50%;}#sk-container-id-9 div.sk-parallel-item:only-child::after {width: 0;}#sk-container-id-9 div.sk-dashed-wrapped {border: 1px dashed gray;margin: 0 0.4em 0.5em 0.4em;box-sizing: border-box;padding-bottom: 0.4em;background-color: white;}#sk-container-id-9 div.sk-label label {font-family: monospace;font-weight: bold;display: inline-block;line-height: 1.2em;}#sk-container-id-9 div.sk-label-container {text-align: center;}#sk-container-id-9 div.sk-container {/* jupyter's `normalize.less` sets `[hidden] { display: none; }` but bootstrap.min.css set `[hidden] { display: none !important; }` so we also need the `!important` here to be able to override the default hidden behavior on the sphinx rendered scikit-learn.org. See: https://github.com/scikit-learn/scikit-learn/issues/21755 */display: inline-block !important;position: relative;}#sk-container-id-9 div.sk-text-repr-fallback {display: none;}</style><div id=\"sk-container-id-9\" class=\"sk-top-container\"><div class=\"sk-text-repr-fallback\"><pre>DBSCAN(eps=3, min_samples=2)</pre><b>In a Jupyter environment, please rerun this cell to show the HTML representation or trust the notebook. <br />On GitHub, the HTML representation is unable to render, please try loading this page with nbviewer.org.</b></div><div class=\"sk-container\" hidden><div class=\"sk-item\"><div class=\"sk-estimator sk-toggleable\"><input class=\"sk-toggleable__control sk-hidden--visually\" id=\"sk-estimator-id-9\" type=\"checkbox\" checked><label for=\"sk-estimator-id-9\" class=\"sk-toggleable__label sk-toggleable__label-arrow\">DBSCAN</label><div class=\"sk-toggleable__content\"><pre>DBSCAN(eps=3, min_samples=2)</pre></div></div></div></div></div>"
      ],
      "text/plain": [
       "DBSCAN(eps=3, min_samples=2)"
      ]
     },
     "execution_count": 39,
     "metadata": {},
     "output_type": "execute_result"
    }
   ],
   "source": [
    "dbscan.fit(X7)"
   ]
  },
  {
   "cell_type": "code",
   "execution_count": 40,
   "metadata": {
    "colab": {
     "base_uri": "https://localhost:8080/"
    },
    "id": "INd5TIpGAVhK",
    "outputId": "9cbadd05-d1eb-46bc-f905-76f1b4351bfa"
   },
   "outputs": [
    {
     "data": {
      "text/plain": [
       "array([-1, -1, -1, -1, -1, -1, -1, -1, -1, -1, -1, -1, -1, -1, -1, -1, -1,\n",
       "       -1, -1, -1, -1, -1, -1, -1, -1, -1, -1, -1, -1, -1, -1, -1, -1, -1,\n",
       "       -1, -1, -1, -1, -1, -1, -1, -1, -1, -1, -1, -1, -1, -1, -1, -1, -1,\n",
       "       -1, -1, -1, -1, -1, -1, -1, -1, -1, -1, -1, -1, -1, -1, -1, -1, -1,\n",
       "       -1, -1, -1, -1, -1, -1, -1, -1, -1, -1, -1, -1, -1, -1, -1, -1, -1,\n",
       "       -1, -1, -1, -1, -1, -1, -1, -1, -1, -1, -1, -1, -1, -1, -1, -1, -1,\n",
       "       -1, -1, -1, -1, -1, -1, -1, -1, -1, -1, -1, -1, -1, -1, -1, -1, -1,\n",
       "       -1, -1, -1, -1, -1, -1, -1, -1, -1, -1, -1, -1, -1, -1, -1, -1, -1,\n",
       "       -1, -1, -1, -1, -1, -1, -1, -1, -1, -1, -1, -1, -1, -1, -1, -1, -1,\n",
       "       -1, -1, -1, -1, -1, -1, -1, -1, -1, -1, -1, -1, -1, -1, -1, -1, -1,\n",
       "       -1, -1, -1, -1, -1, -1, -1, -1, -1, -1, -1, -1, -1, -1, -1, -1, -1,\n",
       "       -1, -1, -1, -1, -1, -1, -1, -1, -1, -1, -1, -1, -1, -1, -1, -1, -1,\n",
       "       -1, -1, -1, -1, -1, -1, -1, -1, -1, -1, -1, -1, -1, -1, -1, -1, -1,\n",
       "       -1, -1, -1, -1, -1, -1, -1, -1, -1, -1, -1, -1, -1, -1, -1, -1, -1,\n",
       "       -1, -1, -1, -1, -1, -1, -1, -1, -1, -1, -1, -1, -1, -1, -1, -1, -1,\n",
       "       -1, -1, -1, -1, -1, -1, -1, -1, -1, -1, -1, -1, -1, -1, -1, -1, -1,\n",
       "       -1, -1, -1, -1, -1, -1, -1, -1, -1, -1, -1, -1, -1, -1, -1, -1, -1,\n",
       "       -1, -1, -1, -1, -1, -1, -1, -1, -1, -1, -1, -1, -1, -1, -1, -1, -1,\n",
       "       -1, -1, -1, -1, -1, -1, -1, -1, -1, -1, -1, -1, -1, -1, -1, -1, -1,\n",
       "       -1, -1, -1, -1, -1, -1, -1, -1, -1, -1, -1, -1, -1, -1, -1, -1, -1,\n",
       "       -1, -1, -1, -1, -1, -1, -1, -1, -1, -1, -1, -1, -1, -1, -1, -1, -1,\n",
       "       -1, -1, -1, -1, -1,  0, -1, -1, -1, -1, -1,  0, -1, -1, -1, -1, -1,\n",
       "       -1, -1, -1, -1, -1, -1, -1, -1, -1, -1, -1, -1, -1, -1, -1, -1, -1,\n",
       "       -1, -1, -1, -1, -1, -1, -1, -1, -1, -1, -1, -1, -1, -1, -1, -1, -1,\n",
       "       -1, -1, -1, -1, -1, -1, -1, -1, -1, -1, -1, -1, -1, -1, -1,  1, -1,\n",
       "       -1, -1, -1, -1, -1, -1, -1, -1, -1, -1, -1, -1, -1, -1, -1, -1, -1,\n",
       "       -1, -1, -1, -1, -1, -1, -1, -1, -1, -1, -1, -1, -1, -1, -1, -1, -1,\n",
       "       -1, -1,  2, -1, -1, -1, -1,  1, -1, -1, -1, -1, -1, -1, -1, -1, -1,\n",
       "       -1, -1, -1, -1, -1, -1, -1, -1, -1,  2, -1, -1, -1, -1, -1, -1, -1,\n",
       "       -1, -1, -1, -1, -1, -1, -1, -1, -1, -1, -1, -1, -1, -1, -1, -1, -1,\n",
       "       -1, -1, -1, -1, -1, -1, -1, -1, -1, -1, -1, -1, -1, -1, -1, -1, -1,\n",
       "       -1, -1, -1, -1, -1, -1, -1, -1, -1, -1, -1, -1, -1, -1, -1, -1, -1,\n",
       "       -1, -1, -1, -1, -1, -1, -1, -1, -1, -1, -1, -1, -1, -1, -1, -1, -1,\n",
       "       -1, -1, -1, -1, -1, -1, -1, -1, -1, -1, -1, -1, -1, -1, -1, -1, -1,\n",
       "       -1, -1, -1, -1, -1, -1, -1, -1, -1, -1, -1, -1, -1, -1, -1, -1, -1,\n",
       "       -1, -1, -1, -1, -1, -1, -1, -1, -1, -1, -1, -1, -1, -1,  3,  4, -1,\n",
       "        5, -1, -1, -1,  6, -1, -1, -1, -1, -1, -1, -1,  3, -1, -1,  6,  7,\n",
       "       -1, -1, -1,  8, -1, -1, -1, -1, -1, -1, -1, -1, -1,  9, -1, -1, -1,\n",
       "       -1, -1, -1, 10, -1, -1,  7, -1, -1, -1, -1, -1, -1,  5,  8, -1, -1,\n",
       "       -1, -1, -1, -1, -1, -1, -1, -1, -1, -1, -1, -1, -1, -1, -1, -1, -1,\n",
       "       -1, -1, -1, -1, -1, -1, -1, -1, -1, -1, -1, -1, -1, -1,  9, -1, -1,\n",
       "       -1, -1, 10, -1, -1, -1, -1, -1, -1, -1, -1, -1, -1, -1, -1, -1, 11,\n",
       "       -1, -1, -1, -1, -1, -1, -1, -1, 12, -1, -1, -1, -1, -1, -1, -1, -1,\n",
       "       -1, -1, -1, -1, -1, -1, 13, 11, -1, -1, -1, -1, -1, -1, -1, -1, -1,\n",
       "       -1, -1, -1, -1, -1, 14, -1, -1, -1, -1, -1, -1, -1, -1, -1, 13, -1,\n",
       "       -1, -1, -1, 14, -1, -1, -1, -1, -1, -1, -1, -1, -1, -1, -1, -1, -1,\n",
       "       -1, -1, -1, -1, -1, -1, -1, -1, -1, -1, -1, -1, 12, -1, -1, -1, -1,\n",
       "       -1, -1, -1, -1, -1, -1, -1, -1, -1, -1, -1, -1, -1, -1, -1, -1, -1,\n",
       "       -1, -1, -1, -1, -1, -1, -1, -1, -1, -1, -1, -1, 15, -1, -1, -1, -1,\n",
       "       -1, -1, -1, -1, -1, -1, -1, -1, -1, -1, -1, -1, -1, -1, -1, -1, -1,\n",
       "       -1, -1, -1, -1, -1, -1, 15, -1, -1, -1, -1, -1, -1, -1, -1, -1, -1,\n",
       "       -1, -1, -1, -1, -1, -1, -1, -1, -1, -1, -1, -1, -1, -1, -1, -1, -1,\n",
       "       -1, -1, -1, -1, -1, -1, -1, -1, -1, -1, -1, -1, -1, -1, -1, -1, -1,\n",
       "       -1, -1, -1, -1, -1, -1, -1, -1, -1, -1, -1, -1, -1, -1, -1, -1, -1,\n",
       "       -1, -1, -1, -1, -1, -1, -1, -1, -1, -1, -1, -1, -1, -1, -1, -1, -1,\n",
       "       -1,  4, -1, -1, -1, -1, -1, -1, -1, -1, -1, -1, -1, -1, -1, -1, -1,\n",
       "       -1, -1, -1, -1, -1, -1, -1, -1, -1, -1, -1, -1, -1, -1, -1, -1, -1,\n",
       "       -1, -1, -1, -1, -1, -1, -1, -1, -1, -1, -1, -1, -1, -1, -1, -1, -1,\n",
       "       -1, -1, -1, -1, -1, -1, -1, -1, -1, -1, -1, -1, -1, -1])"
      ]
     },
     "execution_count": 40,
     "metadata": {},
     "output_type": "execute_result"
    }
   ],
   "source": [
    "dbscan.labels_"
   ]
  },
  {
   "cell_type": "markdown",
   "metadata": {
    "id": "E0aU8hYXBhZk"
   },
   "source": [
    "Q-8. Quora question pair similarity, you need to find the Similarity between two\n",
    "questions by mapping the words in the questions using TF-IDF, and using a supervised\n",
    "Algorithm you need to find the similarity between the questions."
   ]
  },
  {
   "cell_type": "code",
   "execution_count": 5,
   "metadata": {
    "id": "FZdNUoZRBox1"
   },
   "outputs": [
    {
     "data": {
      "text/plain": [
       "(404290, 6)"
      ]
     },
     "execution_count": 5,
     "metadata": {},
     "output_type": "execute_result"
    }
   ],
   "source": [
    "import pandas as pd\n",
    "\n",
    "df8 = pd.read_csv(\"DataSets/quora/train.csv\")\n",
    "\n",
    "df8.shape"
   ]
  },
  {
   "cell_type": "code",
   "execution_count": null,
   "metadata": {},
   "outputs": [],
   "source": []
  }
 ],
 "metadata": {
  "accelerator": "GPU",
  "colab": {
   "gpuType": "T4",
   "provenance": []
  },
  "kernelspec": {
   "display_name": "Python 3",
   "language": "python",
   "name": "python3"
  },
  "language_info": {
   "codemirror_mode": {
    "name": "ipython",
    "version": 3
   },
   "file_extension": ".py",
   "mimetype": "text/x-python",
   "name": "python",
   "nbconvert_exporter": "python",
   "pygments_lexer": "ipython3",
   "version": "3.8.5"
  }
 },
 "nbformat": 4,
 "nbformat_minor": 1
}
