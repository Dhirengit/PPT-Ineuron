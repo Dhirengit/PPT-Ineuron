{
 "cells": [
  {
   "cell_type": "markdown",
   "metadata": {},
   "source": [
    "### Question 1: -\n",
    "Write a program that takes a string as input, and counts the frequency of each word in the string, there might\n",
    "be repeated characters in the string. Your task is to find the highest frequency and returns the length of the\n",
    "highest-frequency word.\n",
    "\n",
    "Note - You have to write at least 2 additional test cases in which your program will run successfully and provide\n",
    "an explanation for the same.\n",
    "Example input - string = “write write write all the number from from from 1 to 100”\n",
    "Example output - 5\n",
    "Explanation - From the given string we can note that the most frequent words are “write” and “from” and\n",
    "the maximum value of both the values is “write” and its corresponding length is 5"
   ]
  },
  {
   "cell_type": "code",
   "execution_count": 1,
   "metadata": {},
   "outputs": [
    {
     "name": "stdout",
     "output_type": "stream",
     "text": [
      "6\n"
     ]
    }
   ],
   "source": [
    "from statistics import mode\n",
    "\n",
    "string  = \"number write write write all the number number from from from number 1 to 100 number\"\n",
    "\n",
    "temp = [i for i in string.split()]\n",
    "print(len(mode(temp)))\n"
   ]
  },
  {
   "cell_type": "markdown",
   "metadata": {},
   "source": [
    "###  Question 2: -\n",
    "Consider a string to be valid if all characters of the string appear the same number of times. It is also valid if\n",
    "he can remove just one character at the index in the string, and the remaining characters will occur the same\n",
    "number of times. Given a string, determine if it is valid. If so, return YES , otherwise return NO .\n",
    "\n",
    "Note - You have to write at least 2 additional test cases in which your program will run successfully and provide\n",
    "an explanation for the same.\n",
    "Example input 1 - s = “abc”. This is a valid string because frequencies are { “a”: 1, “b”: 1, “c”: 1 }\n",
    "Example output 1- YES\n",
    "Example input 2 - s “abcc”. This string is not valid as we can remove only 1 occurrence of “c”. That leaves\n",
    "character frequencies of { “a”: 1, “b”: 1 , “c”: 2 }\n",
    "Example output 2 - NO"
   ]
  },
  {
   "cell_type": "code",
   "execution_count": 2,
   "metadata": {},
   "outputs": [
    {
     "name": "stdout",
     "output_type": "stream",
     "text": [
      "NO\n"
     ]
    }
   ],
   "source": [
    "input = \"abcdd\"\n",
    "_list = {input.count(i) for i in input}\n",
    "\n",
    "if len(_list) > 1:\n",
    "    print(\"NO\")\n",
    "else :\n",
    "    print(\"Yes\")\n",
    "    \n"
   ]
  },
  {
   "cell_type": "markdown",
   "metadata": {},
   "source": [
    "### Question 3: -\n",
    "Link - https://raw.githubusercontent.com/Biuni/PokemonGO-Pokedex/master/pokedex.json\n",
    "\n",
    "Data Attributes - \n",
    "● id: Identification Number - int \n",
    "● num: Number of the pokemon in the official Pokédex - int \n",
    "● name: pokemon name - string \n",
    "● img: URL to an image of this pokemon - string \n",
    "● type: pokemon type -string \n",
    "● height: pokemon height - float\n",
    "● weight: pokemon weight - float \n",
    "● candy: type of candy used to evolve pokemon or given when transferred - string \n",
    "● candy_count: the amount of candies required to evolve - int\n",
    "● egg: Number of kilometers to travel to hatch the egg - float \n",
    "● spawn_chance: Percentage of spawn chance (NEW) - float avg_spawns: Number of this pokemon on 10.000 spawns (NEW) - int\n",
    "● spawn_time: Spawns most active at the time on this field. Spawn times are the same for all time zones and are expressed in local time. (NEW) - “minutes: seconds”\n",
    "● multipliers: Multiplier of Combat Power (CP) for calculating the CP after evolution See below - list of int\n",
    "● weakness: Types of pokemon this pokemon is weak to - list of strings \n",
    "● next_evolution: Number and Name of successive evolutions of pokemon - list of dict\n",
    "● prev_evolution: Number and Name of previous evolutions of pokemon - - list of dict"
   ]
  },
  {
   "cell_type": "code",
   "execution_count": 3,
   "metadata": {},
   "outputs": [],
   "source": [
    "import pandas as pd\n",
    "import numpy as np\n",
    "\n",
    "transactions_url = \"https://raw.githubusercontent.com/Biuni/PokemonGO-Pokedex/master/pokedex.json\"\n",
    "df_3 = pd.read_json(transactions_url)\n"
   ]
  },
  {
   "cell_type": "code",
   "execution_count": 4,
   "metadata": {},
   "outputs": [
    {
     "data": {
      "text/html": [
       "<div>\n",
       "<style scoped>\n",
       "    .dataframe tbody tr th:only-of-type {\n",
       "        vertical-align: middle;\n",
       "    }\n",
       "\n",
       "    .dataframe tbody tr th {\n",
       "        vertical-align: top;\n",
       "    }\n",
       "\n",
       "    .dataframe thead th {\n",
       "        text-align: right;\n",
       "    }\n",
       "</style>\n",
       "<table border=\"1\" class=\"dataframe\">\n",
       "  <thead>\n",
       "    <tr style=\"text-align: right;\">\n",
       "      <th></th>\n",
       "      <th>id</th>\n",
       "      <th>num</th>\n",
       "      <th>name</th>\n",
       "      <th>img</th>\n",
       "      <th>pokemon type</th>\n",
       "      <th>height</th>\n",
       "      <th>weight</th>\n",
       "      <th>candy</th>\n",
       "      <th>candy_count</th>\n",
       "      <th>egg</th>\n",
       "      <th>spawn_chance</th>\n",
       "      <th>spawn_time</th>\n",
       "      <th>multipliers</th>\n",
       "      <th>weakness</th>\n",
       "      <th>next_evolution</th>\n",
       "      <th>prev_evolution</th>\n",
       "    </tr>\n",
       "  </thead>\n",
       "  <tbody>\n",
       "    <tr>\n",
       "      <th>0</th>\n",
       "      <td>1.0</td>\n",
       "      <td>001</td>\n",
       "      <td>Bulbasaur</td>\n",
       "      <td>http://www.serebii.net/pokemongo/pokemon/001.png</td>\n",
       "      <td>Grass, Poison</td>\n",
       "      <td>0.71 m</td>\n",
       "      <td>6.9 kg</td>\n",
       "      <td>Bulbasaur Candy</td>\n",
       "      <td>25.0</td>\n",
       "      <td>2 km</td>\n",
       "      <td>0.6900</td>\n",
       "      <td>20:00</td>\n",
       "      <td>1.58</td>\n",
       "      <td>Fire ,Ice ,Flying ,Psychic</td>\n",
       "      <td>{'num': '002', 'name': 'Ivysaur'} ,{'num': '00...</td>\n",
       "      <td>-</td>\n",
       "    </tr>\n",
       "    <tr>\n",
       "      <th>1</th>\n",
       "      <td>2.0</td>\n",
       "      <td>002</td>\n",
       "      <td>Ivysaur</td>\n",
       "      <td>http://www.serebii.net/pokemongo/pokemon/002.png</td>\n",
       "      <td>Grass, Poison</td>\n",
       "      <td>0.99 m</td>\n",
       "      <td>13.0 kg</td>\n",
       "      <td>Bulbasaur Candy</td>\n",
       "      <td>100.0</td>\n",
       "      <td>Not in Eggs</td>\n",
       "      <td>0.0420</td>\n",
       "      <td>07:00</td>\n",
       "      <td>1.2 ,1.6</td>\n",
       "      <td>Fire ,Ice ,Flying ,Psychic</td>\n",
       "      <td>{'num': '003', 'name': 'Venusaur'}</td>\n",
       "      <td>{'num': '001', 'name': 'Bulbasaur'}</td>\n",
       "    </tr>\n",
       "    <tr>\n",
       "      <th>2</th>\n",
       "      <td>3.0</td>\n",
       "      <td>003</td>\n",
       "      <td>Venusaur</td>\n",
       "      <td>http://www.serebii.net/pokemongo/pokemon/003.png</td>\n",
       "      <td>Grass, Poison</td>\n",
       "      <td>2.01 m</td>\n",
       "      <td>100.0 kg</td>\n",
       "      <td>Bulbasaur Candy</td>\n",
       "      <td>-</td>\n",
       "      <td>Not in Eggs</td>\n",
       "      <td>0.0170</td>\n",
       "      <td>11:30</td>\n",
       "      <td>-</td>\n",
       "      <td>Fire ,Ice ,Flying ,Psychic</td>\n",
       "      <td>-</td>\n",
       "      <td>{'num': '001', 'name': 'Bulbasaur'} ,{'num': '...</td>\n",
       "    </tr>\n",
       "    <tr>\n",
       "      <th>3</th>\n",
       "      <td>4.0</td>\n",
       "      <td>004</td>\n",
       "      <td>Charmander</td>\n",
       "      <td>http://www.serebii.net/pokemongo/pokemon/004.png</td>\n",
       "      <td>Fire</td>\n",
       "      <td>0.61 m</td>\n",
       "      <td>8.5 kg</td>\n",
       "      <td>Charmander Candy</td>\n",
       "      <td>25</td>\n",
       "      <td>2 km</td>\n",
       "      <td>0.2530</td>\n",
       "      <td>08:45</td>\n",
       "      <td>1.65</td>\n",
       "      <td>Water ,Ground ,Rock</td>\n",
       "      <td>{'num': '005', 'name': 'Charmeleon'} ,{'num': ...</td>\n",
       "      <td>-</td>\n",
       "    </tr>\n",
       "    <tr>\n",
       "      <th>4</th>\n",
       "      <td>5.0</td>\n",
       "      <td>005</td>\n",
       "      <td>Charmeleon</td>\n",
       "      <td>http://www.serebii.net/pokemongo/pokemon/005.png</td>\n",
       "      <td>Fire</td>\n",
       "      <td>1.09 m</td>\n",
       "      <td>19.0 kg</td>\n",
       "      <td>Charmander Candy</td>\n",
       "      <td>100</td>\n",
       "      <td>Not in Eggs</td>\n",
       "      <td>0.0120</td>\n",
       "      <td>19:00</td>\n",
       "      <td>1.79</td>\n",
       "      <td>Water ,Ground ,Rock</td>\n",
       "      <td>{'num': '006', 'name': 'Charizard'}</td>\n",
       "      <td>{'num': '004', 'name': 'Charmander'}</td>\n",
       "    </tr>\n",
       "    <tr>\n",
       "      <th>...</th>\n",
       "      <td>...</td>\n",
       "      <td>...</td>\n",
       "      <td>...</td>\n",
       "      <td>...</td>\n",
       "      <td>...</td>\n",
       "      <td>...</td>\n",
       "      <td>...</td>\n",
       "      <td>...</td>\n",
       "      <td>...</td>\n",
       "      <td>...</td>\n",
       "      <td>...</td>\n",
       "      <td>...</td>\n",
       "      <td>...</td>\n",
       "      <td>...</td>\n",
       "      <td>...</td>\n",
       "      <td>...</td>\n",
       "    </tr>\n",
       "    <tr>\n",
       "      <th>146</th>\n",
       "      <td>147.0</td>\n",
       "      <td>147</td>\n",
       "      <td>Dratini</td>\n",
       "      <td>http://www.serebii.net/pokemongo/pokemon/147.png</td>\n",
       "      <td>Dragon</td>\n",
       "      <td>1.80 m</td>\n",
       "      <td>3.3 kg</td>\n",
       "      <td>Dratini Candy</td>\n",
       "      <td>25</td>\n",
       "      <td>10 km</td>\n",
       "      <td>0.3000</td>\n",
       "      <td>06:41</td>\n",
       "      <td>1.83 ,1.8399999999999999</td>\n",
       "      <td>Ice ,Dragon ,Fairy</td>\n",
       "      <td>{'num': '148', 'name': 'Dragonair'} ,{'num': '...</td>\n",
       "      <td>-</td>\n",
       "    </tr>\n",
       "    <tr>\n",
       "      <th>147</th>\n",
       "      <td>148.0</td>\n",
       "      <td>148</td>\n",
       "      <td>Dragonair</td>\n",
       "      <td>http://www.serebii.net/pokemongo/pokemon/148.png</td>\n",
       "      <td>Dragon</td>\n",
       "      <td>3.99 m</td>\n",
       "      <td>16.5 kg</td>\n",
       "      <td>Dratini Candy</td>\n",
       "      <td>100</td>\n",
       "      <td>Not in Eggs</td>\n",
       "      <td>0.0200</td>\n",
       "      <td>11:57</td>\n",
       "      <td>2.05</td>\n",
       "      <td>Ice ,Dragon ,Fairy</td>\n",
       "      <td>{'num': '149', 'name': 'Dragonite'}</td>\n",
       "      <td>{'num': '147', 'name': 'Dratini'}</td>\n",
       "    </tr>\n",
       "    <tr>\n",
       "      <th>148</th>\n",
       "      <td>149.0</td>\n",
       "      <td>149</td>\n",
       "      <td>Dragonite</td>\n",
       "      <td>http://www.serebii.net/pokemongo/pokemon/149.png</td>\n",
       "      <td>Dragon, Flying</td>\n",
       "      <td>2.21 m</td>\n",
       "      <td>210.0 kg</td>\n",
       "      <td>Dratini Candy</td>\n",
       "      <td>-</td>\n",
       "      <td>Not in Eggs</td>\n",
       "      <td>0.0011</td>\n",
       "      <td>23:38</td>\n",
       "      <td>-</td>\n",
       "      <td>Ice ,Rock ,Dragon ,Fairy</td>\n",
       "      <td>-</td>\n",
       "      <td>{'num': '147', 'name': 'Dratini'} ,{'num': '14...</td>\n",
       "    </tr>\n",
       "    <tr>\n",
       "      <th>149</th>\n",
       "      <td>150.0</td>\n",
       "      <td>150</td>\n",
       "      <td>Mewtwo</td>\n",
       "      <td>http://www.serebii.net/pokemongo/pokemon/150.png</td>\n",
       "      <td>Psychic</td>\n",
       "      <td>2.01 m</td>\n",
       "      <td>122.0 kg</td>\n",
       "      <td>None</td>\n",
       "      <td>-</td>\n",
       "      <td>Not in Eggs</td>\n",
       "      <td>0.0000</td>\n",
       "      <td>N/A</td>\n",
       "      <td>-</td>\n",
       "      <td>Bug ,Ghost ,Dark</td>\n",
       "      <td>-</td>\n",
       "      <td>-</td>\n",
       "    </tr>\n",
       "    <tr>\n",
       "      <th>150</th>\n",
       "      <td>151.0</td>\n",
       "      <td>151</td>\n",
       "      <td>Mew</td>\n",
       "      <td>http://www.serebii.net/pokemongo/pokemon/151.png</td>\n",
       "      <td>Psychic</td>\n",
       "      <td>0.41 m</td>\n",
       "      <td>4.0 kg</td>\n",
       "      <td>None</td>\n",
       "      <td>-</td>\n",
       "      <td>Not in Eggs</td>\n",
       "      <td>0.0000</td>\n",
       "      <td>N/A</td>\n",
       "      <td>-</td>\n",
       "      <td>Bug ,Ghost ,Dark</td>\n",
       "      <td>-</td>\n",
       "      <td>-</td>\n",
       "    </tr>\n",
       "  </tbody>\n",
       "</table>\n",
       "<p>151 rows × 16 columns</p>\n",
       "</div>"
      ],
      "text/plain": [
       "        id  num        name                                               img  \\\n",
       "0      1.0  001   Bulbasaur  http://www.serebii.net/pokemongo/pokemon/001.png   \n",
       "1      2.0  002     Ivysaur  http://www.serebii.net/pokemongo/pokemon/002.png   \n",
       "2      3.0  003    Venusaur  http://www.serebii.net/pokemongo/pokemon/003.png   \n",
       "3      4.0  004  Charmander  http://www.serebii.net/pokemongo/pokemon/004.png   \n",
       "4      5.0  005  Charmeleon  http://www.serebii.net/pokemongo/pokemon/005.png   \n",
       "..     ...  ...         ...                                               ...   \n",
       "146  147.0  147     Dratini  http://www.serebii.net/pokemongo/pokemon/147.png   \n",
       "147  148.0  148   Dragonair  http://www.serebii.net/pokemongo/pokemon/148.png   \n",
       "148  149.0  149   Dragonite  http://www.serebii.net/pokemongo/pokemon/149.png   \n",
       "149  150.0  150      Mewtwo  http://www.serebii.net/pokemongo/pokemon/150.png   \n",
       "150  151.0  151         Mew  http://www.serebii.net/pokemongo/pokemon/151.png   \n",
       "\n",
       "       pokemon type  height    weight             candy candy_count  \\\n",
       "0     Grass, Poison  0.71 m    6.9 kg   Bulbasaur Candy        25.0   \n",
       "1     Grass, Poison  0.99 m   13.0 kg   Bulbasaur Candy       100.0   \n",
       "2     Grass, Poison  2.01 m  100.0 kg   Bulbasaur Candy           -   \n",
       "3              Fire  0.61 m    8.5 kg  Charmander Candy          25   \n",
       "4              Fire  1.09 m   19.0 kg  Charmander Candy         100   \n",
       "..              ...     ...       ...               ...         ...   \n",
       "146          Dragon  1.80 m    3.3 kg     Dratini Candy          25   \n",
       "147          Dragon  3.99 m   16.5 kg     Dratini Candy         100   \n",
       "148  Dragon, Flying  2.21 m  210.0 kg     Dratini Candy           -   \n",
       "149         Psychic  2.01 m  122.0 kg              None           -   \n",
       "150         Psychic  0.41 m    4.0 kg              None           -   \n",
       "\n",
       "             egg  spawn_chance spawn_time               multipliers  \\\n",
       "0           2 km        0.6900      20:00                      1.58   \n",
       "1    Not in Eggs        0.0420      07:00                  1.2 ,1.6   \n",
       "2    Not in Eggs        0.0170      11:30                         -   \n",
       "3           2 km        0.2530      08:45                      1.65   \n",
       "4    Not in Eggs        0.0120      19:00                      1.79   \n",
       "..           ...           ...        ...                       ...   \n",
       "146        10 km        0.3000      06:41  1.83 ,1.8399999999999999   \n",
       "147  Not in Eggs        0.0200      11:57                      2.05   \n",
       "148  Not in Eggs        0.0011      23:38                         -   \n",
       "149  Not in Eggs        0.0000        N/A                         -   \n",
       "150  Not in Eggs        0.0000        N/A                         -   \n",
       "\n",
       "                       weakness  \\\n",
       "0    Fire ,Ice ,Flying ,Psychic   \n",
       "1    Fire ,Ice ,Flying ,Psychic   \n",
       "2    Fire ,Ice ,Flying ,Psychic   \n",
       "3           Water ,Ground ,Rock   \n",
       "4           Water ,Ground ,Rock   \n",
       "..                          ...   \n",
       "146          Ice ,Dragon ,Fairy   \n",
       "147          Ice ,Dragon ,Fairy   \n",
       "148    Ice ,Rock ,Dragon ,Fairy   \n",
       "149            Bug ,Ghost ,Dark   \n",
       "150            Bug ,Ghost ,Dark   \n",
       "\n",
       "                                        next_evolution  \\\n",
       "0    {'num': '002', 'name': 'Ivysaur'} ,{'num': '00...   \n",
       "1                   {'num': '003', 'name': 'Venusaur'}   \n",
       "2                                                    -   \n",
       "3    {'num': '005', 'name': 'Charmeleon'} ,{'num': ...   \n",
       "4                  {'num': '006', 'name': 'Charizard'}   \n",
       "..                                                 ...   \n",
       "146  {'num': '148', 'name': 'Dragonair'} ,{'num': '...   \n",
       "147                {'num': '149', 'name': 'Dragonite'}   \n",
       "148                                                  -   \n",
       "149                                                  -   \n",
       "150                                                  -   \n",
       "\n",
       "                                        prev_evolution  \n",
       "0                                                    -  \n",
       "1                  {'num': '001', 'name': 'Bulbasaur'}  \n",
       "2    {'num': '001', 'name': 'Bulbasaur'} ,{'num': '...  \n",
       "3                                                    -  \n",
       "4                 {'num': '004', 'name': 'Charmander'}  \n",
       "..                                                 ...  \n",
       "146                                                  -  \n",
       "147                  {'num': '147', 'name': 'Dratini'}  \n",
       "148  {'num': '147', 'name': 'Dratini'} ,{'num': '14...  \n",
       "149                                                  -  \n",
       "150                                                  -  \n",
       "\n",
       "[151 rows x 16 columns]"
      ]
     },
     "execution_count": 4,
     "metadata": {},
     "output_type": "execute_result"
    }
   ],
   "source": [
    "def convert(df):\n",
    "    df_data= []\n",
    "    id_arr = num_arr = name_arr =  img_arr = type_arr = height_arr = weight_arr = candy_arr = candy_count_arr = egg_arr = spawn_chance_arr = spawn_time_arr = multipliers_arr = weakness_arr = next_arr = prev_arr = np.array([])\n",
    "    for row in df.index:\n",
    "        id_arr = np.append(id_arr, df.iloc[row][0][\"id\"])\n",
    "        num_arr = np.append(num_arr, df.iloc[row][0][\"num\"])\n",
    "        name_arr = np.append(name_arr, df.iloc[row][0][\"name\"])\n",
    "        img_arr = np.append(img_arr, df.iloc[row][0][\"img\"])\n",
    "        type_arr = np.append(type_arr, \", \".join(df.iloc[row][0][\"type\"]))\n",
    "        height_arr = np.append(height_arr, df.iloc[row][0][\"height\"])\n",
    "        weight_arr = np.append(weight_arr, df.iloc[row][0][\"weight\"])\n",
    "        candy_arr = np.append(candy_arr, df.iloc[row][0][\"candy\"])\n",
    "        candy_count_arr = np.append(candy_count_arr, df.iloc[row][0][\"candy_count\"]) if \"candy_count\" in df.iloc[row][0] else np.append(candy_count_arr, \"-\")\n",
    "        egg_arr = np.append(egg_arr, df.iloc[row][0][\"egg\"])\n",
    "        spawn_chance_arr = np.append(spawn_chance_arr, df.iloc[row][0][\"spawn_chance\"])\n",
    "        spawn_time_arr = np.append(spawn_time_arr, df.iloc[row][0][\"spawn_time\"])\n",
    "        multipliers_arr = np.append(multipliers_arr, (\" ,\".join(str(i) for i in df.iloc[row][0][\"multipliers\"]))) if df.iloc[row][0][\"multipliers\"] not in (\"None\", None, \"\") else np.append(multipliers_arr, \"-\")\n",
    "        weakness_arr = np.append(weakness_arr, \" ,\".join(df.iloc[row][0][\"weaknesses\"]))\n",
    "        next_arr = np.append(next_arr, (\" ,\".join(str(i) for i in df.iloc[row][0][\"next_evolution\"]))) if \"next_evolution\" in df.iloc[row][0] else np.append(next_arr, \"-\")\n",
    "        prev_arr = np.append(prev_arr, (\" ,\".join(str(i) for i in df.iloc[row][0][\"prev_evolution\"]))) if \"prev_evolution\" in df.iloc[row][0] else np.append(prev_arr, \"-\")\n",
    "\n",
    "    df_data = {\n",
    "        \"id\": id_arr, \n",
    "        \"num\": num_arr, \n",
    "        \"name\": name_arr, \n",
    "        \"img\": img_arr,\n",
    "        \"pokemon type\":type_arr,\n",
    "        \"height\": height_arr,\n",
    "        \"weight\": weight_arr,\n",
    "        \"candy\": candy_arr,\n",
    "        \"candy_count\": candy_count_arr,\n",
    "        \"egg\": egg_arr,\n",
    "        \"spawn_chance\": spawn_chance_arr,\n",
    "        \"spawn_time\": spawn_time_arr,\n",
    "        \"multipliers\": multipliers_arr,\n",
    "        \"weakness\": weakness_arr,\n",
    "        \"next_evolution\": next_arr,\n",
    "        \"prev_evolution\": prev_arr,\n",
    "        }\n",
    "    \n",
    "    return pd.DataFrame(data=df_data)\n",
    "\n",
    "\n",
    "new_df_3 = convert(df_3)\n",
    "new_df_3"
   ]
  },
  {
   "cell_type": "code",
   "execution_count": 5,
   "metadata": {},
   "outputs": [],
   "source": [
    "# !pip install pandas xlsxwriter\n",
    "# !pip install requests"
   ]
  },
  {
   "cell_type": "code",
   "execution_count": 6,
   "metadata": {},
   "outputs": [],
   "source": [
    "excel_writer = pd.ExcelWriter(\"python_task3.xlsx\", engine='xlsxwriter')\n",
    "\n",
    "new_df_3.to_excel(excel_writer)\n",
    "\n",
    "excel_writer.save()"
   ]
  },
  {
   "cell_type": "markdown",
   "metadata": {},
   "source": [
    "###  Question 4 -\n",
    "Write a program to download the data from the link given below and then read the data and convert the into\n",
    "the proper structure and return it as a CSV file.\n",
    "Link - https://data.nasa.gov/resource/y77d-th95.json\n",
    "Note - Write code comments wherever needed for code understanding.\n",
    "\n",
    "\n",
    "Excepted Output Data Attributes\n",
    "● id - ID of Earth\n",
    "● Name of Earth Meteorite - string \n",
    "● Meteorite - int \n",
    "● nametype - string \n",
    "● recclass - string\n",
    "● mass - Mass of Earth Meteorite - float year - Year at which Earth\n",
    "● Meteorite was hit - datetime format reclat - float recclong - float\n",
    "● point coordinates - list of int"
   ]
  },
  {
   "cell_type": "code",
   "execution_count": 7,
   "metadata": {},
   "outputs": [
    {
     "data": {
      "text/html": [
       "<div>\n",
       "<style scoped>\n",
       "    .dataframe tbody tr th:only-of-type {\n",
       "        vertical-align: middle;\n",
       "    }\n",
       "\n",
       "    .dataframe tbody tr th {\n",
       "        vertical-align: top;\n",
       "    }\n",
       "\n",
       "    .dataframe thead th {\n",
       "        text-align: right;\n",
       "    }\n",
       "</style>\n",
       "<table border=\"1\" class=\"dataframe\">\n",
       "  <thead>\n",
       "    <tr style=\"text-align: right;\">\n",
       "      <th></th>\n",
       "      <th>name</th>\n",
       "      <th>id</th>\n",
       "      <th>nametype</th>\n",
       "      <th>recclass</th>\n",
       "      <th>mass</th>\n",
       "      <th>fall</th>\n",
       "      <th>year</th>\n",
       "      <th>reclat</th>\n",
       "      <th>reclong</th>\n",
       "      <th>geolocation</th>\n",
       "      <th>:@computed_region_cbhk_fwbd</th>\n",
       "      <th>:@computed_region_nnqa_25f4</th>\n",
       "    </tr>\n",
       "  </thead>\n",
       "  <tbody>\n",
       "    <tr>\n",
       "      <th>0</th>\n",
       "      <td>Aachen</td>\n",
       "      <td>1</td>\n",
       "      <td>Valid</td>\n",
       "      <td>L5</td>\n",
       "      <td>21.0</td>\n",
       "      <td>Fell</td>\n",
       "      <td>1880-01-01T00:00:00.000</td>\n",
       "      <td>50.77500</td>\n",
       "      <td>6.08333</td>\n",
       "      <td>{'type': 'Point', 'coordinates': [6.08333, 50....</td>\n",
       "      <td>NaN</td>\n",
       "      <td>NaN</td>\n",
       "    </tr>\n",
       "    <tr>\n",
       "      <th>1</th>\n",
       "      <td>Aarhus</td>\n",
       "      <td>2</td>\n",
       "      <td>Valid</td>\n",
       "      <td>H6</td>\n",
       "      <td>720.0</td>\n",
       "      <td>Fell</td>\n",
       "      <td>1951-01-01T00:00:00.000</td>\n",
       "      <td>56.18333</td>\n",
       "      <td>10.23333</td>\n",
       "      <td>{'type': 'Point', 'coordinates': [10.23333, 56...</td>\n",
       "      <td>NaN</td>\n",
       "      <td>NaN</td>\n",
       "    </tr>\n",
       "    <tr>\n",
       "      <th>2</th>\n",
       "      <td>Abee</td>\n",
       "      <td>6</td>\n",
       "      <td>Valid</td>\n",
       "      <td>EH4</td>\n",
       "      <td>107000.0</td>\n",
       "      <td>Fell</td>\n",
       "      <td>1952-01-01T00:00:00.000</td>\n",
       "      <td>54.21667</td>\n",
       "      <td>-113.00000</td>\n",
       "      <td>{'type': 'Point', 'coordinates': [-113, 54.216...</td>\n",
       "      <td>NaN</td>\n",
       "      <td>NaN</td>\n",
       "    </tr>\n",
       "    <tr>\n",
       "      <th>3</th>\n",
       "      <td>Acapulco</td>\n",
       "      <td>10</td>\n",
       "      <td>Valid</td>\n",
       "      <td>Acapulcoite</td>\n",
       "      <td>1914.0</td>\n",
       "      <td>Fell</td>\n",
       "      <td>1976-01-01T00:00:00.000</td>\n",
       "      <td>16.88333</td>\n",
       "      <td>-99.90000</td>\n",
       "      <td>{'type': 'Point', 'coordinates': [-99.9, 16.88...</td>\n",
       "      <td>NaN</td>\n",
       "      <td>NaN</td>\n",
       "    </tr>\n",
       "    <tr>\n",
       "      <th>4</th>\n",
       "      <td>Achiras</td>\n",
       "      <td>370</td>\n",
       "      <td>Valid</td>\n",
       "      <td>L6</td>\n",
       "      <td>780.0</td>\n",
       "      <td>Fell</td>\n",
       "      <td>1902-01-01T00:00:00.000</td>\n",
       "      <td>-33.16667</td>\n",
       "      <td>-64.95000</td>\n",
       "      <td>{'type': 'Point', 'coordinates': [-64.95, -33....</td>\n",
       "      <td>NaN</td>\n",
       "      <td>NaN</td>\n",
       "    </tr>\n",
       "  </tbody>\n",
       "</table>\n",
       "</div>"
      ],
      "text/plain": [
       "       name   id nametype     recclass      mass  fall  \\\n",
       "0    Aachen    1    Valid           L5      21.0  Fell   \n",
       "1    Aarhus    2    Valid           H6     720.0  Fell   \n",
       "2      Abee    6    Valid          EH4  107000.0  Fell   \n",
       "3  Acapulco   10    Valid  Acapulcoite    1914.0  Fell   \n",
       "4   Achiras  370    Valid           L6     780.0  Fell   \n",
       "\n",
       "                      year    reclat    reclong  \\\n",
       "0  1880-01-01T00:00:00.000  50.77500    6.08333   \n",
       "1  1951-01-01T00:00:00.000  56.18333   10.23333   \n",
       "2  1952-01-01T00:00:00.000  54.21667 -113.00000   \n",
       "3  1976-01-01T00:00:00.000  16.88333  -99.90000   \n",
       "4  1902-01-01T00:00:00.000 -33.16667  -64.95000   \n",
       "\n",
       "                                         geolocation  \\\n",
       "0  {'type': 'Point', 'coordinates': [6.08333, 50....   \n",
       "1  {'type': 'Point', 'coordinates': [10.23333, 56...   \n",
       "2  {'type': 'Point', 'coordinates': [-113, 54.216...   \n",
       "3  {'type': 'Point', 'coordinates': [-99.9, 16.88...   \n",
       "4  {'type': 'Point', 'coordinates': [-64.95, -33....   \n",
       "\n",
       "   :@computed_region_cbhk_fwbd  :@computed_region_nnqa_25f4  \n",
       "0                          NaN                          NaN  \n",
       "1                          NaN                          NaN  \n",
       "2                          NaN                          NaN  \n",
       "3                          NaN                          NaN  \n",
       "4                          NaN                          NaN  "
      ]
     },
     "execution_count": 7,
     "metadata": {},
     "output_type": "execute_result"
    }
   ],
   "source": [
    "df_4 = pd.read_json(\"https://data.nasa.gov/resource/y77d-th95.json\")\n",
    "df_4.head()"
   ]
  },
  {
   "cell_type": "code",
   "execution_count": 8,
   "metadata": {},
   "outputs": [
    {
     "data": {
      "text/html": [
       "<div>\n",
       "<style scoped>\n",
       "    .dataframe tbody tr th:only-of-type {\n",
       "        vertical-align: middle;\n",
       "    }\n",
       "\n",
       "    .dataframe tbody tr th {\n",
       "        vertical-align: top;\n",
       "    }\n",
       "\n",
       "    .dataframe thead th {\n",
       "        text-align: right;\n",
       "    }\n",
       "</style>\n",
       "<table border=\"1\" class=\"dataframe\">\n",
       "  <thead>\n",
       "    <tr style=\"text-align: right;\">\n",
       "      <th></th>\n",
       "      <th>name</th>\n",
       "      <th>id</th>\n",
       "      <th>nametype</th>\n",
       "      <th>recclass</th>\n",
       "      <th>mass</th>\n",
       "      <th>fall</th>\n",
       "      <th>year</th>\n",
       "      <th>reclat</th>\n",
       "      <th>reclong</th>\n",
       "      <th>geolocation</th>\n",
       "    </tr>\n",
       "  </thead>\n",
       "  <tbody>\n",
       "    <tr>\n",
       "      <th>0</th>\n",
       "      <td>Aachen</td>\n",
       "      <td>1</td>\n",
       "      <td>Valid</td>\n",
       "      <td>L5</td>\n",
       "      <td>21.0</td>\n",
       "      <td>Fell</td>\n",
       "      <td>1880-01-01T00:00:00.000</td>\n",
       "      <td>50.77500</td>\n",
       "      <td>6.08333</td>\n",
       "      <td>{'type': 'Point', 'coordinates': [6.08333, 50....</td>\n",
       "    </tr>\n",
       "    <tr>\n",
       "      <th>1</th>\n",
       "      <td>Aarhus</td>\n",
       "      <td>2</td>\n",
       "      <td>Valid</td>\n",
       "      <td>H6</td>\n",
       "      <td>720.0</td>\n",
       "      <td>Fell</td>\n",
       "      <td>1951-01-01T00:00:00.000</td>\n",
       "      <td>56.18333</td>\n",
       "      <td>10.23333</td>\n",
       "      <td>{'type': 'Point', 'coordinates': [10.23333, 56...</td>\n",
       "    </tr>\n",
       "    <tr>\n",
       "      <th>2</th>\n",
       "      <td>Abee</td>\n",
       "      <td>6</td>\n",
       "      <td>Valid</td>\n",
       "      <td>EH4</td>\n",
       "      <td>107000.0</td>\n",
       "      <td>Fell</td>\n",
       "      <td>1952-01-01T00:00:00.000</td>\n",
       "      <td>54.21667</td>\n",
       "      <td>-113.00000</td>\n",
       "      <td>{'type': 'Point', 'coordinates': [-113, 54.216...</td>\n",
       "    </tr>\n",
       "    <tr>\n",
       "      <th>3</th>\n",
       "      <td>Acapulco</td>\n",
       "      <td>10</td>\n",
       "      <td>Valid</td>\n",
       "      <td>Acapulcoite</td>\n",
       "      <td>1914.0</td>\n",
       "      <td>Fell</td>\n",
       "      <td>1976-01-01T00:00:00.000</td>\n",
       "      <td>16.88333</td>\n",
       "      <td>-99.90000</td>\n",
       "      <td>{'type': 'Point', 'coordinates': [-99.9, 16.88...</td>\n",
       "    </tr>\n",
       "    <tr>\n",
       "      <th>4</th>\n",
       "      <td>Achiras</td>\n",
       "      <td>370</td>\n",
       "      <td>Valid</td>\n",
       "      <td>L6</td>\n",
       "      <td>780.0</td>\n",
       "      <td>Fell</td>\n",
       "      <td>1902-01-01T00:00:00.000</td>\n",
       "      <td>-33.16667</td>\n",
       "      <td>-64.95000</td>\n",
       "      <td>{'type': 'Point', 'coordinates': [-64.95, -33....</td>\n",
       "    </tr>\n",
       "    <tr>\n",
       "      <th>...</th>\n",
       "      <td>...</td>\n",
       "      <td>...</td>\n",
       "      <td>...</td>\n",
       "      <td>...</td>\n",
       "      <td>...</td>\n",
       "      <td>...</td>\n",
       "      <td>...</td>\n",
       "      <td>...</td>\n",
       "      <td>...</td>\n",
       "      <td>...</td>\n",
       "    </tr>\n",
       "    <tr>\n",
       "      <th>995</th>\n",
       "      <td>Tirupati</td>\n",
       "      <td>24009</td>\n",
       "      <td>Valid</td>\n",
       "      <td>H6</td>\n",
       "      <td>230.0</td>\n",
       "      <td>Fell</td>\n",
       "      <td>1934-01-01T00:00:00.000</td>\n",
       "      <td>13.63333</td>\n",
       "      <td>79.41667</td>\n",
       "      <td>{'type': 'Point', 'coordinates': [79.41667, 13...</td>\n",
       "    </tr>\n",
       "    <tr>\n",
       "      <th>996</th>\n",
       "      <td>Tissint</td>\n",
       "      <td>54823</td>\n",
       "      <td>Valid</td>\n",
       "      <td>Martian (shergottite)</td>\n",
       "      <td>7000.0</td>\n",
       "      <td>Fell</td>\n",
       "      <td>2011-01-01T00:00:00.000</td>\n",
       "      <td>29.48195</td>\n",
       "      <td>-7.61123</td>\n",
       "      <td>{'type': 'Point', 'coordinates': [-7.61123, 29...</td>\n",
       "    </tr>\n",
       "    <tr>\n",
       "      <th>997</th>\n",
       "      <td>Tjabe</td>\n",
       "      <td>24011</td>\n",
       "      <td>Valid</td>\n",
       "      <td>H6</td>\n",
       "      <td>20000.0</td>\n",
       "      <td>Fell</td>\n",
       "      <td>1869-01-01T00:00:00.000</td>\n",
       "      <td>-7.08333</td>\n",
       "      <td>111.53333</td>\n",
       "      <td>{'type': 'Point', 'coordinates': [111.53333, -...</td>\n",
       "    </tr>\n",
       "    <tr>\n",
       "      <th>998</th>\n",
       "      <td>Tjerebon</td>\n",
       "      <td>24012</td>\n",
       "      <td>Valid</td>\n",
       "      <td>L5</td>\n",
       "      <td>16500.0</td>\n",
       "      <td>Fell</td>\n",
       "      <td>1922-01-01T00:00:00.000</td>\n",
       "      <td>-6.66667</td>\n",
       "      <td>106.58333</td>\n",
       "      <td>{'type': 'Point', 'coordinates': [106.58333, -...</td>\n",
       "    </tr>\n",
       "    <tr>\n",
       "      <th>999</th>\n",
       "      <td>Tomakovka</td>\n",
       "      <td>24019</td>\n",
       "      <td>Valid</td>\n",
       "      <td>LL6</td>\n",
       "      <td>600.0</td>\n",
       "      <td>Fell</td>\n",
       "      <td>1905-01-01T00:00:00.000</td>\n",
       "      <td>47.85000</td>\n",
       "      <td>34.76667</td>\n",
       "      <td>{'type': 'Point', 'coordinates': [34.76667, 47...</td>\n",
       "    </tr>\n",
       "  </tbody>\n",
       "</table>\n",
       "<p>1000 rows × 10 columns</p>\n",
       "</div>"
      ],
      "text/plain": [
       "          name     id nametype               recclass      mass  fall  \\\n",
       "0       Aachen      1    Valid                     L5      21.0  Fell   \n",
       "1       Aarhus      2    Valid                     H6     720.0  Fell   \n",
       "2         Abee      6    Valid                    EH4  107000.0  Fell   \n",
       "3     Acapulco     10    Valid            Acapulcoite    1914.0  Fell   \n",
       "4      Achiras    370    Valid                     L6     780.0  Fell   \n",
       "..         ...    ...      ...                    ...       ...   ...   \n",
       "995   Tirupati  24009    Valid                     H6     230.0  Fell   \n",
       "996    Tissint  54823    Valid  Martian (shergottite)    7000.0  Fell   \n",
       "997      Tjabe  24011    Valid                     H6   20000.0  Fell   \n",
       "998   Tjerebon  24012    Valid                     L5   16500.0  Fell   \n",
       "999  Tomakovka  24019    Valid                    LL6     600.0  Fell   \n",
       "\n",
       "                        year    reclat    reclong  \\\n",
       "0    1880-01-01T00:00:00.000  50.77500    6.08333   \n",
       "1    1951-01-01T00:00:00.000  56.18333   10.23333   \n",
       "2    1952-01-01T00:00:00.000  54.21667 -113.00000   \n",
       "3    1976-01-01T00:00:00.000  16.88333  -99.90000   \n",
       "4    1902-01-01T00:00:00.000 -33.16667  -64.95000   \n",
       "..                       ...       ...        ...   \n",
       "995  1934-01-01T00:00:00.000  13.63333   79.41667   \n",
       "996  2011-01-01T00:00:00.000  29.48195   -7.61123   \n",
       "997  1869-01-01T00:00:00.000  -7.08333  111.53333   \n",
       "998  1922-01-01T00:00:00.000  -6.66667  106.58333   \n",
       "999  1905-01-01T00:00:00.000  47.85000   34.76667   \n",
       "\n",
       "                                           geolocation  \n",
       "0    {'type': 'Point', 'coordinates': [6.08333, 50....  \n",
       "1    {'type': 'Point', 'coordinates': [10.23333, 56...  \n",
       "2    {'type': 'Point', 'coordinates': [-113, 54.216...  \n",
       "3    {'type': 'Point', 'coordinates': [-99.9, 16.88...  \n",
       "4    {'type': 'Point', 'coordinates': [-64.95, -33....  \n",
       "..                                                 ...  \n",
       "995  {'type': 'Point', 'coordinates': [79.41667, 13...  \n",
       "996  {'type': 'Point', 'coordinates': [-7.61123, 29...  \n",
       "997  {'type': 'Point', 'coordinates': [111.53333, -...  \n",
       "998  {'type': 'Point', 'coordinates': [106.58333, -...  \n",
       "999  {'type': 'Point', 'coordinates': [34.76667, 47...  \n",
       "\n",
       "[1000 rows x 10 columns]"
      ]
     },
     "execution_count": 8,
     "metadata": {},
     "output_type": "execute_result"
    }
   ],
   "source": [
    "# df_4_new = df_4.loc[:, [\"name\", \"id\", \"nametype\", \"recclass\", \"mass\", \"fall\", \"year\", \"reclat\", \"reclong\", \"geolocation\"]] # Get columns using loc by name\n",
    "df_4_new = df_4[df_4.columns[:10]] # Get Columns Using Masking\n",
    "df_4_new"
   ]
  },
  {
   "cell_type": "code",
   "execution_count": 9,
   "metadata": {},
   "outputs": [],
   "source": [
    "df_4_new.to_csv(\"python_task4.csv\", index=False ) # Save .csv file"
   ]
  },
  {
   "cell_type": "markdown",
   "metadata": {},
   "source": [
    "### Question 5 -\n",
    "Write a program to download the data from the given API link and then extract the following data with\n",
    "proper formatting\n",
    "\n",
    "Link - http://api.tvmaze.com/singlesearch/shows?q=westworld&embed=episodes\n",
    "Note - Write proper code comments wherever needed for the code understanding\n",
    "\n",
    "Excepted Output Data Attributes -\n",
    "● id - int \n",
    "● url - string\n",
    "● name - string \n",
    "● season - int \n",
    "● number - int\n",
    "● type - string \n",
    "● airdate - date format \n",
    "● airtime - 12-hour time format\n",
    "● runtime - float\n",
    "● average rating - float\n",
    "● summary - string without html tags\n",
    "● medium image link - string\n",
    "● Original image link - string"
   ]
  },
  {
   "cell_type": "code",
   "execution_count": 10,
   "metadata": {},
   "outputs": [
    {
     "data": {
      "text/html": [
       "<div>\n",
       "<style scoped>\n",
       "    .dataframe tbody tr th:only-of-type {\n",
       "        vertical-align: middle;\n",
       "    }\n",
       "\n",
       "    .dataframe tbody tr th {\n",
       "        vertical-align: top;\n",
       "    }\n",
       "\n",
       "    .dataframe thead th {\n",
       "        text-align: right;\n",
       "    }\n",
       "</style>\n",
       "<table border=\"1\" class=\"dataframe\">\n",
       "  <thead>\n",
       "    <tr style=\"text-align: right;\">\n",
       "      <th></th>\n",
       "      <th>id</th>\n",
       "      <th>url</th>\n",
       "      <th>name</th>\n",
       "      <th>season</th>\n",
       "      <th>number</th>\n",
       "      <th>type</th>\n",
       "      <th>airdate</th>\n",
       "      <th>airtime</th>\n",
       "      <th>airstamp</th>\n",
       "      <th>runtime</th>\n",
       "      <th>rating</th>\n",
       "      <th>image</th>\n",
       "      <th>summary</th>\n",
       "      <th>_links</th>\n",
       "    </tr>\n",
       "  </thead>\n",
       "  <tbody>\n",
       "    <tr>\n",
       "      <th>1</th>\n",
       "      <td>911201</td>\n",
       "      <td>https://www.tvmaze.com/episodes/911201/westwor...</td>\n",
       "      <td>Chestnut</td>\n",
       "      <td>1</td>\n",
       "      <td>2</td>\n",
       "      <td>regular</td>\n",
       "      <td>2016-10-09</td>\n",
       "      <td>21:00</td>\n",
       "      <td>2016-10-10T01:00:00+00:00</td>\n",
       "      <td>60</td>\n",
       "      <td>{'average': 7.7}</td>\n",
       "      <td>{'medium': 'https://static.tvmaze.com/uploads/...</td>\n",
       "      <td>&lt;p&gt;Bernard suspects that someone is sabotaging...</td>\n",
       "      <td>{'self': {'href': 'https://api.tvmaze.com/epis...</td>\n",
       "    </tr>\n",
       "  </tbody>\n",
       "</table>\n",
       "</div>"
      ],
      "text/plain": [
       "       id                                                url      name  \\\n",
       "1  911201  https://www.tvmaze.com/episodes/911201/westwor...  Chestnut   \n",
       "\n",
       "   season  number     type     airdate airtime                   airstamp  \\\n",
       "1       1       2  regular  2016-10-09   21:00  2016-10-10T01:00:00+00:00   \n",
       "\n",
       "   runtime            rating  \\\n",
       "1       60  {'average': 7.7}   \n",
       "\n",
       "                                               image  \\\n",
       "1  {'medium': 'https://static.tvmaze.com/uploads/...   \n",
       "\n",
       "                                             summary  \\\n",
       "1  <p>Bernard suspects that someone is sabotaging...   \n",
       "\n",
       "                                              _links  \n",
       "1  {'self': {'href': 'https://api.tvmaze.com/epis...  "
      ]
     },
     "execution_count": 10,
     "metadata": {},
     "output_type": "execute_result"
    }
   ],
   "source": [
    "import requests\n",
    "import re\n",
    "read_data = requests.get('http://api.tvmaze.com/singlesearch/shows?q=westworld&embed=episodes') # read data via api using requests library\n",
    "json_data = read_data.json() # data convert to json\n",
    "df_5 = pd.DataFrame(json_data[\"_embedded\"][\"episodes\"]) # convert data json to Pandas DataFrame\n",
    "df_5.sample() \n"
   ]
  },
  {
   "cell_type": "code",
   "execution_count": 11,
   "metadata": {},
   "outputs": [],
   "source": [
    "df_5[\"rating\"] = df_5[\"rating\"].apply(lambda text: [i for i in text.values()][-1]) # uing lambda function get rating values\n",
    "df_5[\"summary\"] = df_5[\"summary\"].apply(lambda text: re.sub('<.*?>','', text)) # remove Html tag via regex"
   ]
  },
  {
   "cell_type": "code",
   "execution_count": 12,
   "metadata": {},
   "outputs": [],
   "source": [
    "df_5[\"medium_image_link\"] = df_5[\"image\"].apply(lambda text: [value for key, value in text.items() if key == \"medium\"][-1]) # Get medium link using lambda\n",
    "df_5[\"original_image_link\"] = df_5[\"image\"].apply(lambda text: [value for key, value in text.items() if key == \"original\"][-1]) # Get Original image link using lambda"
   ]
  },
  {
   "cell_type": "code",
   "execution_count": 13,
   "metadata": {},
   "outputs": [],
   "source": [
    "df_5.drop(columns=[\"image\", \"_links\", \"airstamp\"], inplace=True) # remove others columns \n",
    "df_5.rename(columns={\"rating\": \"average_rating\"}, inplace=True)"
   ]
  },
  {
   "cell_type": "code",
   "execution_count": 14,
   "metadata": {},
   "outputs": [
    {
     "data": {
      "text/html": [
       "<div>\n",
       "<style scoped>\n",
       "    .dataframe tbody tr th:only-of-type {\n",
       "        vertical-align: middle;\n",
       "    }\n",
       "\n",
       "    .dataframe tbody tr th {\n",
       "        vertical-align: top;\n",
       "    }\n",
       "\n",
       "    .dataframe thead th {\n",
       "        text-align: right;\n",
       "    }\n",
       "</style>\n",
       "<table border=\"1\" class=\"dataframe\">\n",
       "  <thead>\n",
       "    <tr style=\"text-align: right;\">\n",
       "      <th></th>\n",
       "      <th>id</th>\n",
       "      <th>url</th>\n",
       "      <th>name</th>\n",
       "      <th>season</th>\n",
       "      <th>number</th>\n",
       "      <th>type</th>\n",
       "      <th>airdate</th>\n",
       "      <th>airtime</th>\n",
       "      <th>runtime</th>\n",
       "      <th>average_rating</th>\n",
       "      <th>summary</th>\n",
       "      <th>medium_image_link</th>\n",
       "      <th>original_image_link</th>\n",
       "    </tr>\n",
       "  </thead>\n",
       "  <tbody>\n",
       "    <tr>\n",
       "      <th>3</th>\n",
       "      <td>911205</td>\n",
       "      <td>https://www.tvmaze.com/episodes/911205/westwor...</td>\n",
       "      <td>Dissonance Theory</td>\n",
       "      <td>1</td>\n",
       "      <td>4</td>\n",
       "      <td>regular</td>\n",
       "      <td>2016-10-23</td>\n",
       "      <td>21:00</td>\n",
       "      <td>60</td>\n",
       "      <td>7.9</td>\n",
       "      <td>While Dolores joins William and Logan on their...</td>\n",
       "      <td>https://static.tvmaze.com/uploads/images/mediu...</td>\n",
       "      <td>https://static.tvmaze.com/uploads/images/origi...</td>\n",
       "    </tr>\n",
       "  </tbody>\n",
       "</table>\n",
       "</div>"
      ],
      "text/plain": [
       "       id                                                url  \\\n",
       "3  911205  https://www.tvmaze.com/episodes/911205/westwor...   \n",
       "\n",
       "                name  season  number     type     airdate airtime  runtime  \\\n",
       "3  Dissonance Theory       1       4  regular  2016-10-23   21:00       60   \n",
       "\n",
       "   average_rating                                            summary  \\\n",
       "3             7.9  While Dolores joins William and Logan on their...   \n",
       "\n",
       "                                   medium_image_link  \\\n",
       "3  https://static.tvmaze.com/uploads/images/mediu...   \n",
       "\n",
       "                                 original_image_link  \n",
       "3  https://static.tvmaze.com/uploads/images/origi...  "
      ]
     },
     "execution_count": 14,
     "metadata": {},
     "output_type": "execute_result"
    }
   ],
   "source": [
    "df_5.sample()"
   ]
  },
  {
   "cell_type": "raw",
   "metadata": {},
   "source": [
    "Question 6 -\n",
    " Using the data from Question 3, write code to analyze the data and answer the following questions Note \n",
    "1. Draw plots to demonstrate the analysis for the following questions for better visualizations.\n",
    "2. Write code comments wherever required for code understanding\n",
    "Insights to be drawn -\n",
    "● Get all Pokemons whose spawn rate is less than 5%\n",
    "● Get all Pokemons that have less than 4 weaknesses\n",
    "● Get all Pokemons that have no multipliers at all\n",
    "● Get all Pokemons that do not have more than 2 evolutions\n",
    "● Get all Pokemons whose spawn time is less than 300 seconds.\n",
    "Note - spawn time format is \"05:32”, so assume “minute: second” format and perform the analysis.\n",
    "● Get all Pokemon who have more than two types of capabilities\n"
   ]
  },
  {
   "cell_type": "code",
   "execution_count": 15,
   "metadata": {},
   "outputs": [
    {
     "data": {
      "text/html": [
       "<div>\n",
       "<style scoped>\n",
       "    .dataframe tbody tr th:only-of-type {\n",
       "        vertical-align: middle;\n",
       "    }\n",
       "\n",
       "    .dataframe tbody tr th {\n",
       "        vertical-align: top;\n",
       "    }\n",
       "\n",
       "    .dataframe thead th {\n",
       "        text-align: right;\n",
       "    }\n",
       "</style>\n",
       "<table border=\"1\" class=\"dataframe\">\n",
       "  <thead>\n",
       "    <tr style=\"text-align: right;\">\n",
       "      <th></th>\n",
       "      <th>id</th>\n",
       "      <th>num</th>\n",
       "      <th>name</th>\n",
       "      <th>img</th>\n",
       "      <th>pokemon type</th>\n",
       "      <th>height</th>\n",
       "      <th>weight</th>\n",
       "      <th>candy</th>\n",
       "      <th>candy_count</th>\n",
       "      <th>egg</th>\n",
       "      <th>spawn_chance</th>\n",
       "      <th>spawn_time</th>\n",
       "      <th>multipliers</th>\n",
       "      <th>weakness</th>\n",
       "      <th>next_evolution</th>\n",
       "      <th>prev_evolution</th>\n",
       "    </tr>\n",
       "  </thead>\n",
       "  <tbody>\n",
       "    <tr>\n",
       "      <th>119</th>\n",
       "      <td>120.0</td>\n",
       "      <td>120</td>\n",
       "      <td>Staryu</td>\n",
       "      <td>http://www.serebii.net/pokemongo/pokemon/120.png</td>\n",
       "      <td>Water</td>\n",
       "      <td>0.79 m</td>\n",
       "      <td>34.5 kg</td>\n",
       "      <td>Staryu Candy</td>\n",
       "      <td>50</td>\n",
       "      <td>5 km</td>\n",
       "      <td>1.95</td>\n",
       "      <td>22:59</td>\n",
       "      <td>2.38 ,2.41</td>\n",
       "      <td>Electric ,Grass</td>\n",
       "      <td>{'num': '121', 'name': 'Starmie'}</td>\n",
       "      <td>-</td>\n",
       "    </tr>\n",
       "  </tbody>\n",
       "</table>\n",
       "</div>"
      ],
      "text/plain": [
       "        id  num    name                                               img  \\\n",
       "119  120.0  120  Staryu  http://www.serebii.net/pokemongo/pokemon/120.png   \n",
       "\n",
       "    pokemon type  height   weight         candy candy_count   egg  \\\n",
       "119        Water  0.79 m  34.5 kg  Staryu Candy          50  5 km   \n",
       "\n",
       "     spawn_chance spawn_time multipliers         weakness  \\\n",
       "119          1.95      22:59  2.38 ,2.41  Electric ,Grass   \n",
       "\n",
       "                        next_evolution prev_evolution  \n",
       "119  {'num': '121', 'name': 'Starmie'}              -  "
      ]
     },
     "execution_count": 15,
     "metadata": {},
     "output_type": "execute_result"
    }
   ],
   "source": [
    "import seaborn as sns\n",
    "\n",
    "new_df_3.sample()"
   ]
  },
  {
   "cell_type": "code",
   "execution_count": 16,
   "metadata": {},
   "outputs": [
    {
     "data": {
      "text/plain": [
       "<AxesSubplot:ylabel='spawn_chance'>"
      ]
     },
     "execution_count": 16,
     "metadata": {},
     "output_type": "execute_result"
    },
    {
     "data": {
      "image/png": "[encoded data removed]",
      "text/plain": [
       "<Figure size 432x288 with 1 Axes>"
      ]
     },
     "metadata": {
      "needs_background": "light"
     },
     "output_type": "display_data"
    }
   ],
   "source": [
    "# ● Get all Pokemons whose spawn rate is less than 5%\n",
    "sns.scatterplot(data=new_df_3[new_df_3[\"spawn_chance\"] < 5][\"spawn_chance\"])"
   ]
  },
  {
   "cell_type": "code",
   "execution_count": 17,
   "metadata": {},
   "outputs": [
    {
     "data": {
      "text/plain": [
       "<AxesSubplot:ylabel='no_of_weakness'>"
      ]
     },
     "execution_count": 17,
     "metadata": {},
     "output_type": "execute_result"
    },
    {
     "data": {
      "image/png": "[encoded data removed]",
      "text/plain": [
       "<Figure size 432x288 with 1 Axes>"
      ]
     },
     "metadata": {
      "needs_background": "light"
     },
     "output_type": "display_data"
    }
   ],
   "source": [
    "# Get all Pokemons that have less than 4 weaknesses\n",
    "new_df_3[\"no_of_weakness\"]= new_df_3[\"weakness\"].str.split(\",\")\n",
    "new_df_3[\"no_of_weakness\"].str.len()\n",
    "sns.scatterplot(data=new_df_3[new_df_3[\"no_of_weakness\"].str.len() < 4][\"no_of_weakness\"].str.len())"
   ]
  },
  {
   "cell_type": "code",
   "execution_count": 18,
   "metadata": {},
   "outputs": [
    {
     "data": {
      "text/plain": [
       "0      26\n",
       "1      26\n",
       "2      26\n",
       "3      19\n",
       "4      19\n",
       "       ..\n",
       "146    18\n",
       "147    18\n",
       "148    24\n",
       "149    16\n",
       "150    16\n",
       "Name: weakness, Length: 151, dtype: int64"
      ]
     },
     "execution_count": 18,
     "metadata": {},
     "output_type": "execute_result"
    }
   ],
   "source": [
    "new_df_3[\"weakness\"].str.len()"
   ]
  },
  {
   "cell_type": "code",
   "execution_count": 19,
   "metadata": {},
   "outputs": [
    {
     "data": {
      "text/plain": [
       "<AxesSubplot:ylabel='multipliers'>"
      ]
     },
     "execution_count": 19,
     "metadata": {},
     "output_type": "execute_result"
    },
    {
     "data": {
      "image/png": "[encoded data removed]",
      "text/plain": [
       "<Figure size 432x288 with 1 Axes>"
      ]
     },
     "metadata": {
      "needs_background": "light"
     },
     "output_type": "display_data"
    }
   ],
   "source": [
    "# ● Get all Pokemons that have no multipliers at all\n",
    "sns.scatterplot(data=new_df_3[new_df_3[\"multipliers\"] == \"-\"][\"multipliers\"])"
   ]
  },
  {
   "cell_type": "code",
   "execution_count": 20,
   "metadata": {},
   "outputs": [
    {
     "data": {
      "text/plain": [
       "<AxesSubplot:>"
      ]
     },
     "execution_count": 20,
     "metadata": {},
     "output_type": "execute_result"
    },
    {
     "data": {
      "image/png": "[encoded data removed]",
      "text/plain": [
       "<Figure size 432x288 with 1 Axes>"
      ]
     },
     "metadata": {
      "needs_background": "light"
     },
     "output_type": "display_data"
    }
   ],
   "source": [
    "#  Get all Pokemons that do not have more than 2 evolutions\n",
    "sns.scatterplot(data=new_df_3[(new_df_3[\"next_evolution\"] != \"-\" ) & (new_df_3[\"prev_evolution\"] != \"-\")])"
   ]
  },
  {
   "cell_type": "code",
   "execution_count": 21,
   "metadata": {},
   "outputs": [
    {
     "data": {
      "text/plain": [
       "<AxesSubplot:ylabel='spawn_min'>"
      ]
     },
     "execution_count": 21,
     "metadata": {},
     "output_type": "execute_result"
    },
    {
     "data": {
      "image/png": "[encoded data removed]",
      "text/plain": [
       "<Figure size 432x288 with 1 Axes>"
      ]
     },
     "metadata": {
      "needs_background": "light"
     },
     "output_type": "display_data"
    }
   ],
   "source": [
    "#  Get all Pokemons whose spawn time is less than 300 seconds.\n",
    "# Note - spawn time format is \"05:32”, so assume “minute: second” format and perform the analysis.\n",
    "# new_df_3[\"spawn_time\"].astype(\"datetime\")\n",
    "\n",
    "new_df_3['spawn_time'] = new_df_3[\"spawn_time\"].replace(\"N/A\",\"00:00\")\n",
    "new_df_3['spawn_time'] = pd.to_datetime(new_df_3['spawn_time'])\n",
    "new_df_3[\"spawn_min\"] = new_df_3['spawn_time'].dt.minute\n",
    "sns.scatterplot(data=new_df_3[new_df_3[\"spawn_min\"] < 5][\"spawn_min\"])"
   ]
  },
  {
   "cell_type": "code",
   "execution_count": 22,
   "metadata": {},
   "outputs": [],
   "source": [
    "# ● Get all Pokemon who have more than two types of capabilities"
   ]
  },
  {
   "cell_type": "code",
   "execution_count": 23,
   "metadata": {},
   "outputs": [
    {
     "data": {
      "text/plain": [
       "Index(['id', 'num', 'name', 'img', 'pokemon type', 'height', 'weight', 'candy',\n",
       "       'candy_count', 'egg', 'spawn_chance', 'spawn_time', 'multipliers',\n",
       "       'weakness', 'next_evolution', 'prev_evolution', 'no_of_weakness',\n",
       "       'spawn_min'],\n",
       "      dtype='object')"
      ]
     },
     "execution_count": 23,
     "metadata": {},
     "output_type": "execute_result"
    }
   ],
   "source": [
    "new_df_3.columns\n"
   ]
  },
  {
   "cell_type": "raw",
   "metadata": {},
   "source": [
    "### Question 7 -\n",
    "Using the data from Question 4, write code to analyze the data and answer the following questions Note -\n",
    "1. Draw plots to demonstrate the analysis for the following questions for better visualizations\n",
    "2. Write code comments wherever required for code understanding Insights to be drawn -\n",
    "\n",
    "● Get all the Earth meteorites that fell before the year 2000\n",
    "● Get all the earth meteorites co-ordinates who fell before the year 1970\n",
    "● Assuming that the mass of the earth meteorites was in kg, get all those whose mass was more\n",
    "than 10000kg"
   ]
  },
  {
   "cell_type": "code",
   "execution_count": 24,
   "metadata": {},
   "outputs": [
    {
     "name": "stderr",
     "output_type": "stream",
     "text": [
      "<ipython-input-24-8b5dc0fd85cb>:1: SettingWithCopyWarning: \n",
      "A value is trying to be set on a copy of a slice from a DataFrame\n",
      "\n",
      "See the caveats in the documentation: https://pandas.pydata.org/pandas-docs/stable/user_guide/indexing.html#returning-a-view-versus-a-copy\n",
      "  df_4_new.dropna(inplace=True)\n",
      "<ipython-input-24-8b5dc0fd85cb>:2: SettingWithCopyWarning: \n",
      "A value is trying to be set on a copy of a slice from a DataFrame.\n",
      "Try using .loc[row_indexer,col_indexer] = value instead\n",
      "\n",
      "See the caveats in the documentation: https://pandas.pydata.org/pandas-docs/stable/user_guide/indexing.html#returning-a-view-versus-a-copy\n",
      "  df_4_new[\"_year\"] = df_4_new[\"year\"].apply(lambda x:str(x).split(\"-\")[0])\n",
      "<ipython-input-24-8b5dc0fd85cb>:3: SettingWithCopyWarning: \n",
      "A value is trying to be set on a copy of a slice from a DataFrame.\n",
      "Try using .loc[row_indexer,col_indexer] = value instead\n",
      "\n",
      "See the caveats in the documentation: https://pandas.pydata.org/pandas-docs/stable/user_guide/indexing.html#returning-a-view-versus-a-copy\n",
      "  df_4_new[\"_year\"] = df_4_new[\"_year\"].astype(int)\n"
     ]
    }
   ],
   "source": [
    "df_4_new.dropna(inplace=True)\n",
    "df_4_new[\"_year\"] = df_4_new[\"year\"].apply(lambda x:str(x).split(\"-\")[0])\n",
    "df_4_new[\"_year\"] = df_4_new[\"_year\"].astype(int)"
   ]
  },
  {
   "cell_type": "code",
   "execution_count": 25,
   "metadata": {},
   "outputs": [
    {
     "data": {
      "text/plain": [
       "0         Aachen\n",
       "1         Aarhus\n",
       "2           Abee\n",
       "3       Acapulco\n",
       "4        Achiras\n",
       "         ...    \n",
       "994     Timochin\n",
       "995     Tirupati\n",
       "997        Tjabe\n",
       "998     Tjerebon\n",
       "999    Tomakovka\n",
       "Name: name, Length: 893, dtype: object"
      ]
     },
     "execution_count": 25,
     "metadata": {},
     "output_type": "execute_result"
    }
   ],
   "source": [
    "# Get all the Earth meteorites that fell before the year 2000\n",
    "df_4_new[df_4_new[\"_year\"] < 2000][\"name\"]"
   ]
  },
  {
   "cell_type": "code",
   "execution_count": 26,
   "metadata": {},
   "outputs": [
    {
     "name": "stderr",
     "output_type": "stream",
     "text": [
      "<ipython-input-26-0b485a05ae33>:2: SettingWithCopyWarning: \n",
      "A value is trying to be set on a copy of a slice from a DataFrame.\n",
      "Try using .loc[row_indexer,col_indexer] = value instead\n",
      "\n",
      "See the caveats in the documentation: https://pandas.pydata.org/pandas-docs/stable/user_guide/indexing.html#returning-a-view-versus-a-copy\n",
      "  df_4_new[\"coordinates\"] = df_4_new[\"geolocation\"].apply(lambda x: [x[\"coordinates\"] for i in x][0])\n"
     ]
    },
    {
     "data": {
      "text/plain": [
       "0          [6.08333, 50.775]\n",
       "1       [10.23333, 56.18333]\n",
       "2           [-113, 54.21667]\n",
       "3          [-99.9, 16.88333]\n",
       "4        [-64.95, -33.16667]\n",
       "               ...          \n",
       "995     [79.41667, 13.63333]\n",
       "996     [-7.61123, 29.48195]\n",
       "997    [111.53333, -7.08333]\n",
       "998    [106.58333, -6.66667]\n",
       "999        [34.76667, 47.85]\n",
       "Name: coordinates, Length: 959, dtype: object"
      ]
     },
     "execution_count": 26,
     "metadata": {},
     "output_type": "execute_result"
    }
   ],
   "source": [
    "# Get all the earth meteorites co-ordinates who fell before the year 1970\n",
    "df_4_new[\"coordinates\"] = df_4_new[\"geolocation\"].apply(lambda x: [x[\"coordinates\"] for i in x][0])\n",
    "df_4_new[\"coordinates\"]"
   ]
  },
  {
   "cell_type": "code",
   "execution_count": 27,
   "metadata": {},
   "outputs": [
    {
     "data": {
      "text/plain": [
       "<AxesSubplot:ylabel='mass'>"
      ]
     },
     "execution_count": 27,
     "metadata": {},
     "output_type": "execute_result"
    },
    {
     "data": {
      "image/png": "[encoded data removed]",
      "text/plain": [
       "<Figure size 432x288 with 1 Axes>"
      ]
     },
     "metadata": {
      "needs_background": "light"
     },
     "output_type": "display_data"
    }
   ],
   "source": [
    "#● Assuming that the mass of the earth meteorites was in kg, get all those whose mass was more than 10000kg\n",
    "df_4_new.sample()\n",
    "sns.scatterplot(data=df_4_new[df_4_new[\"mass\"] > 1000][\"mass\"])"
   ]
  },
  {
   "cell_type": "raw",
   "metadata": {},
   "source": [
    "Question 8 -\n",
    "Using the data from Question 5, write code the analyze the data and answer the following questions Note -\n",
    "1. Draw plots to demonstrate the analysis for the following questions and better visualizations\n",
    "2. Write code comments wherever required for code understanding\n",
    "Insights to be drawn -\n",
    "● Get all the overall ratings for each season and using plots compare the ratings for all the\n",
    "seasons, like season 1 ratings, season 2, and so on.\n",
    "● Get all the episode names, whose average rating is more than 8 for every season\n",
    "● Get all the episode names that aired before May 2019\n",
    "● Get the episode name from each season with the highest and lowest rating\n",
    "● Get the summary for the most popular ( ratings ) episode in every season"
   ]
  },
  {
   "cell_type": "code",
   "execution_count": 28,
   "metadata": {},
   "outputs": [
    {
     "data": {
      "text/html": [
       "<div>\n",
       "<style scoped>\n",
       "    .dataframe tbody tr th:only-of-type {\n",
       "        vertical-align: middle;\n",
       "    }\n",
       "\n",
       "    .dataframe tbody tr th {\n",
       "        vertical-align: top;\n",
       "    }\n",
       "\n",
       "    .dataframe thead th {\n",
       "        text-align: right;\n",
       "    }\n",
       "</style>\n",
       "<table border=\"1\" class=\"dataframe\">\n",
       "  <thead>\n",
       "    <tr style=\"text-align: right;\">\n",
       "      <th></th>\n",
       "      <th>id</th>\n",
       "      <th>url</th>\n",
       "      <th>name</th>\n",
       "      <th>season</th>\n",
       "      <th>number</th>\n",
       "      <th>type</th>\n",
       "      <th>airdate</th>\n",
       "      <th>airtime</th>\n",
       "      <th>runtime</th>\n",
       "      <th>average_rating</th>\n",
       "      <th>summary</th>\n",
       "      <th>medium_image_link</th>\n",
       "      <th>original_image_link</th>\n",
       "    </tr>\n",
       "  </thead>\n",
       "  <tbody>\n",
       "    <tr>\n",
       "      <th>28</th>\n",
       "      <td>2326389</td>\n",
       "      <td>https://www.tvmaze.com/episodes/2326389/westwo...</td>\n",
       "      <td>The Auguries</td>\n",
       "      <td>4</td>\n",
       "      <td>1</td>\n",
       "      <td>regular</td>\n",
       "      <td>2022-06-26</td>\n",
       "      <td>21:00</td>\n",
       "      <td>55</td>\n",
       "      <td>7.1</td>\n",
       "      <td>Hello again. Don't worry about a thing. It's a...</td>\n",
       "      <td>https://static.tvmaze.com/uploads/images/mediu...</td>\n",
       "      <td>https://static.tvmaze.com/uploads/images/origi...</td>\n",
       "    </tr>\n",
       "  </tbody>\n",
       "</table>\n",
       "</div>"
      ],
      "text/plain": [
       "         id                                                url          name  \\\n",
       "28  2326389  https://www.tvmaze.com/episodes/2326389/westwo...  The Auguries   \n",
       "\n",
       "    season  number     type     airdate airtime  runtime  average_rating  \\\n",
       "28       4       1  regular  2022-06-26   21:00       55             7.1   \n",
       "\n",
       "                                              summary  \\\n",
       "28  Hello again. Don't worry about a thing. It's a...   \n",
       "\n",
       "                                    medium_image_link  \\\n",
       "28  https://static.tvmaze.com/uploads/images/mediu...   \n",
       "\n",
       "                                  original_image_link  \n",
       "28  https://static.tvmaze.com/uploads/images/origi...  "
      ]
     },
     "execution_count": 28,
     "metadata": {},
     "output_type": "execute_result"
    }
   ],
   "source": [
    "import matplotlib.pyplot as plt\n",
    "df_5.sample()"
   ]
  },
  {
   "cell_type": "code",
   "execution_count": 29,
   "metadata": {},
   "outputs": [],
   "source": [
    "df_5_seasons = df_5.groupby(\"season\")"
   ]
  },
  {
   "cell_type": "code",
   "execution_count": 30,
   "metadata": {},
   "outputs": [
    {
     "ename": "IndexError",
     "evalue": "Column(s) season already selected",
     "output_type": "error",
     "traceback": [
      "\u001b[1;31m---------------------------------------------------------------------------\u001b[0m",
      "\u001b[1;31mIndexError\u001b[0m                                Traceback (most recent call last)",
      "\u001b[1;32m<ipython-input-30-40c82e1b5d53>\u001b[0m in \u001b[0;36m<module>\u001b[1;34m\u001b[0m\n\u001b[0;32m      1\u001b[0m \u001b[1;31m# df_5_seasons[\"average_rating\"]\u001b[0m\u001b[1;33m\u001b[0m\u001b[1;33m\u001b[0m\u001b[1;33m\u001b[0m\u001b[0m\n\u001b[0;32m      2\u001b[0m \u001b[1;33m\u001b[0m\u001b[0m\n\u001b[1;32m----> 3\u001b[1;33m \u001b[0msns\u001b[0m\u001b[1;33m.\u001b[0m\u001b[0mbarplot\u001b[0m\u001b[1;33m(\u001b[0m\u001b[0mdata\u001b[0m\u001b[1;33m=\u001b[0m\u001b[0mdf_5_seasons\u001b[0m\u001b[1;33m[\u001b[0m\u001b[1;34m\"season\"\u001b[0m\u001b[1;33m]\u001b[0m\u001b[1;33m)\u001b[0m\u001b[1;33m\u001b[0m\u001b[1;33m\u001b[0m\u001b[0m\n\u001b[0m",
      "\u001b[1;32m~\\anaconda3\\lib\\site-packages\\seaborn\\_decorators.py\u001b[0m in \u001b[0;36minner_f\u001b[1;34m(*args, **kwargs)\u001b[0m\n\u001b[0;32m     44\u001b[0m             )\n\u001b[0;32m     45\u001b[0m         \u001b[0mkwargs\u001b[0m\u001b[1;33m.\u001b[0m\u001b[0mupdate\u001b[0m\u001b[1;33m(\u001b[0m\u001b[1;33m{\u001b[0m\u001b[0mk\u001b[0m\u001b[1;33m:\u001b[0m \u001b[0marg\u001b[0m \u001b[1;32mfor\u001b[0m \u001b[0mk\u001b[0m\u001b[1;33m,\u001b[0m \u001b[0marg\u001b[0m \u001b[1;32min\u001b[0m \u001b[0mzip\u001b[0m\u001b[1;33m(\u001b[0m\u001b[0msig\u001b[0m\u001b[1;33m.\u001b[0m\u001b[0mparameters\u001b[0m\u001b[1;33m,\u001b[0m \u001b[0margs\u001b[0m\u001b[1;33m)\u001b[0m\u001b[1;33m}\u001b[0m\u001b[1;33m)\u001b[0m\u001b[1;33m\u001b[0m\u001b[1;33m\u001b[0m\u001b[0m\n\u001b[1;32m---> 46\u001b[1;33m         \u001b[1;32mreturn\u001b[0m \u001b[0mf\u001b[0m\u001b[1;33m(\u001b[0m\u001b[1;33m**\u001b[0m\u001b[0mkwargs\u001b[0m\u001b[1;33m)\u001b[0m\u001b[1;33m\u001b[0m\u001b[1;33m\u001b[0m\u001b[0m\n\u001b[0m\u001b[0;32m     47\u001b[0m     \u001b[1;32mreturn\u001b[0m \u001b[0minner_f\u001b[0m\u001b[1;33m\u001b[0m\u001b[1;33m\u001b[0m\u001b[0m\n\u001b[0;32m     48\u001b[0m \u001b[1;33m\u001b[0m\u001b[0m\n",
      "\u001b[1;32m~\\anaconda3\\lib\\site-packages\\seaborn\\categorical.py\u001b[0m in \u001b[0;36mbarplot\u001b[1;34m(x, y, hue, data, order, hue_order, estimator, ci, n_boot, units, seed, orient, color, palette, saturation, errcolor, errwidth, capsize, dodge, ax, **kwargs)\u001b[0m\n\u001b[0;32m   3167\u001b[0m ):\n\u001b[0;32m   3168\u001b[0m \u001b[1;33m\u001b[0m\u001b[0m\n\u001b[1;32m-> 3169\u001b[1;33m     plotter = _BarPlotter(x, y, hue, data, order, hue_order,\n\u001b[0m\u001b[0;32m   3170\u001b[0m                           \u001b[0mestimator\u001b[0m\u001b[1;33m,\u001b[0m \u001b[0mci\u001b[0m\u001b[1;33m,\u001b[0m \u001b[0mn_boot\u001b[0m\u001b[1;33m,\u001b[0m \u001b[0munits\u001b[0m\u001b[1;33m,\u001b[0m \u001b[0mseed\u001b[0m\u001b[1;33m,\u001b[0m\u001b[1;33m\u001b[0m\u001b[1;33m\u001b[0m\u001b[0m\n\u001b[0;32m   3171\u001b[0m                           \u001b[0morient\u001b[0m\u001b[1;33m,\u001b[0m \u001b[0mcolor\u001b[0m\u001b[1;33m,\u001b[0m \u001b[0mpalette\u001b[0m\u001b[1;33m,\u001b[0m \u001b[0msaturation\u001b[0m\u001b[1;33m,\u001b[0m\u001b[1;33m\u001b[0m\u001b[1;33m\u001b[0m\u001b[0m\n",
      "\u001b[1;32m~\\anaconda3\\lib\\site-packages\\seaborn\\categorical.py\u001b[0m in \u001b[0;36m__init__\u001b[1;34m(self, x, y, hue, data, order, hue_order, estimator, ci, n_boot, units, seed, orient, color, palette, saturation, errcolor, errwidth, capsize, dodge)\u001b[0m\n\u001b[0;32m   1582\u001b[0m                  errwidth, capsize, dodge):\n\u001b[0;32m   1583\u001b[0m         \u001b[1;34m\"\"\"Initialize the plotter.\"\"\"\u001b[0m\u001b[1;33m\u001b[0m\u001b[1;33m\u001b[0m\u001b[0m\n\u001b[1;32m-> 1584\u001b[1;33m         self.establish_variables(x, y, hue, data, orient,\n\u001b[0m\u001b[0;32m   1585\u001b[0m                                  order, hue_order, units)\n\u001b[0;32m   1586\u001b[0m         \u001b[0mself\u001b[0m\u001b[1;33m.\u001b[0m\u001b[0mestablish_colors\u001b[0m\u001b[1;33m(\u001b[0m\u001b[0mcolor\u001b[0m\u001b[1;33m,\u001b[0m \u001b[0mpalette\u001b[0m\u001b[1;33m,\u001b[0m \u001b[0msaturation\u001b[0m\u001b[1;33m)\u001b[0m\u001b[1;33m\u001b[0m\u001b[1;33m\u001b[0m\u001b[0m\n",
      "\u001b[1;32m~\\anaconda3\\lib\\site-packages\\seaborn\\categorical.py\u001b[0m in \u001b[0;36mestablish_variables\u001b[1;34m(self, x, y, hue, data, orient, order, hue_order, units)\u001b[0m\n\u001b[0;32m    116\u001b[0m \u001b[1;33m\u001b[0m\u001b[0m\n\u001b[0;32m    117\u001b[0m                 \u001b[1;31m# The input data is a flat list\u001b[0m\u001b[1;33m\u001b[0m\u001b[1;33m\u001b[0m\u001b[1;33m\u001b[0m\u001b[0m\n\u001b[1;32m--> 118\u001b[1;33m                 \u001b[1;32melif\u001b[0m \u001b[0mnp\u001b[0m\u001b[1;33m.\u001b[0m\u001b[0misscalar\u001b[0m\u001b[1;33m(\u001b[0m\u001b[0mdata\u001b[0m\u001b[1;33m[\u001b[0m\u001b[1;36m0\u001b[0m\u001b[1;33m]\u001b[0m\u001b[1;33m)\u001b[0m\u001b[1;33m:\u001b[0m\u001b[1;33m\u001b[0m\u001b[1;33m\u001b[0m\u001b[0m\n\u001b[0m\u001b[0;32m    119\u001b[0m                     \u001b[0mplot_data\u001b[0m \u001b[1;33m=\u001b[0m \u001b[1;33m[\u001b[0m\u001b[0mdata\u001b[0m\u001b[1;33m]\u001b[0m\u001b[1;33m\u001b[0m\u001b[1;33m\u001b[0m\u001b[0m\n\u001b[0;32m    120\u001b[0m \u001b[1;33m\u001b[0m\u001b[0m\n",
      "\u001b[1;32m~\\anaconda3\\lib\\site-packages\\pandas\\core\\base.py\u001b[0m in \u001b[0;36m__getitem__\u001b[1;34m(self, key)\u001b[0m\n\u001b[0;32m    211\u001b[0m     \u001b[1;32mdef\u001b[0m \u001b[0m__getitem__\u001b[0m\u001b[1;33m(\u001b[0m\u001b[0mself\u001b[0m\u001b[1;33m,\u001b[0m \u001b[0mkey\u001b[0m\u001b[1;33m)\u001b[0m\u001b[1;33m:\u001b[0m\u001b[1;33m\u001b[0m\u001b[1;33m\u001b[0m\u001b[0m\n\u001b[0;32m    212\u001b[0m         \u001b[1;32mif\u001b[0m \u001b[0mself\u001b[0m\u001b[1;33m.\u001b[0m\u001b[0m_selection\u001b[0m \u001b[1;32mis\u001b[0m \u001b[1;32mnot\u001b[0m \u001b[1;32mNone\u001b[0m\u001b[1;33m:\u001b[0m\u001b[1;33m\u001b[0m\u001b[1;33m\u001b[0m\u001b[0m\n\u001b[1;32m--> 213\u001b[1;33m             \u001b[1;32mraise\u001b[0m \u001b[0mIndexError\u001b[0m\u001b[1;33m(\u001b[0m\u001b[1;34mf\"Column(s) {self._selection} already selected\"\u001b[0m\u001b[1;33m)\u001b[0m\u001b[1;33m\u001b[0m\u001b[1;33m\u001b[0m\u001b[0m\n\u001b[0m\u001b[0;32m    214\u001b[0m \u001b[1;33m\u001b[0m\u001b[0m\n\u001b[0;32m    215\u001b[0m         \u001b[1;32mif\u001b[0m \u001b[0misinstance\u001b[0m\u001b[1;33m(\u001b[0m\u001b[0mkey\u001b[0m\u001b[1;33m,\u001b[0m \u001b[1;33m(\u001b[0m\u001b[0mlist\u001b[0m\u001b[1;33m,\u001b[0m \u001b[0mtuple\u001b[0m\u001b[1;33m,\u001b[0m \u001b[0mABCSeries\u001b[0m\u001b[1;33m,\u001b[0m \u001b[0mABCIndexClass\u001b[0m\u001b[1;33m,\u001b[0m \u001b[0mnp\u001b[0m\u001b[1;33m.\u001b[0m\u001b[0mndarray\u001b[0m\u001b[1;33m)\u001b[0m\u001b[1;33m)\u001b[0m\u001b[1;33m:\u001b[0m\u001b[1;33m\u001b[0m\u001b[1;33m\u001b[0m\u001b[0m\n",
      "\u001b[1;31mIndexError\u001b[0m: Column(s) season already selected"
     ]
    }
   ],
   "source": [
    "# df_5_seasons[\"average_rating\"]\n",
    "\n",
    "sns.barplot(data=df_5_seasons[\"season\"])"
   ]
  },
  {
   "cell_type": "markdown",
   "metadata": {},
   "source": [
    "### 7. "
   ]
  },
  {
   "cell_type": "markdown",
   "metadata": {},
   "source": []
  },
  {
   "cell_type": "markdown",
   "metadata": {},
   "source": [
    "### 8. "
   ]
  },
  {
   "cell_type": "markdown",
   "metadata": {},
   "source": []
  },
  {
   "cell_type": "markdown",
   "metadata": {},
   "source": [
    "### 9. "
   ]
  },
  {
   "cell_type": "markdown",
   "metadata": {},
   "source": []
  },
  {
   "cell_type": "markdown",
   "metadata": {},
   "source": [
    "### 10. "
   ]
  },
  {
   "cell_type": "markdown",
   "metadata": {},
   "source": []
  }
 ],
 "metadata": {
  "kernelspec": {
   "display_name": "Python 3",
   "language": "python",
   "name": "python3"
  },
  "language_info": {
   "codemirror_mode": {
    "name": "ipython",
    "version": 3
   },
   "file_extension": ".py",
   "mimetype": "text/x-python",
   "name": "python",
   "nbconvert_exporter": "python",
   "pygments_lexer": "ipython3",
   "version": "3.8.5"
  },
  "vscode": {
   "interpreter": {
    "hash": "38519c3442d9f767135b0650f6935cb54106bd9267700919f92a37291a156600"
   }
  }
 },
 "nbformat": 4,
 "nbformat_minor": 2
}
