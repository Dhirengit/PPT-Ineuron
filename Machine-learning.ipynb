{
 "cells": [
  {
   "cell_type": "code",
   "execution_count": null,
   "metadata": {
    "execution": {
     "iopub.execute_input": "2023-08-26T07:13:14.009468Z",
     "iopub.status.busy": "2023-08-26T07:13:14.009064Z",
     "iopub.status.idle": "2023-08-26T07:13:14.022200Z",
     "shell.execute_reply": "2023-08-26T07:13:14.021110Z",
     "shell.execute_reply.started": "2023-08-26T07:13:14.009418Z"
    }
   },
   "outputs": [],
   "source": [
    "import pandas as pd\n",
    "import numpy as np\n",
    "import seaborn as sns\n",
    "\n",
    "import matplotlib.pyplot as plt\n",
    "%matplotlib inline\n",
    "\n",
    "import re\n",
    "import copy\n",
    "import nltk\n",
    "import pickle\n",
    "from nltk.corpus import stopwords\n",
    "from nltk.stem.porter import PorterStemmer\n",
    "from nltk.stem import WordNetLemmatizer\n",
    "\n",
    "from sklearn.feature_extraction.text import CountVectorizer, TfidfVectorizer\n",
    "from sklearn.preprocessing import OneHotEncoder, LabelEncoder\n",
    "from sklearn.linear_model import LinearRegression, LogisticRegression\n",
    "from sklearn.ensemble import RandomForestRegressor\n",
    "from sklearn.neighbors import KNeighborsClassifier\n",
    "from sklearn import svm\n",
    "from sklearn.naive_bayes import MultinomialNB\n",
    "from sklearn.model_selection import train_test_split\n",
    "from scipy.spatial.distance import euclidean, jaccard, hamming\n",
    "\n",
    "from sklearn.metrics import accuracy_score, mean_squared_error, r2_score, classification_report"
   ]
  },
  {
   "cell_type": "raw",
   "metadata": {},
   "source": [
    "Q-1. Imagine you have a dataset where you have different Instagram features\n",
    "like username, Caption, Hashtag, Followers, Time_Since_posted, and likes, now your task is\n",
    "to predict the number of likes and Time Since posted and the rest of the features are\n",
    "your input features. Now you have to build a model which can predict the\n",
    "number of likes and Time Since posted.\n",
    "Dataset This is the Dataset You can use this dataset for this question."
   ]
  },
  {
   "cell_type": "code",
   "execution_count": null,
   "metadata": {
    "execution": {
     "iopub.execute_input": "2023-08-26T07:13:14.025707Z",
     "iopub.status.busy": "2023-08-26T07:13:14.025022Z",
     "iopub.status.idle": "2023-08-26T07:13:14.280246Z",
     "shell.execute_reply": "2023-08-26T07:13:14.279322Z",
     "shell.execute_reply.started": "2023-08-26T07:13:14.025671Z"
    }
   },
   "outputs": [],
   "source": [
    "# df1 = pd.read_csv(\"Datasets/instagram_reach.csv\")\n",
    "df1 = pd.read_csv(\"https://raw.githubusercontent.com/Dhirengit/PPT-Ineuron/main/DataSets/instagram_reach.csv\")\n",
    "df1.sample()"
   ]
  },
  {
   "cell_type": "code",
   "execution_count": null,
   "metadata": {
    "execution": {
     "iopub.execute_input": "2023-08-26T07:13:14.282190Z",
     "iopub.status.busy": "2023-08-26T07:13:14.281852Z",
     "iopub.status.idle": "2023-08-26T07:13:14.289307Z",
     "shell.execute_reply": "2023-08-26T07:13:14.288414Z",
     "shell.execute_reply.started": "2023-08-26T07:13:14.282158Z"
    }
   },
   "outputs": [],
   "source": [
    "df1.reset_index(drop=True)\n",
    "df1[\"Time\"] = df1[\"Time since posted\"].apply(lambda x: int(x.split(\" \")[0]))\n",
    "df1.drop(columns=[\"Unnamed: 0\",\"S.No\", \"Caption\", \"USERNAME\",\"Time since posted\"], inplace=True)"
   ]
  },
  {
   "cell_type": "code",
   "execution_count": null,
   "metadata": {
    "execution": {
     "iopub.execute_input": "2023-08-26T07:13:14.941645Z",
     "iopub.status.busy": "2023-08-26T07:13:14.940648Z",
     "iopub.status.idle": "2023-08-26T07:13:14.954744Z",
     "shell.execute_reply": "2023-08-26T07:13:14.953585Z",
     "shell.execute_reply.started": "2023-08-26T07:13:14.941609Z"
    }
   },
   "outputs": [],
   "source": [
    "df1.info()"
   ]
  },
  {
   "cell_type": "code",
   "execution_count": null,
   "metadata": {
    "execution": {
     "iopub.execute_input": "2023-08-26T07:13:14.957721Z",
     "iopub.status.busy": "2023-08-26T07:13:14.957252Z",
     "iopub.status.idle": "2023-08-26T07:13:14.978569Z",
     "shell.execute_reply": "2023-08-26T07:13:14.977572Z",
     "shell.execute_reply.started": "2023-08-26T07:13:14.957686Z"
    }
   },
   "outputs": [],
   "source": [
    "df1.describe()"
   ]
  },
  {
   "cell_type": "code",
   "execution_count": null,
   "metadata": {
    "execution": {
     "iopub.execute_input": "2023-08-26T07:13:14.980388Z",
     "iopub.status.busy": "2023-08-26T07:13:14.980026Z",
     "iopub.status.idle": "2023-08-26T07:13:14.986265Z",
     "shell.execute_reply": "2023-08-26T07:13:14.985322Z",
     "shell.execute_reply.started": "2023-08-26T07:13:14.980353Z"
    }
   },
   "outputs": [],
   "source": [
    "print(df1.loc[:0][\"Hashtags\"])"
   ]
  },
  {
   "cell_type": "code",
   "execution_count": null,
   "metadata": {
    "execution": {
     "iopub.execute_input": "2023-08-26T07:13:14.988619Z",
     "iopub.status.busy": "2023-08-26T07:13:14.987867Z",
     "iopub.status.idle": "2023-08-26T07:13:14.999967Z",
     "shell.execute_reply": "2023-08-26T07:13:14.998968Z",
     "shell.execute_reply.started": "2023-08-26T07:13:14.988561Z"
    }
   },
   "outputs": [],
   "source": [
    "def convert_hastag(text):\n",
    "    ps = PorterStemmer()\n",
    "    wordnet = WordNetLemmatizer()\n",
    "    \n",
    "    tags = nltk.sent_tokenize(text)\n",
    "    corpus = []\n",
    "    tag = re.sub(\"[^a-zA-Z]\", \" \", text)\n",
    "    tag = tag.lower()\n",
    "    tag = tag.split()\n",
    "#     tag = [wordnet.lemmatize(word) for word in tag if not word in set(stopwords.words(\"english\"))]\n",
    "    \n",
    "    return tag\n",
    "\n",
    "convert_hastag(df1[\"Hashtags\"][0])"
   ]
  },
  {
   "cell_type": "code",
   "execution_count": null,
   "metadata": {
    "execution": {
     "iopub.execute_input": "2023-08-26T07:13:15.003723Z",
     "iopub.status.busy": "2023-08-26T07:13:15.003411Z",
     "iopub.status.idle": "2023-08-26T07:13:15.024979Z",
     "shell.execute_reply": "2023-08-26T07:13:15.023864Z",
     "shell.execute_reply.started": "2023-08-26T07:13:15.003699Z"
    }
   },
   "outputs": [],
   "source": [
    "hastag = pd.DataFrame()\n",
    "df1[\"Hashtags\"]= df1[\"Hashtags\"].apply(convert_hastag)"
   ]
  },
  {
   "cell_type": "code",
   "execution_count": null,
   "metadata": {
    "execution": {
     "iopub.execute_input": "2023-08-26T07:13:15.028704Z",
     "iopub.status.busy": "2023-08-26T07:13:15.028295Z",
     "iopub.status.idle": "2023-08-26T07:13:15.040843Z",
     "shell.execute_reply": "2023-08-26T07:13:15.039565Z",
     "shell.execute_reply.started": "2023-08-26T07:13:15.028679Z"
    }
   },
   "outputs": [],
   "source": [
    "print(df1[[\"Hashtags\"]])"
   ]
  },
  {
   "cell_type": "code",
   "execution_count": null,
   "metadata": {
    "execution": {
     "iopub.execute_input": "2023-08-26T07:13:15.043082Z",
     "iopub.status.busy": "2023-08-26T07:13:15.042139Z",
     "iopub.status.idle": "2023-08-26T07:13:15.053042Z",
     "shell.execute_reply": "2023-08-26T07:13:15.052030Z",
     "shell.execute_reply.started": "2023-08-26T07:13:15.043049Z"
    }
   },
   "outputs": [],
   "source": [
    "unique_hashtag = set(tag for row in df1[\"Hashtags\"] for tag in row)\n",
    "len(unique_hashtag)"
   ]
  },
  {
   "cell_type": "code",
   "execution_count": null,
   "metadata": {
    "execution": {
     "iopub.execute_input": "2023-08-26T07:13:15.055912Z",
     "iopub.status.busy": "2023-08-26T07:13:15.055574Z",
     "iopub.status.idle": "2023-08-26T07:13:15.565769Z",
     "shell.execute_reply": "2023-08-26T07:13:15.564845Z",
     "shell.execute_reply.started": "2023-08-26T07:13:15.055881Z"
    }
   },
   "outputs": [],
   "source": [
    "for hashtag in unique_hashtag:\n",
    "    df1[hashtag] = 0 # initialize 0 value for every hashtag\n"
   ]
  },
  {
   "cell_type": "code",
   "execution_count": null,
   "metadata": {
    "execution": {
     "iopub.execute_input": "2023-08-26T07:13:15.568293Z",
     "iopub.status.busy": "2023-08-26T07:13:15.567361Z",
     "iopub.status.idle": "2023-08-26T07:13:15.628528Z",
     "shell.execute_reply": "2023-08-26T07:13:15.627574Z",
     "shell.execute_reply.started": "2023-08-26T07:13:15.568258Z"
    }
   },
   "outputs": [],
   "source": [
    "for index, row in enumerate(df1[\"Hashtags\"]): # enumerate hashtags \n",
    "    for tag in row: # Row wise hashtag \n",
    "        df1.at[index, tag] = 1 # appply 1 value when index and tag match \n"
   ]
  },
  {
   "cell_type": "code",
   "execution_count": null,
   "metadata": {
    "execution": {
     "iopub.execute_input": "2023-08-26T07:13:15.630254Z",
     "iopub.status.busy": "2023-08-26T07:13:15.629932Z",
     "iopub.status.idle": "2023-08-26T07:13:15.673795Z",
     "shell.execute_reply": "2023-08-26T07:13:15.672961Z",
     "shell.execute_reply.started": "2023-08-26T07:13:15.630223Z"
    }
   },
   "outputs": [],
   "source": [
    "df1.drop(columns=[\"Hashtags\"], inplace=True)"
   ]
  },
  {
   "cell_type": "code",
   "execution_count": null,
   "metadata": {
    "execution": {
     "iopub.execute_input": "2023-08-26T07:13:15.675934Z",
     "iopub.status.busy": "2023-08-26T07:13:15.675376Z",
     "iopub.status.idle": "2023-08-26T07:13:15.714617Z",
     "shell.execute_reply": "2023-08-26T07:13:15.713758Z",
     "shell.execute_reply.started": "2023-08-26T07:13:15.675900Z"
    }
   },
   "outputs": [],
   "source": [
    "x1 = df1.drop(columns=[\"Likes\", \"Time\"])"
   ]
  },
  {
   "cell_type": "code",
   "execution_count": null,
   "metadata": {
    "execution": {
     "iopub.execute_input": "2023-08-26T07:13:15.718305Z",
     "iopub.status.busy": "2023-08-26T07:13:15.718038Z",
     "iopub.status.idle": "2023-08-26T07:13:15.738497Z",
     "shell.execute_reply": "2023-08-26T07:13:15.737512Z",
     "shell.execute_reply.started": "2023-08-26T07:13:15.718281Z"
    }
   },
   "outputs": [],
   "source": [
    "y1 = df1[[\"Likes\", \"Time\"]]"
   ]
  },
  {
   "cell_type": "code",
   "execution_count": null,
   "metadata": {
    "execution": {
     "iopub.execute_input": "2023-08-26T07:13:15.741149Z",
     "iopub.status.busy": "2023-08-26T07:13:15.740587Z",
     "iopub.status.idle": "2023-08-26T07:13:15.762542Z",
     "shell.execute_reply": "2023-08-26T07:13:15.761673Z",
     "shell.execute_reply.started": "2023-08-26T07:13:15.741116Z"
    }
   },
   "outputs": [],
   "source": [
    "x1_train, x1_test, y1_train, y1_test = train_test_split(x1, y1, test_size=0.1)"
   ]
  },
  {
   "cell_type": "code",
   "execution_count": null,
   "metadata": {
    "execution": {
     "iopub.execute_input": "2023-08-26T07:13:15.765850Z",
     "iopub.status.busy": "2023-08-26T07:13:15.765584Z",
     "iopub.status.idle": "2023-08-26T07:13:15.773680Z",
     "shell.execute_reply": "2023-08-26T07:13:15.772782Z",
     "shell.execute_reply.started": "2023-08-26T07:13:15.765827Z"
    }
   },
   "outputs": [],
   "source": [
    "print(f\"X_train shape = {x1_train.shape}\")\n",
    "print(f\"X_test shape = {x1_test.shape}\")\n",
    "print(f\"y_train shape = {y1_train.shape}\")\n",
    "print(f\"y_test shape = {y1_test.shape}\")"
   ]
  },
  {
   "cell_type": "code",
   "execution_count": null,
   "metadata": {
    "execution": {
     "iopub.execute_input": "2023-08-26T07:13:15.776872Z",
     "iopub.status.busy": "2023-08-26T07:13:15.776303Z",
     "iopub.status.idle": "2023-08-26T07:13:15.789547Z",
     "shell.execute_reply": "2023-08-26T07:13:15.788493Z",
     "shell.execute_reply.started": "2023-08-26T07:13:15.776840Z"
    }
   },
   "outputs": [],
   "source": [
    "y1_test"
   ]
  },
  {
   "cell_type": "code",
   "execution_count": null,
   "metadata": {
    "execution": {
     "iopub.execute_input": "2023-08-26T07:13:15.792847Z",
     "iopub.status.busy": "2023-08-26T07:13:15.792487Z",
     "iopub.status.idle": "2023-08-26T07:13:15.798638Z",
     "shell.execute_reply": "2023-08-26T07:13:15.797372Z",
     "shell.execute_reply.started": "2023-08-26T07:13:15.792822Z"
    }
   },
   "outputs": [],
   "source": [
    "rf = RandomForestRegressor()"
   ]
  },
  {
   "cell_type": "code",
   "execution_count": null,
   "metadata": {
    "execution": {
     "iopub.execute_input": "2023-08-26T07:13:16.216948Z",
     "iopub.status.busy": "2023-08-26T07:13:16.216299Z",
     "iopub.status.idle": "2023-08-26T07:13:16.821218Z",
     "shell.execute_reply": "2023-08-26T07:13:16.820263Z",
     "shell.execute_reply.started": "2023-08-26T07:13:16.216907Z"
    }
   },
   "outputs": [],
   "source": [
    "rf.fit(x1_train, y1_train)"
   ]
  },
  {
   "cell_type": "code",
   "execution_count": null,
   "metadata": {
    "execution": {
     "iopub.execute_input": "2023-08-26T07:13:16.824834Z",
     "iopub.status.busy": "2023-08-26T07:13:16.824059Z",
     "iopub.status.idle": "2023-08-26T07:13:16.852576Z",
     "shell.execute_reply": "2023-08-26T07:13:16.851421Z",
     "shell.execute_reply.started": "2023-08-26T07:13:16.824803Z"
    }
   },
   "outputs": [],
   "source": [
    "y1_pred = rf.predict(x1_test)\n",
    "y1_pred"
   ]
  },
  {
   "cell_type": "code",
   "execution_count": null,
   "metadata": {
    "execution": {
     "iopub.execute_input": "2023-08-26T07:13:16.854288Z",
     "iopub.status.busy": "2023-08-26T07:13:16.853960Z",
     "iopub.status.idle": "2023-08-26T07:13:16.862293Z",
     "shell.execute_reply": "2023-08-26T07:13:16.861229Z",
     "shell.execute_reply.started": "2023-08-26T07:13:16.854256Z"
    }
   },
   "outputs": [],
   "source": [
    "mse1 = mean_squared_error(y1_test, y1_pred)\n",
    "mse1"
   ]
  },
  {
   "cell_type": "code",
   "execution_count": null,
   "metadata": {
    "execution": {
     "iopub.execute_input": "2023-08-26T07:13:16.864538Z",
     "iopub.status.busy": "2023-08-26T07:13:16.863824Z",
     "iopub.status.idle": "2023-08-26T07:13:16.873594Z",
     "shell.execute_reply": "2023-08-26T07:13:16.872566Z",
     "shell.execute_reply.started": "2023-08-26T07:13:16.864499Z"
    }
   },
   "outputs": [],
   "source": [
    "rmse1 = np.sqrt(mse1)\n",
    "rmse1"
   ]
  },
  {
   "cell_type": "code",
   "execution_count": null,
   "metadata": {
    "execution": {
     "iopub.execute_input": "2023-08-26T07:13:16.878090Z",
     "iopub.status.busy": "2023-08-26T07:13:16.877747Z",
     "iopub.status.idle": "2023-08-26T07:13:16.889169Z",
     "shell.execute_reply": "2023-08-26T07:13:16.888210Z",
     "shell.execute_reply.started": "2023-08-26T07:13:16.878064Z"
    }
   },
   "outputs": [],
   "source": [
    "r2score1 = r2_score(y1_test, y1_pred)\n",
    "r2score1"
   ]
  },
  {
   "cell_type": "raw",
   "metadata": {},
   "source": [
    "Q-2. Imagine you have a dataset where you have different features like Age ,\n",
    "Gender , Height , Weight , BMI , and Blood Pressure and you have to classify the people into\n",
    "different classes like Normal , Overweight , Obesity , Underweight , and Extreme Obesity by using\n",
    "any 4 different classification algorithms. Now you have to build a model which\n",
    "can classify people into different classes.\n",
    "Dataset This is the Dataset You can use this dataset for this question."
   ]
  },
  {
   "cell_type": "code",
   "execution_count": null,
   "metadata": {
    "execution": {
     "iopub.execute_input": "2023-08-26T07:13:16.890612Z",
     "iopub.status.busy": "2023-08-26T07:13:16.890266Z",
     "iopub.status.idle": "2023-08-26T07:13:17.143234Z",
     "shell.execute_reply": "2023-08-26T07:13:17.142303Z",
     "shell.execute_reply.started": "2023-08-26T07:13:16.890545Z"
    }
   },
   "outputs": [],
   "source": [
    "# df2 = pd.read_csv(\"DataSets/ObesityDataSet_raw_and_data_sinthetic.csv\")\n",
    "df2 = pd.read_csv(\"https://raw.githubusercontent.com/Dhirengit/PPT-Ineuron/main/DataSets/ObesityDataSet_raw_and_data_sinthetic.csv\")"
   ]
  },
  {
   "cell_type": "code",
   "execution_count": null,
   "metadata": {
    "execution": {
     "iopub.execute_input": "2023-08-26T07:13:17.146076Z",
     "iopub.status.busy": "2023-08-26T07:13:17.145371Z",
     "iopub.status.idle": "2023-08-26T07:13:17.169290Z",
     "shell.execute_reply": "2023-08-26T07:13:17.168173Z",
     "shell.execute_reply.started": "2023-08-26T07:13:17.146043Z"
    }
   },
   "outputs": [],
   "source": [
    "df2.head()"
   ]
  },
  {
   "cell_type": "code",
   "execution_count": null,
   "metadata": {
    "execution": {
     "iopub.execute_input": "2023-08-26T07:13:17.171859Z",
     "iopub.status.busy": "2023-08-26T07:13:17.171381Z",
     "iopub.status.idle": "2023-08-26T07:13:17.188291Z",
     "shell.execute_reply": "2023-08-26T07:13:17.187403Z",
     "shell.execute_reply.started": "2023-08-26T07:13:17.171826Z"
    }
   },
   "outputs": [],
   "source": [
    "df2.isnull().sum()"
   ]
  },
  {
   "cell_type": "code",
   "execution_count": null,
   "metadata": {
    "execution": {
     "iopub.execute_input": "2023-08-26T07:13:17.190541Z",
     "iopub.status.busy": "2023-08-26T07:13:17.189959Z",
     "iopub.status.idle": "2023-08-26T07:13:17.225329Z",
     "shell.execute_reply": "2023-08-26T07:13:17.224209Z",
     "shell.execute_reply.started": "2023-08-26T07:13:17.190508Z"
    }
   },
   "outputs": [],
   "source": [
    "df2.describe()"
   ]
  },
  {
   "cell_type": "code",
   "execution_count": null,
   "metadata": {
    "execution": {
     "iopub.execute_input": "2023-08-26T07:13:17.227393Z",
     "iopub.status.busy": "2023-08-26T07:13:17.227033Z",
     "iopub.status.idle": "2023-08-26T07:13:17.246750Z",
     "shell.execute_reply": "2023-08-26T07:13:17.245787Z",
     "shell.execute_reply.started": "2023-08-26T07:13:17.227359Z"
    }
   },
   "outputs": [],
   "source": [
    "df2.info()"
   ]
  },
  {
   "cell_type": "code",
   "execution_count": null,
   "metadata": {
    "execution": {
     "iopub.execute_input": "2023-08-26T07:13:17.248464Z",
     "iopub.status.busy": "2023-08-26T07:13:17.248055Z",
     "iopub.status.idle": "2023-08-26T07:13:17.271354Z",
     "shell.execute_reply": "2023-08-26T07:13:17.270362Z",
     "shell.execute_reply.started": "2023-08-26T07:13:17.248416Z"
    }
   },
   "outputs": [],
   "source": [
    "df2.sample(5)"
   ]
  },
  {
   "cell_type": "code",
   "execution_count": null,
   "metadata": {
    "execution": {
     "iopub.execute_input": "2023-08-26T07:13:17.273277Z",
     "iopub.status.busy": "2023-08-26T07:13:17.272688Z",
     "iopub.status.idle": "2023-08-26T07:13:17.279497Z",
     "shell.execute_reply": "2023-08-26T07:13:17.278617Z",
     "shell.execute_reply.started": "2023-08-26T07:13:17.273240Z"
    }
   },
   "outputs": [],
   "source": [
    "df2[\"SCC\"].unique()"
   ]
  },
  {
   "cell_type": "code",
   "execution_count": null,
   "metadata": {
    "execution": {
     "iopub.execute_input": "2023-08-26T07:13:17.281336Z",
     "iopub.status.busy": "2023-08-26T07:13:17.280640Z",
     "iopub.status.idle": "2023-08-26T07:13:17.291319Z",
     "shell.execute_reply": "2023-08-26T07:13:17.290426Z",
     "shell.execute_reply.started": "2023-08-26T07:13:17.281304Z"
    }
   },
   "outputs": [],
   "source": [
    "df2[[\"Age\", \"Weight\"]] = df2[[\"Age\", \"Weight\"]].astype(int)"
   ]
  },
  {
   "cell_type": "code",
   "execution_count": null,
   "metadata": {
    "execution": {
     "iopub.execute_input": "2023-08-26T07:13:17.297697Z",
     "iopub.status.busy": "2023-08-26T07:13:17.297090Z",
     "iopub.status.idle": "2023-08-26T07:13:17.304687Z",
     "shell.execute_reply": "2023-08-26T07:13:17.303951Z",
     "shell.execute_reply.started": "2023-08-26T07:13:17.297666Z"
    }
   },
   "outputs": [],
   "source": [
    "df2[\"Gender\"] = df2[\"Gender\"].apply(lambda x : 1 if x == \"Male\" else 0)"
   ]
  },
  {
   "cell_type": "code",
   "execution_count": null,
   "metadata": {
    "execution": {
     "iopub.execute_input": "2023-08-26T07:13:17.306790Z",
     "iopub.status.busy": "2023-08-26T07:13:17.305944Z",
     "iopub.status.idle": "2023-08-26T07:13:17.314926Z",
     "shell.execute_reply": "2023-08-26T07:13:17.314243Z",
     "shell.execute_reply.started": "2023-08-26T07:13:17.306758Z"
    }
   },
   "outputs": [],
   "source": [
    "df2[\"SMOKE\"] = df2[\"SMOKE\"].apply(lambda x : 1 if x == \"yes\" else 0)"
   ]
  },
  {
   "cell_type": "code",
   "execution_count": null,
   "metadata": {
    "execution": {
     "iopub.execute_input": "2023-08-26T07:13:17.316977Z",
     "iopub.status.busy": "2023-08-26T07:13:17.315962Z",
     "iopub.status.idle": "2023-08-26T07:13:17.325234Z",
     "shell.execute_reply": "2023-08-26T07:13:17.324541Z",
     "shell.execute_reply.started": "2023-08-26T07:13:17.316945Z"
    }
   },
   "outputs": [],
   "source": [
    "df2[\"family_history_with_overweight\"] = df2[\"family_history_with_overweight\"].apply(lambda x : 1 if x == \"yes\" else 0)"
   ]
  },
  {
   "cell_type": "code",
   "execution_count": null,
   "metadata": {
    "execution": {
     "iopub.execute_input": "2023-08-26T07:13:17.327400Z",
     "iopub.status.busy": "2023-08-26T07:13:17.326490Z",
     "iopub.status.idle": "2023-08-26T07:13:17.335343Z",
     "shell.execute_reply": "2023-08-26T07:13:17.334420Z",
     "shell.execute_reply.started": "2023-08-26T07:13:17.327368Z"
    }
   },
   "outputs": [],
   "source": [
    "df2[\"FAVC\"] = df2[\"FAVC\"].apply(lambda x : 1 if x == \"yes\" else 0)"
   ]
  },
  {
   "cell_type": "code",
   "execution_count": null,
   "metadata": {
    "execution": {
     "iopub.execute_input": "2023-08-26T07:13:17.338284Z",
     "iopub.status.busy": "2023-08-26T07:13:17.338001Z",
     "iopub.status.idle": "2023-08-26T07:13:17.346760Z",
     "shell.execute_reply": "2023-08-26T07:13:17.345910Z",
     "shell.execute_reply.started": "2023-08-26T07:13:17.338261Z"
    }
   },
   "outputs": [],
   "source": [
    "df2[\"SCC\"] = df2[\"SCC\"].apply(lambda x : 1 if x == \"yes\" else 0)"
   ]
  },
  {
   "cell_type": "code",
   "execution_count": null,
   "metadata": {
    "execution": {
     "iopub.execute_input": "2023-08-26T07:13:17.348929Z",
     "iopub.status.busy": "2023-08-26T07:13:17.348313Z",
     "iopub.status.idle": "2023-08-26T07:13:17.375265Z",
     "shell.execute_reply": "2023-08-26T07:13:17.374369Z",
     "shell.execute_reply.started": "2023-08-26T07:13:17.348896Z"
    }
   },
   "outputs": [],
   "source": [
    "df2"
   ]
  },
  {
   "cell_type": "code",
   "execution_count": null,
   "metadata": {
    "execution": {
     "iopub.execute_input": "2023-08-26T07:13:17.378081Z",
     "iopub.status.busy": "2023-08-26T07:13:17.377519Z",
     "iopub.status.idle": "2023-08-26T07:13:17.386165Z",
     "shell.execute_reply": "2023-08-26T07:13:17.385092Z",
     "shell.execute_reply.started": "2023-08-26T07:13:17.378048Z"
    }
   },
   "outputs": [],
   "source": [
    "df2[\"MTRANS\"].unique()"
   ]
  },
  {
   "cell_type": "code",
   "execution_count": null,
   "metadata": {
    "execution": {
     "iopub.execute_input": "2023-08-26T07:13:17.387476Z",
     "iopub.status.busy": "2023-08-26T07:13:17.387201Z",
     "iopub.status.idle": "2023-08-26T07:13:17.393263Z",
     "shell.execute_reply": "2023-08-26T07:13:17.392116Z",
     "shell.execute_reply.started": "2023-08-26T07:13:17.387427Z"
    }
   },
   "outputs": [],
   "source": [
    "label_encoder = LabelEncoder()"
   ]
  },
  {
   "cell_type": "code",
   "execution_count": null,
   "metadata": {
    "execution": {
     "iopub.execute_input": "2023-08-26T07:13:17.395527Z",
     "iopub.status.busy": "2023-08-26T07:13:17.394653Z",
     "iopub.status.idle": "2023-08-26T07:13:17.403060Z",
     "shell.execute_reply": "2023-08-26T07:13:17.402121Z",
     "shell.execute_reply.started": "2023-08-26T07:13:17.395496Z"
    }
   },
   "outputs": [],
   "source": [
    "df2[\"CAEC\"] =label_encoder.fit_transform(df2[\"CAEC\"])"
   ]
  },
  {
   "cell_type": "code",
   "execution_count": null,
   "metadata": {
    "execution": {
     "iopub.execute_input": "2023-08-26T07:13:17.404868Z",
     "iopub.status.busy": "2023-08-26T07:13:17.404379Z",
     "iopub.status.idle": "2023-08-26T07:13:17.413348Z",
     "shell.execute_reply": "2023-08-26T07:13:17.412720Z",
     "shell.execute_reply.started": "2023-08-26T07:13:17.404837Z"
    }
   },
   "outputs": [],
   "source": [
    "df2[\"CALC\"] = label_encoder.fit_transform(df2[\"CALC\"])"
   ]
  },
  {
   "cell_type": "code",
   "execution_count": null,
   "metadata": {
    "execution": {
     "iopub.execute_input": "2023-08-26T07:13:17.415431Z",
     "iopub.status.busy": "2023-08-26T07:13:17.414683Z",
     "iopub.status.idle": "2023-08-26T07:13:17.424182Z",
     "shell.execute_reply": "2023-08-26T07:13:17.423549Z",
     "shell.execute_reply.started": "2023-08-26T07:13:17.415397Z"
    }
   },
   "outputs": [],
   "source": [
    "df2[\"MTRANS\"] = label_encoder.fit_transform(df2[\"MTRANS\"])"
   ]
  },
  {
   "cell_type": "code",
   "execution_count": null,
   "metadata": {
    "execution": {
     "iopub.execute_input": "2023-08-26T07:13:17.427359Z",
     "iopub.status.busy": "2023-08-26T07:13:17.426680Z",
     "iopub.status.idle": "2023-08-26T07:13:17.433875Z",
     "shell.execute_reply": "2023-08-26T07:13:17.433190Z",
     "shell.execute_reply.started": "2023-08-26T07:13:17.427328Z"
    }
   },
   "outputs": [],
   "source": [
    "df2[\"NObeyesdad\"] = label_encoder.fit_transform(df2[\"NObeyesdad\"])"
   ]
  },
  {
   "cell_type": "code",
   "execution_count": null,
   "metadata": {
    "execution": {
     "iopub.execute_input": "2023-08-26T07:13:17.435948Z",
     "iopub.status.busy": "2023-08-26T07:13:17.435239Z",
     "iopub.status.idle": "2023-08-26T07:13:17.458328Z",
     "shell.execute_reply": "2023-08-26T07:13:17.457274Z",
     "shell.execute_reply.started": "2023-08-26T07:13:17.435914Z"
    }
   },
   "outputs": [],
   "source": [
    "df2.sample(5)"
   ]
  },
  {
   "cell_type": "code",
   "execution_count": null,
   "metadata": {
    "execution": {
     "iopub.execute_input": "2023-08-26T07:13:17.460290Z",
     "iopub.status.busy": "2023-08-26T07:13:17.459815Z",
     "iopub.status.idle": "2023-08-26T07:13:17.474034Z",
     "shell.execute_reply": "2023-08-26T07:13:17.472906Z",
     "shell.execute_reply.started": "2023-08-26T07:13:17.460259Z"
    }
   },
   "outputs": [],
   "source": [
    "df2.info()"
   ]
  },
  {
   "cell_type": "markdown",
   "metadata": {},
   "source": [
    "# 4 Different Classification algorithms"
   ]
  },
  {
   "cell_type": "code",
   "execution_count": null,
   "metadata": {
    "execution": {
     "iopub.execute_input": "2023-08-26T07:13:17.475975Z",
     "iopub.status.busy": "2023-08-26T07:13:17.475654Z",
     "iopub.status.idle": "2023-08-26T07:13:17.481327Z",
     "shell.execute_reply": "2023-08-26T07:13:17.480259Z",
     "shell.execute_reply.started": "2023-08-26T07:13:17.475946Z"
    }
   },
   "outputs": [],
   "source": [
    "x2 = df2.drop(columns=[\"NObeyesdad\"])\n",
    "y2 = df2[\"NObeyesdad\"]"
   ]
  },
  {
   "cell_type": "code",
   "execution_count": null,
   "metadata": {
    "execution": {
     "iopub.execute_input": "2023-08-26T07:13:17.483410Z",
     "iopub.status.busy": "2023-08-26T07:13:17.483024Z",
     "iopub.status.idle": "2023-08-26T07:13:17.494141Z",
     "shell.execute_reply": "2023-08-26T07:13:17.493108Z",
     "shell.execute_reply.started": "2023-08-26T07:13:17.483380Z"
    }
   },
   "outputs": [],
   "source": [
    "y2"
   ]
  },
  {
   "cell_type": "code",
   "execution_count": null,
   "metadata": {
    "execution": {
     "iopub.execute_input": "2023-08-26T07:13:17.496420Z",
     "iopub.status.busy": "2023-08-26T07:13:17.495495Z",
     "iopub.status.idle": "2023-08-26T07:13:17.502757Z",
     "shell.execute_reply": "2023-08-26T07:13:17.501773Z",
     "shell.execute_reply.started": "2023-08-26T07:13:17.496384Z"
    }
   },
   "outputs": [],
   "source": [
    "x2_train, x2_test, y2_train, y2_test = train_test_split(x2,y2, test_size=0.2)"
   ]
  },
  {
   "cell_type": "code",
   "execution_count": null,
   "metadata": {
    "execution": {
     "iopub.execute_input": "2023-08-26T07:13:17.505214Z",
     "iopub.status.busy": "2023-08-26T07:13:17.504070Z",
     "iopub.status.idle": "2023-08-26T07:13:17.511109Z",
     "shell.execute_reply": "2023-08-26T07:13:17.510477Z",
     "shell.execute_reply.started": "2023-08-26T07:13:17.505181Z"
    }
   },
   "outputs": [],
   "source": [
    "log_r2 = LogisticRegression(solver=\"liblinear\")"
   ]
  },
  {
   "cell_type": "code",
   "execution_count": null,
   "metadata": {
    "execution": {
     "iopub.execute_input": "2023-08-26T07:13:17.513133Z",
     "iopub.status.busy": "2023-08-26T07:13:17.512327Z",
     "iopub.status.idle": "2023-08-26T07:13:17.620965Z",
     "shell.execute_reply": "2023-08-26T07:13:17.619874Z",
     "shell.execute_reply.started": "2023-08-26T07:13:17.513094Z"
    }
   },
   "outputs": [],
   "source": [
    "log_r2.fit(x2_train, y2_train)"
   ]
  },
  {
   "cell_type": "code",
   "execution_count": null,
   "metadata": {
    "execution": {
     "iopub.execute_input": "2023-08-26T07:13:17.622998Z",
     "iopub.status.busy": "2023-08-26T07:13:17.622425Z",
     "iopub.status.idle": "2023-08-26T07:13:17.631682Z",
     "shell.execute_reply": "2023-08-26T07:13:17.630782Z",
     "shell.execute_reply.started": "2023-08-26T07:13:17.622964Z"
    }
   },
   "outputs": [],
   "source": [
    "y2_pred_log = log_r2.predict(x2_test)"
   ]
  },
  {
   "cell_type": "code",
   "execution_count": null,
   "metadata": {
    "execution": {
     "iopub.execute_input": "2023-08-26T07:13:17.633724Z",
     "iopub.status.busy": "2023-08-26T07:13:17.633242Z",
     "iopub.status.idle": "2023-08-26T07:13:17.643105Z",
     "shell.execute_reply": "2023-08-26T07:13:17.641892Z",
     "shell.execute_reply.started": "2023-08-26T07:13:17.633692Z"
    }
   },
   "outputs": [],
   "source": [
    "accuracy_score(y2_test, y2_pred_log)"
   ]
  },
  {
   "cell_type": "code",
   "execution_count": null,
   "metadata": {
    "execution": {
     "iopub.execute_input": "2023-08-26T07:13:17.645206Z",
     "iopub.status.busy": "2023-08-26T07:13:17.644817Z",
     "iopub.status.idle": "2023-08-26T07:13:17.650108Z",
     "shell.execute_reply": "2023-08-26T07:13:17.649037Z",
     "shell.execute_reply.started": "2023-08-26T07:13:17.645174Z"
    }
   },
   "outputs": [],
   "source": [
    "knn2 = KNeighborsClassifier()"
   ]
  },
  {
   "cell_type": "code",
   "execution_count": null,
   "metadata": {
    "execution": {
     "iopub.execute_input": "2023-08-26T07:13:17.652104Z",
     "iopub.status.busy": "2023-08-26T07:13:17.651732Z",
     "iopub.status.idle": "2023-08-26T07:13:17.664554Z",
     "shell.execute_reply": "2023-08-26T07:13:17.663428Z",
     "shell.execute_reply.started": "2023-08-26T07:13:17.652072Z"
    }
   },
   "outputs": [],
   "source": [
    "knn2.fit(x2_train, y2_train)"
   ]
  },
  {
   "cell_type": "code",
   "execution_count": null,
   "metadata": {
    "execution": {
     "iopub.execute_input": "2023-08-26T07:13:17.666840Z",
     "iopub.status.busy": "2023-08-26T07:13:17.666338Z",
     "iopub.status.idle": "2023-08-26T07:13:17.695531Z",
     "shell.execute_reply": "2023-08-26T07:13:17.694676Z",
     "shell.execute_reply.started": "2023-08-26T07:13:17.666807Z"
    }
   },
   "outputs": [],
   "source": [
    "y2_pred_knn = knn2.predict(x2_test)"
   ]
  },
  {
   "cell_type": "code",
   "execution_count": null,
   "metadata": {
    "execution": {
     "iopub.execute_input": "2023-08-26T07:13:17.697937Z",
     "iopub.status.busy": "2023-08-26T07:13:17.697252Z",
     "iopub.status.idle": "2023-08-26T07:13:17.705437Z",
     "shell.execute_reply": "2023-08-26T07:13:17.704626Z",
     "shell.execute_reply.started": "2023-08-26T07:13:17.697896Z"
    }
   },
   "outputs": [],
   "source": [
    "accuracy_score(y2_test, y2_pred_knn)"
   ]
  },
  {
   "cell_type": "code",
   "execution_count": null,
   "metadata": {
    "execution": {
     "iopub.execute_input": "2023-08-26T07:13:17.707720Z",
     "iopub.status.busy": "2023-08-26T07:13:17.706982Z",
     "iopub.status.idle": "2023-08-26T07:13:17.713171Z",
     "shell.execute_reply": "2023-08-26T07:13:17.711928Z",
     "shell.execute_reply.started": "2023-08-26T07:13:17.707683Z"
    }
   },
   "outputs": [],
   "source": [
    "svm2 = svm.SVC(kernel=\"linear\")"
   ]
  },
  {
   "cell_type": "code",
   "execution_count": null,
   "metadata": {
    "execution": {
     "iopub.execute_input": "2023-08-26T07:13:17.715278Z",
     "iopub.status.busy": "2023-08-26T07:13:17.714955Z",
     "iopub.status.idle": "2023-08-26T07:13:17.863838Z",
     "shell.execute_reply": "2023-08-26T07:13:17.862826Z",
     "shell.execute_reply.started": "2023-08-26T07:13:17.715248Z"
    }
   },
   "outputs": [],
   "source": [
    "svm2.fit(x2_train, y2_train)"
   ]
  },
  {
   "cell_type": "code",
   "execution_count": null,
   "metadata": {
    "execution": {
     "iopub.execute_input": "2023-08-26T07:13:17.873038Z",
     "iopub.status.busy": "2023-08-26T07:13:17.872760Z",
     "iopub.status.idle": "2023-08-26T07:13:17.887502Z",
     "shell.execute_reply": "2023-08-26T07:13:17.886594Z",
     "shell.execute_reply.started": "2023-08-26T07:13:17.873014Z"
    }
   },
   "outputs": [],
   "source": [
    "y2_pred_svm = svm2.predict(x2_test)"
   ]
  },
  {
   "cell_type": "code",
   "execution_count": null,
   "metadata": {
    "execution": {
     "iopub.execute_input": "2023-08-26T07:13:17.889154Z",
     "iopub.status.busy": "2023-08-26T07:13:17.888683Z",
     "iopub.status.idle": "2023-08-26T07:13:17.898318Z",
     "shell.execute_reply": "2023-08-26T07:13:17.897313Z",
     "shell.execute_reply.started": "2023-08-26T07:13:17.889121Z"
    }
   },
   "outputs": [],
   "source": [
    "accuracy_score(y2_test, y2_pred_svm)"
   ]
  },
  {
   "cell_type": "code",
   "execution_count": null,
   "metadata": {
    "execution": {
     "iopub.execute_input": "2023-08-26T07:13:17.900276Z",
     "iopub.status.busy": "2023-08-26T07:13:17.899759Z",
     "iopub.status.idle": "2023-08-26T07:13:17.905025Z",
     "shell.execute_reply": "2023-08-26T07:13:17.903955Z",
     "shell.execute_reply.started": "2023-08-26T07:13:17.900243Z"
    }
   },
   "outputs": [],
   "source": [
    "naive2 = MultinomialNB()"
   ]
  },
  {
   "cell_type": "code",
   "execution_count": null,
   "metadata": {
    "execution": {
     "iopub.execute_input": "2023-08-26T07:13:17.906834Z",
     "iopub.status.busy": "2023-08-26T07:13:17.906404Z",
     "iopub.status.idle": "2023-08-26T07:13:17.922467Z",
     "shell.execute_reply": "2023-08-26T07:13:17.921493Z",
     "shell.execute_reply.started": "2023-08-26T07:13:17.906801Z"
    }
   },
   "outputs": [],
   "source": [
    "naive2.fit(x2_train, y2_train)"
   ]
  },
  {
   "cell_type": "code",
   "execution_count": null,
   "metadata": {
    "execution": {
     "iopub.execute_input": "2023-08-26T07:13:17.924820Z",
     "iopub.status.busy": "2023-08-26T07:13:17.924154Z",
     "iopub.status.idle": "2023-08-26T07:13:17.931224Z",
     "shell.execute_reply": "2023-08-26T07:13:17.930252Z",
     "shell.execute_reply.started": "2023-08-26T07:13:17.924789Z"
    }
   },
   "outputs": [],
   "source": [
    "y2_pred_naive = naive2.predict(x2_test)"
   ]
  },
  {
   "cell_type": "code",
   "execution_count": null,
   "metadata": {
    "execution": {
     "iopub.execute_input": "2023-08-26T07:13:17.933091Z",
     "iopub.status.busy": "2023-08-26T07:13:17.932560Z",
     "iopub.status.idle": "2023-08-26T07:13:17.942696Z",
     "shell.execute_reply": "2023-08-26T07:13:17.941659Z",
     "shell.execute_reply.started": "2023-08-26T07:13:17.933059Z"
    }
   },
   "outputs": [],
   "source": [
    "accuracy_score(y2_test, y2_pred_naive)"
   ]
  },
  {
   "cell_type": "raw",
   "metadata": {},
   "source": [
    "Q-3. Imagine you have a dataset where you have different categories of data, Now\n",
    "you need to find the most similar data to the given data by using any 4 different\n",
    "similarity algorithms. Now you have to build a model which can find the most similar\n",
    "data to the given data."
   ]
  },
  {
   "cell_type": "code",
   "execution_count": null,
   "metadata": {
    "execution": {
     "iopub.execute_input": "2023-08-26T07:13:17.944957Z",
     "iopub.status.busy": "2023-08-26T07:13:17.944466Z",
     "iopub.status.idle": "2023-08-26T07:13:20.079673Z",
     "shell.execute_reply": "2023-08-26T07:13:20.078666Z",
     "shell.execute_reply.started": "2023-08-26T07:13:17.944783Z"
    }
   },
   "outputs": [],
   "source": [
    "# df_3 =  pd.read_json(\"DataSets/News_Category_Dataset_v3.json\", lines=True)\n",
    "\n",
    "df_3 =  pd.read_json(\"https://raw.githubusercontent.com/Dhirengit/PPT-Ineuron/main/DataSets/News_Category_Dataset_v3.json\", lines=True)"
   ]
  },
  {
   "cell_type": "code",
   "execution_count": null,
   "metadata": {
    "execution": {
     "iopub.execute_input": "2023-08-26T07:13:20.081726Z",
     "iopub.status.busy": "2023-08-26T07:13:20.081341Z",
     "iopub.status.idle": "2023-08-26T07:13:20.088234Z",
     "shell.execute_reply": "2023-08-26T07:13:20.087164Z",
     "shell.execute_reply.started": "2023-08-26T07:13:20.081695Z"
    }
   },
   "outputs": [],
   "source": [
    "df_3.shape"
   ]
  },
  {
   "cell_type": "code",
   "execution_count": null,
   "metadata": {
    "execution": {
     "iopub.execute_input": "2023-08-26T07:13:20.090600Z",
     "iopub.status.busy": "2023-08-26T07:13:20.089914Z",
     "iopub.status.idle": "2023-08-26T07:13:20.113754Z",
     "shell.execute_reply": "2023-08-26T07:13:20.112914Z",
     "shell.execute_reply.started": "2023-08-26T07:13:20.090568Z"
    }
   },
   "outputs": [],
   "source": [
    "df_3_new = copy.deepcopy(df_3)"
   ]
  },
  {
   "cell_type": "code",
   "execution_count": null,
   "metadata": {
    "execution": {
     "iopub.execute_input": "2023-08-26T07:13:20.115557Z",
     "iopub.status.busy": "2023-08-26T07:13:20.115204Z",
     "iopub.status.idle": "2023-08-26T07:13:20.143328Z",
     "shell.execute_reply": "2023-08-26T07:13:20.142335Z",
     "shell.execute_reply.started": "2023-08-26T07:13:20.115524Z"
    }
   },
   "outputs": [],
   "source": [
    "df_3_new = df_3.sample(1100)\n",
    "df_3_new.shape"
   ]
  },
  {
   "cell_type": "code",
   "execution_count": null,
   "metadata": {
    "execution": {
     "iopub.execute_input": "2023-08-26T07:13:20.145181Z",
     "iopub.status.busy": "2023-08-26T07:13:20.144777Z",
     "iopub.status.idle": "2023-08-26T07:13:20.151483Z",
     "shell.execute_reply": "2023-08-26T07:13:20.150407Z",
     "shell.execute_reply.started": "2023-08-26T07:13:20.145150Z"
    }
   },
   "outputs": [],
   "source": [
    "def link_filter(text):\n",
    "    replace_text = text.replace(\"https://www.huffpost.com/entry/\", \"\")\n",
    "    replace_text = replace_text.replace(\"https://www.huffingtonpost.com/entry/\", \"\")\n",
    "    replace_text = replace_text.split(\"_\")[0]\n",
    "    replace_text = re.sub(\"[^a-zA-Z]\", \" \",replace_text )\n",
    "    return replace_text"
   ]
  },
  {
   "cell_type": "code",
   "execution_count": null,
   "metadata": {
    "execution": {
     "iopub.execute_input": "2023-08-26T07:13:20.153493Z",
     "iopub.status.busy": "2023-08-26T07:13:20.153096Z",
     "iopub.status.idle": "2023-08-26T07:13:21.194672Z",
     "shell.execute_reply": "2023-08-26T07:13:21.193751Z",
     "shell.execute_reply.started": "2023-08-26T07:13:20.153406Z"
    }
   },
   "outputs": [],
   "source": [
    "df_3_new[\"link\"]= df_3[\"link\"].apply(link_filter)"
   ]
  },
  {
   "cell_type": "code",
   "execution_count": null,
   "metadata": {
    "execution": {
     "iopub.execute_input": "2023-08-26T07:13:21.196466Z",
     "iopub.status.busy": "2023-08-26T07:13:21.196087Z",
     "iopub.status.idle": "2023-08-26T07:13:21.204148Z",
     "shell.execute_reply": "2023-08-26T07:13:21.203020Z",
     "shell.execute_reply.started": "2023-08-26T07:13:21.196415Z"
    }
   },
   "outputs": [],
   "source": [
    "df_3_new.shape"
   ]
  },
  {
   "cell_type": "code",
   "execution_count": null,
   "metadata": {
    "execution": {
     "iopub.execute_input": "2023-08-26T07:13:21.206617Z",
     "iopub.status.busy": "2023-08-26T07:13:21.205917Z",
     "iopub.status.idle": "2023-08-26T07:13:21.213593Z",
     "shell.execute_reply": "2023-08-26T07:13:21.212516Z",
     "shell.execute_reply.started": "2023-08-26T07:13:21.206574Z"
    }
   },
   "outputs": [],
   "source": [
    "def text_preprecess(text, use_stop_word=True):\n",
    "    ps = PorterStemmer()\n",
    "#     wordnet = WordNetLemmatizer()\n",
    "    \n",
    "    tags = nltk.sent_tokenize(text)\n",
    "    tag = re.sub(\"[^a-zA-Z]\", \" \", text)\n",
    "    tag = tag.lower()\n",
    "    tag = tag.split()\n",
    "    tag = [ps.stem(word) for word in tag if not word in set(stopwords.words(\"english\"))] if use_stop_word else tag\n",
    "    \n",
    "    return tag"
   ]
  },
  {
   "cell_type": "code",
   "execution_count": null,
   "metadata": {
    "execution": {
     "iopub.execute_input": "2023-08-26T07:13:21.215544Z",
     "iopub.status.busy": "2023-08-26T07:13:21.215198Z",
     "iopub.status.idle": "2023-08-26T07:13:22.242746Z",
     "shell.execute_reply": "2023-08-26T07:13:22.241772Z",
     "shell.execute_reply.started": "2023-08-26T07:13:21.215512Z"
    }
   },
   "outputs": [],
   "source": [
    "df_3_new[\"link\"] = df_3_new[\"link\"].apply(text_preprecess)"
   ]
  },
  {
   "cell_type": "code",
   "execution_count": null,
   "metadata": {
    "execution": {
     "iopub.execute_input": "2023-08-26T07:13:22.244707Z",
     "iopub.status.busy": "2023-08-26T07:13:22.244323Z",
     "iopub.status.idle": "2023-08-26T07:13:24.021163Z",
     "shell.execute_reply": "2023-08-26T07:13:24.020181Z",
     "shell.execute_reply.started": "2023-08-26T07:13:22.244673Z"
    }
   },
   "outputs": [],
   "source": [
    "df_3_new[\"headline\"] = df_3_new[\"headline\"].apply(text_preprecess)"
   ]
  },
  {
   "cell_type": "code",
   "execution_count": null,
   "metadata": {
    "execution": {
     "iopub.execute_input": "2023-08-26T07:13:24.023277Z",
     "iopub.status.busy": "2023-08-26T07:13:24.022344Z",
     "iopub.status.idle": "2023-08-26T07:13:28.013432Z",
     "shell.execute_reply": "2023-08-26T07:13:28.012431Z",
     "shell.execute_reply.started": "2023-08-26T07:13:24.023248Z"
    }
   },
   "outputs": [],
   "source": [
    "df_3_new[\"short_description\"] = df_3_new[\"short_description\"].apply(text_preprecess)"
   ]
  },
  {
   "cell_type": "code",
   "execution_count": null,
   "metadata": {
    "execution": {
     "iopub.execute_input": "2023-08-26T07:13:28.015157Z",
     "iopub.status.busy": "2023-08-26T07:13:28.014817Z",
     "iopub.status.idle": "2023-08-26T07:13:28.074435Z",
     "shell.execute_reply": "2023-08-26T07:13:28.073585Z",
     "shell.execute_reply.started": "2023-08-26T07:13:28.015121Z"
    }
   },
   "outputs": [],
   "source": [
    "df_3_new[\"authors\"] = df_3_new[\"authors\"].apply(text_preprecess, use_stop_word=False)"
   ]
  },
  {
   "cell_type": "code",
   "execution_count": null,
   "metadata": {
    "execution": {
     "iopub.execute_input": "2023-08-26T07:13:28.077743Z",
     "iopub.status.busy": "2023-08-26T07:13:28.077407Z",
     "iopub.status.idle": "2023-08-26T07:13:28.121713Z",
     "shell.execute_reply": "2023-08-26T07:13:28.120769Z",
     "shell.execute_reply.started": "2023-08-26T07:13:28.077719Z"
    }
   },
   "outputs": [],
   "source": [
    "df_3_new[\"category\"] = df_3_new[\"category\"].apply(text_preprecess, use_stop_word=False)"
   ]
  },
  {
   "cell_type": "code",
   "execution_count": null,
   "metadata": {
    "execution": {
     "iopub.execute_input": "2023-08-26T07:13:28.123512Z",
     "iopub.status.busy": "2023-08-26T07:13:28.123099Z",
     "iopub.status.idle": "2023-08-26T07:13:28.137468Z",
     "shell.execute_reply": "2023-08-26T07:13:28.136493Z",
     "shell.execute_reply.started": "2023-08-26T07:13:28.123479Z"
    }
   },
   "outputs": [],
   "source": [
    "df_3_new[\"tags\"] = df_3_new[\"link\"] + df_3_new[\"headline\"] + df_3_new[\"short_description\"] + df_3_new[\"category\"] + df_3_new[\"authors\"]"
   ]
  },
  {
   "cell_type": "code",
   "execution_count": null,
   "metadata": {
    "execution": {
     "iopub.execute_input": "2023-08-26T07:13:28.139985Z",
     "iopub.status.busy": "2023-08-26T07:13:28.138934Z",
     "iopub.status.idle": "2023-08-26T07:13:28.148905Z",
     "shell.execute_reply": "2023-08-26T07:13:28.147831Z",
     "shell.execute_reply.started": "2023-08-26T07:13:28.139953Z"
    }
   },
   "outputs": [],
   "source": [
    "df_3_new.drop(columns=[\"link\", \"headline\", \"short_description\", \"category\", \"authors\",\"date\"], inplace=True)"
   ]
  },
  {
   "cell_type": "code",
   "execution_count": null,
   "metadata": {
    "execution": {
     "iopub.execute_input": "2023-08-26T07:13:28.150685Z",
     "iopub.status.busy": "2023-08-26T07:13:28.150178Z",
     "iopub.status.idle": "2023-08-26T07:13:28.162607Z",
     "shell.execute_reply": "2023-08-26T07:13:28.161592Z",
     "shell.execute_reply.started": "2023-08-26T07:13:28.150652Z"
    }
   },
   "outputs": [],
   "source": [
    "df_3_new[\"tags\"] = df_3_new[\"tags\"].apply(lambda text : \" \".join(text))"
   ]
  },
  {
   "cell_type": "code",
   "execution_count": null,
   "metadata": {
    "execution": {
     "iopub.execute_input": "2023-08-26T07:13:28.164606Z",
     "iopub.status.busy": "2023-08-26T07:13:28.164145Z",
     "iopub.status.idle": "2023-08-26T07:13:28.176062Z",
     "shell.execute_reply": "2023-08-26T07:13:28.175134Z",
     "shell.execute_reply.started": "2023-08-26T07:13:28.164536Z"
    }
   },
   "outputs": [],
   "source": [
    "df_3_new.shape"
   ]
  },
  {
   "cell_type": "code",
   "execution_count": null,
   "metadata": {
    "execution": {
     "iopub.execute_input": "2023-08-26T07:13:28.177912Z",
     "iopub.status.busy": "2023-08-26T07:13:28.177569Z",
     "iopub.status.idle": "2023-08-26T07:13:28.191265Z",
     "shell.execute_reply": "2023-08-26T07:13:28.190392Z",
     "shell.execute_reply.started": "2023-08-26T07:13:28.177860Z"
    }
   },
   "outputs": [],
   "source": [
    "df_3_new"
   ]
  },
  {
   "cell_type": "code",
   "execution_count": null,
   "metadata": {
    "execution": {
     "iopub.execute_input": "2023-08-26T07:13:28.193182Z",
     "iopub.status.busy": "2023-08-26T07:13:28.192786Z",
     "iopub.status.idle": "2023-08-26T07:13:28.200657Z",
     "shell.execute_reply": "2023-08-26T07:13:28.199741Z",
     "shell.execute_reply.started": "2023-08-26T07:13:28.193151Z"
    }
   },
   "outputs": [],
   "source": [
    "cv3 = CountVectorizer(max_features=1500)"
   ]
  },
  {
   "cell_type": "code",
   "execution_count": null,
   "metadata": {
    "execution": {
     "iopub.execute_input": "2023-08-26T07:13:28.202624Z",
     "iopub.status.busy": "2023-08-26T07:13:28.202078Z",
     "iopub.status.idle": "2023-08-26T07:13:28.271341Z",
     "shell.execute_reply": "2023-08-26T07:13:28.270335Z",
     "shell.execute_reply.started": "2023-08-26T07:13:28.202577Z"
    }
   },
   "outputs": [],
   "source": [
    "vector = cv3.fit_transform(df_3_new[\"tags\"]).toarray()\n",
    "vector.shape"
   ]
  },
  {
   "cell_type": "code",
   "execution_count": null,
   "metadata": {
    "execution": {
     "iopub.execute_input": "2023-08-26T07:13:28.272935Z",
     "iopub.status.busy": "2023-08-26T07:13:28.272575Z",
     "iopub.status.idle": "2023-08-26T07:13:28.333101Z",
     "shell.execute_reply": "2023-08-26T07:13:28.331596Z",
     "shell.execute_reply.started": "2023-08-26T07:13:28.272903Z"
    }
   },
   "outputs": [],
   "source": [
    "from sklearn.metrics.pairwise import cosine_similarity\n",
    "similarity = cosine_similarity(vector)"
   ]
  },
  {
   "cell_type": "code",
   "execution_count": null,
   "metadata": {
    "execution": {
     "iopub.execute_input": "2023-08-26T07:13:28.335041Z",
     "iopub.status.busy": "2023-08-26T07:13:28.334689Z",
     "iopub.status.idle": "2023-08-26T07:13:28.345160Z",
     "shell.execute_reply": "2023-08-26T07:13:28.343898Z",
     "shell.execute_reply.started": "2023-08-26T07:13:28.335004Z"
    }
   },
   "outputs": [],
   "source": [
    "similarity"
   ]
  },
  {
   "cell_type": "code",
   "execution_count": null,
   "metadata": {
    "execution": {
     "iopub.execute_input": "2023-08-26T07:13:28.347137Z",
     "iopub.status.busy": "2023-08-26T07:13:28.346618Z",
     "iopub.status.idle": "2023-08-26T07:13:28.354878Z",
     "shell.execute_reply": "2023-08-26T07:13:28.353641Z",
     "shell.execute_reply.started": "2023-08-26T07:13:28.347093Z"
    }
   },
   "outputs": [],
   "source": [
    "# def euclidean_distance(point1, point2):\n",
    "#     return np.linalg.norm(point1 - point2)\n",
    "\n",
    "# # Function to find the most similar data point using Euclidean distance\n",
    "# def find_most_similar_data(dataset, given_data):\n",
    "#     distances = [euclidean_distance(given_data, data) for data in dataset]\n",
    "#     most_similar_index = np.argmin(distances)\n",
    "#     return dataset[most_similar_index]\n",
    "\n",
    "\n",
    "# # Example usage:\n",
    "# given_data = vector[0]  # The point for which we want to find the most similar point\n",
    "# most_similar_data = find_most_similar_data(vector, given_data)\n",
    "\n",
    "# print(\"Given data point:\", given_data, vector.shape)\n",
    "# print(\"Most similar data point:\", most_similar_data, given_data.shape)"
   ]
  },
  {
   "cell_type": "code",
   "execution_count": null,
   "metadata": {
    "execution": {
     "iopub.execute_input": "2023-08-26T07:13:28.356930Z",
     "iopub.status.busy": "2023-08-26T07:13:28.356596Z",
     "iopub.status.idle": "2023-08-26T07:13:42.557153Z",
     "shell.execute_reply": "2023-08-26T07:13:42.555976Z",
     "shell.execute_reply.started": "2023-08-26T07:13:28.356899Z"
    }
   },
   "outputs": [],
   "source": [
    "data_array = vector\n",
    "\n",
    "def cosine_similarity(vec1, vec2):\n",
    "    dot_product = np.dot(vec1, vec2)\n",
    "    norm_vec1 = np.linalg.norm(vec1)\n",
    "    norm_vec2 = np.linalg.norm(vec2)\n",
    "    return dot_product / (norm_vec1 * norm_vec2)\n",
    "\n",
    "max_similarity = -1\n",
    "most_similar_pair = (0, 0)\n",
    "\n",
    "for i in range(len(data_array)):\n",
    "    for j in range(i + 1, len(data_array)):\n",
    "        similarity = cosine_similarity(data_array[i], data_array[j])\n",
    "        if similarity > max_similarity:\n",
    "            max_similarity = similarity\n",
    "            most_similar_pair = (i, j)\n",
    "            print(i,j,\"max_similarity\", max_similarity)\n",
    "\n",
    "\n",
    "print(\"Cosine Most similar pair:\", most_similar_pair)\n",
    "print(\"Cosine Similarity score:\", max_similarity)"
   ]
  },
  {
   "cell_type": "code",
   "execution_count": null,
   "metadata": {
    "execution": {
     "iopub.execute_input": "2023-08-26T07:13:42.561344Z",
     "iopub.status.busy": "2023-08-26T07:13:42.560316Z",
     "iopub.status.idle": "2023-08-26T07:13:42.571012Z",
     "shell.execute_reply": "2023-08-26T07:13:42.568718Z",
     "shell.execute_reply.started": "2023-08-26T07:13:42.561305Z"
    }
   },
   "outputs": [],
   "source": [
    "df_3_new.iloc[most_similar_pair[0]], df_3_new.iloc[most_similar_pair[1]]"
   ]
  },
  {
   "cell_type": "code",
   "execution_count": null,
   "metadata": {
    "execution": {
     "iopub.execute_input": "2023-08-26T07:13:42.573206Z",
     "iopub.status.busy": "2023-08-26T07:13:42.572625Z",
     "iopub.status.idle": "2023-08-26T07:13:52.513829Z",
     "shell.execute_reply": "2023-08-26T07:13:52.512712Z",
     "shell.execute_reply.started": "2023-08-26T07:13:42.573171Z"
    }
   },
   "outputs": [],
   "source": [
    "max_similarity= -1\n",
    "most_similar_pair = (0, 0)\n",
    "\n",
    "for i in range(len(data_array)):\n",
    "    for j in range(i + 1, len(data_array)):\n",
    "        distance = euclidean(data_array[i], data_array[j])\n",
    "        similarity = 1 / (1 + distance)\n",
    "        if similarity > max_similarity:\n",
    "            max_similarity = similarity\n",
    "            most_similar_pair = (i, j)\n",
    "            print(i,j,\"max_similarity\", max_similarity)\n",
    "     \n",
    "print(\"Euclidean Most Similar pair:\", most_similar_pair)\n",
    "print(\"Euclidean Similarity score:\", max_similarity)"
   ]
  },
  {
   "cell_type": "code",
   "execution_count": null,
   "metadata": {
    "execution": {
     "iopub.execute_input": "2023-08-26T07:13:52.517530Z",
     "iopub.status.busy": "2023-08-26T07:13:52.516380Z",
     "iopub.status.idle": "2023-08-26T07:13:52.526045Z",
     "shell.execute_reply": "2023-08-26T07:13:52.524929Z",
     "shell.execute_reply.started": "2023-08-26T07:13:52.517491Z"
    }
   },
   "outputs": [],
   "source": [
    "df_3_new.iloc[most_similar_pair[0]], df_3_new.iloc[most_similar_pair[1]]"
   ]
  },
  {
   "cell_type": "code",
   "execution_count": null,
   "metadata": {
    "execution": {
     "iopub.execute_input": "2023-08-26T07:13:52.528210Z",
     "iopub.status.busy": "2023-08-26T07:13:52.527784Z",
     "iopub.status.idle": "2023-08-26T07:14:06.364109Z",
     "shell.execute_reply": "2023-08-26T07:14:06.362346Z",
     "shell.execute_reply.started": "2023-08-26T07:13:52.528171Z"
    }
   },
   "outputs": [],
   "source": [
    "#Jaccard Similarity\n",
    "def jaccard_similarity(set1, set2):\n",
    "    intersection = len(set1.intersection(set2))\n",
    "    union = len(set1.union(set2))\n",
    "    similarity = intersection / union\n",
    "    return similarity\n",
    "\n",
    "most_similar_row = None\n",
    "max_similarity = -1\n",
    "\n",
    "for i in range(data_array.shape[0]):\n",
    "    for j in range(i+1 , data_array.shape[0]):\n",
    "        jaccard_similarity = 1 - jaccard(data_array[i], data_array[j])\n",
    "        if jaccard_similarity > max_similarity:\n",
    "            max_similarity = jaccard_similarity\n",
    "            most_similar_row = i, j\n",
    "            print(i,j, max_similarity)\n",
    "            \n",
    "\n",
    "# Print the indices of the most similar rows and their Jaccard similarity score\n",
    "print(f\"Jaccard Most similar rows: {most_similar_row[0]} and {most_similar_row[1]}\")\n",
    "print(f\"Jaccard similarity score: {max_similarity}\")"
   ]
  },
  {
   "cell_type": "code",
   "execution_count": null,
   "metadata": {
    "execution": {
     "iopub.execute_input": "2023-08-26T07:14:06.366021Z",
     "iopub.status.busy": "2023-08-26T07:14:06.365398Z",
     "iopub.status.idle": "2023-08-26T07:14:06.374973Z",
     "shell.execute_reply": "2023-08-26T07:14:06.373814Z",
     "shell.execute_reply.started": "2023-08-26T07:14:06.365984Z"
    }
   },
   "outputs": [],
   "source": [
    "df_3_new.iloc[most_similar_row[0]], df_3_new.iloc[most_similar_row[1]]"
   ]
  },
  {
   "cell_type": "markdown",
   "metadata": {},
   "source": [
    "**correlation between Rows**"
   ]
  },
  {
   "cell_type": "code",
   "execution_count": null,
   "metadata": {
    "execution": {
     "iopub.execute_input": "2023-08-26T07:14:42.616907Z",
     "iopub.status.busy": "2023-08-26T07:14:42.616515Z",
     "iopub.status.idle": "2023-08-26T07:14:42.622306Z",
     "shell.execute_reply": "2023-08-26T07:14:42.620740Z",
     "shell.execute_reply.started": "2023-08-26T07:14:42.616877Z"
    }
   },
   "outputs": [],
   "source": [
    "from scipy.spatial.distance import euclidean, jaccard, hamming, correlation"
   ]
  },
  {
   "cell_type": "code",
   "execution_count": null,
   "metadata": {
    "execution": {
     "iopub.execute_input": "2023-08-26T07:16:05.999268Z",
     "iopub.status.busy": "2023-08-26T07:16:05.998426Z",
     "iopub.status.idle": "2023-08-26T07:16:06.009406Z",
     "shell.execute_reply": "2023-08-26T07:16:06.008360Z",
     "shell.execute_reply.started": "2023-08-26T07:16:05.999230Z"
    }
   },
   "outputs": [],
   "source": [
    "correlation(data_array[1], data_array[1])"
   ]
  },
  {
   "cell_type": "code",
   "execution_count": null,
   "metadata": {
    "execution": {
     "iopub.execute_input": "2023-08-26T07:24:27.659690Z",
     "iopub.status.busy": "2023-08-26T07:24:27.657577Z",
     "iopub.status.idle": "2023-08-26T07:25:35.522917Z",
     "shell.execute_reply": "2023-08-26T07:25:35.521964Z",
     "shell.execute_reply.started": "2023-08-26T07:24:27.659655Z"
    }
   },
   "outputs": [],
   "source": [
    "most_similar_row = None\n",
    "max_correlation = -1\n",
    "\n",
    "for i in range(data_array.shape[0]):\n",
    "    for j in range(i+1 , data_array.shape[0]):\n",
    "        corr = 1 - correlation(data_array[i], data_array[j])\n",
    "        if corr > max_correlation:\n",
    "            max_correlation = corr\n",
    "            most_similar_row = i, j\n",
    "            print(i,j, max_correlation)\n",
    "            \n",
    "\n",
    "# Print the indices of the most similar rows and their Jaccard similarity score\n",
    "print(f\"Most correlation similar rows: {most_similar_row[0]} and {most_similar_row[1]}\")\n",
    "print(f\"correlation similarity score: {max_correlation}\")\n",
    "\n",
    "df_3_new.iloc[most_similar_row[0]], df_3_new.iloc[most_similar_row[1]]"
   ]
  },
  {
   "cell_type": "raw",
   "metadata": {},
   "source": [
    "Q-4. Imagine you working as a sale manager now you need to predict the Revenue and whether that particular revenue is on the weekend or not and find the Informational_Duration using the Ensemble learning algorithm Dataset This is the Dataset You can use this dataset for this question."
   ]
  },
  {
   "cell_type": "code",
   "execution_count": null,
   "metadata": {},
   "outputs": [],
   "source": [
    "import pandas as pd\n",
    "df_4 = pd.read_csv(\"DataSets/online_shoppers_intention.csv\")\n",
    "# df_4 = pd.read_csv(\"https://raw.githubusercontent.com/Dhirengit/PPT-Ineuron/main/DataSets/online_shoppers_intention.csv\")\n",
    "df_4.shape"
   ]
  },
  {
   "cell_type": "code",
   "execution_count": null,
   "metadata": {},
   "outputs": [],
   "source": [
    "df_4.sample(10)"
   ]
  },
  {
   "cell_type": "code",
   "execution_count": null,
   "metadata": {},
   "outputs": [],
   "source": [
    "from sklearn.preprocessing import LabelEncoder\n",
    "import copy\n",
    "\n",
    "# Data preprocessin\n",
    "df_4[\"Weekend\"] = df_4[\"Weekend\"].apply(lambda x : 1 if x else 0)\n",
    "df_4[\"Revenue\"] = df_4[\"Revenue\"].apply(lambda x : 1 if x else 0)\n",
    "\n",
    "# Encode categorical features (e.g., Month, VisitorType) using LabelEncoder\n",
    "label_encoder = LabelEncoder()\n",
    "df_4['Month'] = label_encoder.fit_transform(df_4['Month'])\n",
    "df_4['VisitorType'] = label_encoder.fit_transform(df_4['VisitorType'])"
   ]
  },
  {
   "cell_type": "code",
   "execution_count": null,
   "metadata": {},
   "outputs": [],
   "source": [
    "# Import necessary libraries\n",
    "from sklearn.model_selection import train_test_split\n",
    "from xgboost import XGBClassifier\n",
    "from sklearn.ensemble import RandomForestClassifier\n",
    "from sklearn.ensemble import VotingClassifier\n",
    "from sklearn.metrics import accuracy_score\n",
    "data = copy.deepcopy(df_4)  \n",
    "\n",
    "# Split the data into features (X) and the target variable (y)\n",
    "X = data.drop(columns=[\"Revenue\"])\n",
    "y = data['Revenue']\n",
    "\n",
    "# Split the data into training and testing sets\n",
    "X_train, X_test, y_train, y_test = train_test_split(X, y, test_size=0.25)\n",
    "\n",
    "# Ensemble model using XGBoost and Random Forest\n",
    "xgb_model = XGBClassifier()\n",
    "rf_model = RandomForestClassifier()\n",
    "ensemble_model = VotingClassifier(estimators=[('XGB', xgb_model), ('RF', rf_model)], voting='soft')\n",
    "\n",
    "# Train the ensemble model\n",
    "ensemble_model.fit(X_train, y_train)\n",
    "\n",
    "# Make predictions\n",
    "y_pred = ensemble_model.predict(X_test)\n",
    "\n",
    "# Calculate accuracy\n",
    "accuracy = accuracy_score(y_test, y_pred)\n",
    "print(f\"Accuracy of Total data: {accuracy:.2f}\")\n",
    "\n",
    "# Predicting whether it's a weekend or not\n",
    "weekend_predictions = ensemble_model.predict(X_test)\n",
    "\n",
    "# Finding Informational_Duration\n",
    "informational_duration = X_test[['Informational_Duration', 'Weekend']]\n",
    "# print(\"informational_duration\", informational_duration)\n",
    "# Now, you can work with 'weekend_predictions' and 'informational_duration' as needed.\n"
   ]
  },
  {
   "cell_type": "markdown",
   "metadata": {},
   "source": [
    "# Train model on Weekend Dataset"
   ]
  },
  {
   "cell_type": "code",
   "execution_count": null,
   "metadata": {},
   "outputs": [],
   "source": [
    "weekend_dataset = copy.deepcopy(df_4)\n",
    "weekend_dataset.shape"
   ]
  },
  {
   "cell_type": "code",
   "execution_count": null,
   "metadata": {},
   "outputs": [],
   "source": [
    "weekend_dataset = weekend_dataset[weekend_dataset[\"Weekend\"] == 1]\n",
    "weekend_dataset.shape"
   ]
  },
  {
   "cell_type": "code",
   "execution_count": null,
   "metadata": {},
   "outputs": [],
   "source": [
    "weekend_dataset[[\"Informational_Duration\"]].sum()"
   ]
  },
  {
   "cell_type": "code",
   "execution_count": null,
   "metadata": {},
   "outputs": [],
   "source": [
    "weekend_X = data.drop(columns=[\"Revenue\"])\n",
    "weekend_y = data['Revenue']\n",
    "\n",
    "# Split the data into training and testing sets\n",
    "X_train, X_test, y_train, y_test = train_test_split(weekend_X, weekend_y, test_size=0.25)\n",
    "\n",
    "# Ensemble model using XGBoost and Random Forest\n",
    "xgb_model = XGBClassifier()\n",
    "rf_model = RandomForestClassifier()\n",
    "ensemble_model = VotingClassifier(estimators=[('XGB', xgb_model), ('RF', rf_model)], voting='soft')\n",
    "\n",
    "# Train the ensemble model\n",
    "ensemble_model.fit(X_train, y_train)\n",
    "\n",
    "# Make predictions\n",
    "y_pred = ensemble_model.predict(X_test)\n",
    "\n",
    "# Calculate accuracy\n",
    "accuracy = accuracy_score(y_test, y_pred)\n",
    "print(f\"Accuracy of Weekend data: {accuracy:.4f}\")\n",
    "\n",
    "# Predicting whether it's a weekend or not\n",
    "weekend_predictions = ensemble_model.predict(X_test)"
   ]
  },
  {
   "cell_type": "code",
   "execution_count": null,
   "metadata": {},
   "outputs": [],
   "source": [
    "no_weekend_dataset = copy.deepcopy(df_4)\n",
    "no_weekend_dataset.shape"
   ]
  },
  {
   "cell_type": "code",
   "execution_count": null,
   "metadata": {},
   "outputs": [],
   "source": [
    "no_weekend_dataset.head()"
   ]
  },
  {
   "cell_type": "code",
   "execution_count": null,
   "metadata": {},
   "outputs": [],
   "source": [
    "no_weekend_dataset = df_4[df_4[\"Weekend\"] == 0]\n",
    "no_weekend_dataset.shape, no_weekend_dataset[[\"Informational_Duration\"]].sum()"
   ]
  },
  {
   "cell_type": "code",
   "execution_count": null,
   "metadata": {},
   "outputs": [],
   "source": [
    "no_weekend_X = data.drop(columns=[\"Revenue\"])\n",
    "no_weekend_y = data['Revenue']\n",
    "\n",
    "# Split the data into training and testing sets\n",
    "X_train, X_test, y_train, y_test = train_test_split(no_weekend_X, no_weekend_y, test_size=0.25)\n",
    "\n",
    "# Ensemble model using XGBoost and Random Forest\n",
    "xgb_model = XGBClassifier()\n",
    "rf_model = RandomForestClassifier()\n",
    "ensemble_model = VotingClassifier(estimators=[('XGB', xgb_model), ('RF', rf_model)], voting='soft')\n",
    "\n",
    "# Train the ensemble model\n",
    "ensemble_model.fit(X_train, y_train)\n",
    "\n",
    "# Make predictions\n",
    "y_pred = ensemble_model.predict(X_test)\n",
    "\n",
    "# Calculate accuracy\n",
    "accuracy = accuracy_score(y_test, y_pred)\n",
    "print(f\"Accuracy of Without Weekend data: {accuracy:.4f}\")\n",
    "accuracy\n",
    "# Predicting whether it's a weekend or not\n",
    "weekend_predictions = ensemble_model.predict(X_test)\n",
    "weekend_predictions"
   ]
  },
  {
   "cell_type": "markdown",
   "metadata": {},
   "source": [
    "##### Q-5. Uber is a taxi service provider as we know, we need to predict the high booking area using an Unsupervised algorithm and price for the location using a supervised algorithm and use some map function to display the data Dataset This is the Dataset You can use this dataset for this question."
   ]
  },
  {
   "cell_type": "code",
   "execution_count": 1,
   "metadata": {},
   "outputs": [
    {
     "data": {
      "text/html": [
       "<div>\n",
       "<style scoped>\n",
       "    .dataframe tbody tr th:only-of-type {\n",
       "        vertical-align: middle;\n",
       "    }\n",
       "\n",
       "    .dataframe tbody tr th {\n",
       "        vertical-align: top;\n",
       "    }\n",
       "\n",
       "    .dataframe thead th {\n",
       "        text-align: right;\n",
       "    }\n",
       "</style>\n",
       "<table border=\"1\" class=\"dataframe\">\n",
       "  <thead>\n",
       "    <tr style=\"text-align: right;\">\n",
       "      <th></th>\n",
       "      <th>id</th>\n",
       "      <th>timestamp</th>\n",
       "      <th>hour</th>\n",
       "      <th>day</th>\n",
       "      <th>month</th>\n",
       "      <th>datetime</th>\n",
       "      <th>timezone</th>\n",
       "      <th>source</th>\n",
       "      <th>destination</th>\n",
       "      <th>cab_type</th>\n",
       "      <th>...</th>\n",
       "      <th>precipIntensityMax</th>\n",
       "      <th>uvIndexTime</th>\n",
       "      <th>temperatureMin</th>\n",
       "      <th>temperatureMinTime</th>\n",
       "      <th>temperatureMax</th>\n",
       "      <th>temperatureMaxTime</th>\n",
       "      <th>apparentTemperatureMin</th>\n",
       "      <th>apparentTemperatureMinTime</th>\n",
       "      <th>apparentTemperatureMax</th>\n",
       "      <th>apparentTemperatureMaxTime</th>\n",
       "    </tr>\n",
       "  </thead>\n",
       "  <tbody>\n",
       "    <tr>\n",
       "      <th>327516</th>\n",
       "      <td>ca83b35e-5168-47f6-99e5-659ffdb232be</td>\n",
       "      <td>1.544694e+09</td>\n",
       "      <td>9</td>\n",
       "      <td>13</td>\n",
       "      <td>12</td>\n",
       "      <td>2018-12-13 09:35:08</td>\n",
       "      <td>America/New_York</td>\n",
       "      <td>North End</td>\n",
       "      <td>Theatre District</td>\n",
       "      <td>Uber</td>\n",
       "      <td>...</td>\n",
       "      <td>0.0001</td>\n",
       "      <td>1544716800</td>\n",
       "      <td>18.19</td>\n",
       "      <td>1544688000</td>\n",
       "      <td>34.02</td>\n",
       "      <td>1544731200</td>\n",
       "      <td>13.67</td>\n",
       "      <td>1544688000</td>\n",
       "      <td>33.04</td>\n",
       "      <td>1544734800</td>\n",
       "    </tr>\n",
       "    <tr>\n",
       "      <th>111711</th>\n",
       "      <td>05af01e8-32c3-4c14-b188-94c35d1e1ddd</td>\n",
       "      <td>1.543406e+09</td>\n",
       "      <td>11</td>\n",
       "      <td>28</td>\n",
       "      <td>11</td>\n",
       "      <td>2018-11-28 11:46:22</td>\n",
       "      <td>America/New_York</td>\n",
       "      <td>Boston University</td>\n",
       "      <td>Financial District</td>\n",
       "      <td>Uber</td>\n",
       "      <td>...</td>\n",
       "      <td>0.0000</td>\n",
       "      <td>1543420800</td>\n",
       "      <td>33.85</td>\n",
       "      <td>1543399200</td>\n",
       "      <td>42.61</td>\n",
       "      <td>1543438800</td>\n",
       "      <td>30.03</td>\n",
       "      <td>1543399200</td>\n",
       "      <td>36.57</td>\n",
       "      <td>1543438800</td>\n",
       "    </tr>\n",
       "    <tr>\n",
       "      <th>169383</th>\n",
       "      <td>6844dbdb-9241-452a-a8b3-905759cd061a</td>\n",
       "      <td>1.543405e+09</td>\n",
       "      <td>11</td>\n",
       "      <td>28</td>\n",
       "      <td>11</td>\n",
       "      <td>2018-11-28 11:41:23</td>\n",
       "      <td>America/New_York</td>\n",
       "      <td>North Station</td>\n",
       "      <td>North End</td>\n",
       "      <td>Uber</td>\n",
       "      <td>...</td>\n",
       "      <td>0.0000</td>\n",
       "      <td>1543420800</td>\n",
       "      <td>33.85</td>\n",
       "      <td>1543399200</td>\n",
       "      <td>42.61</td>\n",
       "      <td>1543438800</td>\n",
       "      <td>30.03</td>\n",
       "      <td>1543399200</td>\n",
       "      <td>36.57</td>\n",
       "      <td>1543438800</td>\n",
       "    </tr>\n",
       "    <tr>\n",
       "      <th>389959</th>\n",
       "      <td>7b29ff75-c40c-4080-9326-2d707512fc31</td>\n",
       "      <td>1.544888e+09</td>\n",
       "      <td>15</td>\n",
       "      <td>15</td>\n",
       "      <td>12</td>\n",
       "      <td>2018-12-15 15:35:11</td>\n",
       "      <td>America/New_York</td>\n",
       "      <td>Beacon Hill</td>\n",
       "      <td>Fenway</td>\n",
       "      <td>Uber</td>\n",
       "      <td>...</td>\n",
       "      <td>0.0081</td>\n",
       "      <td>1544893200</td>\n",
       "      <td>39.68</td>\n",
       "      <td>1544929200</td>\n",
       "      <td>54.46</td>\n",
       "      <td>1544896800</td>\n",
       "      <td>36.43</td>\n",
       "      <td>1544929200</td>\n",
       "      <td>53.79</td>\n",
       "      <td>1544896800</td>\n",
       "    </tr>\n",
       "    <tr>\n",
       "      <th>124352</th>\n",
       "      <td>a624f525-47f6-481c-83bc-cf7e48793ad0</td>\n",
       "      <td>1.543457e+09</td>\n",
       "      <td>2</td>\n",
       "      <td>29</td>\n",
       "      <td>11</td>\n",
       "      <td>2018-11-29 02:05:07</td>\n",
       "      <td>America/New_York</td>\n",
       "      <td>Financial District</td>\n",
       "      <td>Haymarket Square</td>\n",
       "      <td>Uber</td>\n",
       "      <td>...</td>\n",
       "      <td>0.0000</td>\n",
       "      <td>1543420800</td>\n",
       "      <td>33.60</td>\n",
       "      <td>1543399200</td>\n",
       "      <td>42.70</td>\n",
       "      <td>1543438800</td>\n",
       "      <td>30.08</td>\n",
       "      <td>1543399200</td>\n",
       "      <td>36.77</td>\n",
       "      <td>1543438800</td>\n",
       "    </tr>\n",
       "  </tbody>\n",
       "</table>\n",
       "<p>5 rows × 57 columns</p>\n",
       "</div>"
      ],
      "text/plain": [
       "                                          id     timestamp  hour  day  month  \\\n",
       "327516  ca83b35e-5168-47f6-99e5-659ffdb232be  1.544694e+09     9   13     12   \n",
       "111711  05af01e8-32c3-4c14-b188-94c35d1e1ddd  1.543406e+09    11   28     11   \n",
       "169383  6844dbdb-9241-452a-a8b3-905759cd061a  1.543405e+09    11   28     11   \n",
       "389959  7b29ff75-c40c-4080-9326-2d707512fc31  1.544888e+09    15   15     12   \n",
       "124352  a624f525-47f6-481c-83bc-cf7e48793ad0  1.543457e+09     2   29     11   \n",
       "\n",
       "                   datetime          timezone              source  \\\n",
       "327516  2018-12-13 09:35:08  America/New_York           North End   \n",
       "111711  2018-11-28 11:46:22  America/New_York   Boston University   \n",
       "169383  2018-11-28 11:41:23  America/New_York       North Station   \n",
       "389959  2018-12-15 15:35:11  America/New_York         Beacon Hill   \n",
       "124352  2018-11-29 02:05:07  America/New_York  Financial District   \n",
       "\n",
       "               destination cab_type  ... precipIntensityMax uvIndexTime  \\\n",
       "327516    Theatre District     Uber  ...             0.0001  1544716800   \n",
       "111711  Financial District     Uber  ...             0.0000  1543420800   \n",
       "169383           North End     Uber  ...             0.0000  1543420800   \n",
       "389959              Fenway     Uber  ...             0.0081  1544893200   \n",
       "124352    Haymarket Square     Uber  ...             0.0000  1543420800   \n",
       "\n",
       "        temperatureMin  temperatureMinTime  temperatureMax  \\\n",
       "327516           18.19          1544688000           34.02   \n",
       "111711           33.85          1543399200           42.61   \n",
       "169383           33.85          1543399200           42.61   \n",
       "389959           39.68          1544929200           54.46   \n",
       "124352           33.60          1543399200           42.70   \n",
       "\n",
       "        temperatureMaxTime  apparentTemperatureMin  \\\n",
       "327516          1544731200                   13.67   \n",
       "111711          1543438800                   30.03   \n",
       "169383          1543438800                   30.03   \n",
       "389959          1544896800                   36.43   \n",
       "124352          1543438800                   30.08   \n",
       "\n",
       "        apparentTemperatureMinTime  apparentTemperatureMax  \\\n",
       "327516                  1544688000                   33.04   \n",
       "111711                  1543399200                   36.57   \n",
       "169383                  1543399200                   36.57   \n",
       "389959                  1544929200                   53.79   \n",
       "124352                  1543399200                   36.77   \n",
       "\n",
       "       apparentTemperatureMaxTime  \n",
       "327516                 1544734800  \n",
       "111711                 1543438800  \n",
       "169383                 1543438800  \n",
       "389959                 1544896800  \n",
       "124352                 1543438800  \n",
       "\n",
       "[5 rows x 57 columns]"
      ]
     },
     "execution_count": 1,
     "metadata": {},
     "output_type": "execute_result"
    }
   ],
   "source": [
    "import pandas as pd\n",
    "import zipfile\n",
    "\n",
    "zip_file_path = 'DataSets/Uber_ride.zip'\n",
    "\n",
    "with zipfile.ZipFile(zip_file_path, 'r') as zip_file:\n",
    "    with zip_file.open('rideshare_kaggle.csv') as csv_file:\n",
    "        df5 = pd.read_csv(csv_file)\n",
    "\n",
    "df5.sample(5)"
   ]
  },
  {
   "cell_type": "code",
   "execution_count": null,
   "metadata": {},
   "outputs": [],
   "source": [
    "# pip install folium"
   ]
  },
  {
   "cell_type": "code",
   "execution_count": 2,
   "metadata": {},
   "outputs": [
    {
     "data": {
      "text/html": [
       "<div>\n",
       "<style scoped>\n",
       "    .dataframe tbody tr th:only-of-type {\n",
       "        vertical-align: middle;\n",
       "    }\n",
       "\n",
       "    .dataframe tbody tr th {\n",
       "        vertical-align: top;\n",
       "    }\n",
       "\n",
       "    .dataframe thead th {\n",
       "        text-align: right;\n",
       "    }\n",
       "</style>\n",
       "<table border=\"1\" class=\"dataframe\">\n",
       "  <thead>\n",
       "    <tr style=\"text-align: right;\">\n",
       "      <th></th>\n",
       "      <th>id</th>\n",
       "      <th>datetime</th>\n",
       "      <th>timezone</th>\n",
       "      <th>source</th>\n",
       "      <th>destination</th>\n",
       "      <th>cab_type</th>\n",
       "      <th>product_id</th>\n",
       "      <th>name</th>\n",
       "      <th>short_summary</th>\n",
       "      <th>long_summary</th>\n",
       "      <th>icon</th>\n",
       "    </tr>\n",
       "  </thead>\n",
       "  <tbody>\n",
       "    <tr>\n",
       "      <th>376460</th>\n",
       "      <td>2d315680-2efb-46be-8934-90b6fe066ebe</td>\n",
       "      <td>2018-11-29 18:57:59</td>\n",
       "      <td>America/New_York</td>\n",
       "      <td>Beacon Hill</td>\n",
       "      <td>Northeastern University</td>\n",
       "      <td>Lyft</td>\n",
       "      <td>lyft_luxsuv</td>\n",
       "      <td>Lux Black XL</td>\n",
       "      <td>Partly Cloudy</td>\n",
       "      <td>Partly cloudy throughout the day.</td>\n",
       "      <td>partly-cloudy-day</td>\n",
       "    </tr>\n",
       "  </tbody>\n",
       "</table>\n",
       "</div>"
      ],
      "text/plain": [
       "                                          id             datetime  \\\n",
       "376460  2d315680-2efb-46be-8934-90b6fe066ebe  2018-11-29 18:57:59   \n",
       "\n",
       "                timezone       source              destination cab_type  \\\n",
       "376460  America/New_York  Beacon Hill  Northeastern University     Lyft   \n",
       "\n",
       "         product_id          name    short_summary  \\\n",
       "376460  lyft_luxsuv  Lux Black XL   Partly Cloudy    \n",
       "\n",
       "                               long_summary                 icon  \n",
       "376460   Partly cloudy throughout the day.    partly-cloudy-day   "
      ]
     },
     "execution_count": 2,
     "metadata": {},
     "output_type": "execute_result"
    }
   ],
   "source": [
    "df5.select_dtypes(include=['object']).sample()"
   ]
  },
  {
   "cell_type": "code",
   "execution_count": 3,
   "metadata": {},
   "outputs": [],
   "source": [
    "from sklearn.preprocessing import LabelEncoder\n",
    "\n",
    "df5.drop(columns=[\"id\",\"datetime\",\"timestamp\",\"timezone\", \"product_id\", \"long_summary\"], inplace=True)\n",
    "# Encode categorical features (e.g., Month, VisitorType) using LabelEncoder\n",
    "label_encoder = LabelEncoder()\n",
    "df5['source'] = label_encoder.fit_transform(df5['source'])\n",
    "df5['destination'] = label_encoder.fit_transform(df5['destination'])\n",
    "df5['name'] = label_encoder.fit_transform(df5['name'])\n",
    "df5['short_summary'] = label_encoder.fit_transform(df5['short_summary'])\n",
    "df5['cab_type'] = label_encoder.fit_transform(df5['cab_type'])\n",
    "df5['icon'] = label_encoder.fit_transform(df5['icon'])"
   ]
  },
  {
   "cell_type": "code",
   "execution_count": 4,
   "metadata": {},
   "outputs": [
    {
     "data": {
      "text/html": [
       "<div>\n",
       "<style scoped>\n",
       "    .dataframe tbody tr th:only-of-type {\n",
       "        vertical-align: middle;\n",
       "    }\n",
       "\n",
       "    .dataframe tbody tr th {\n",
       "        vertical-align: top;\n",
       "    }\n",
       "\n",
       "    .dataframe thead th {\n",
       "        text-align: right;\n",
       "    }\n",
       "</style>\n",
       "<table border=\"1\" class=\"dataframe\">\n",
       "  <thead>\n",
       "    <tr style=\"text-align: right;\">\n",
       "      <th></th>\n",
       "      <th>hour</th>\n",
       "      <th>day</th>\n",
       "      <th>month</th>\n",
       "      <th>source</th>\n",
       "      <th>destination</th>\n",
       "      <th>cab_type</th>\n",
       "      <th>name</th>\n",
       "      <th>price</th>\n",
       "      <th>distance</th>\n",
       "      <th>surge_multiplier</th>\n",
       "      <th>...</th>\n",
       "      <th>precipIntensityMax</th>\n",
       "      <th>uvIndexTime</th>\n",
       "      <th>temperatureMin</th>\n",
       "      <th>temperatureMinTime</th>\n",
       "      <th>temperatureMax</th>\n",
       "      <th>temperatureMaxTime</th>\n",
       "      <th>apparentTemperatureMin</th>\n",
       "      <th>apparentTemperatureMinTime</th>\n",
       "      <th>apparentTemperatureMax</th>\n",
       "      <th>apparentTemperatureMaxTime</th>\n",
       "    </tr>\n",
       "  </thead>\n",
       "  <tbody>\n",
       "    <tr>\n",
       "      <th>0</th>\n",
       "      <td>9</td>\n",
       "      <td>16</td>\n",
       "      <td>12</td>\n",
       "      <td>5</td>\n",
       "      <td>7</td>\n",
       "      <td>0</td>\n",
       "      <td>7</td>\n",
       "      <td>5.0</td>\n",
       "      <td>0.44</td>\n",
       "      <td>1.0</td>\n",
       "      <td>...</td>\n",
       "      <td>0.1276</td>\n",
       "      <td>1544979600</td>\n",
       "      <td>39.89</td>\n",
       "      <td>1545012000</td>\n",
       "      <td>43.68</td>\n",
       "      <td>1544968800</td>\n",
       "      <td>33.73</td>\n",
       "      <td>1545012000</td>\n",
       "      <td>38.07</td>\n",
       "      <td>1544958000</td>\n",
       "    </tr>\n",
       "    <tr>\n",
       "      <th>1</th>\n",
       "      <td>2</td>\n",
       "      <td>27</td>\n",
       "      <td>11</td>\n",
       "      <td>5</td>\n",
       "      <td>7</td>\n",
       "      <td>0</td>\n",
       "      <td>2</td>\n",
       "      <td>11.0</td>\n",
       "      <td>0.44</td>\n",
       "      <td>1.0</td>\n",
       "      <td>...</td>\n",
       "      <td>0.1300</td>\n",
       "      <td>1543251600</td>\n",
       "      <td>40.49</td>\n",
       "      <td>1543233600</td>\n",
       "      <td>47.30</td>\n",
       "      <td>1543251600</td>\n",
       "      <td>36.20</td>\n",
       "      <td>1543291200</td>\n",
       "      <td>43.92</td>\n",
       "      <td>1543251600</td>\n",
       "    </tr>\n",
       "    <tr>\n",
       "      <th>2</th>\n",
       "      <td>1</td>\n",
       "      <td>28</td>\n",
       "      <td>11</td>\n",
       "      <td>5</td>\n",
       "      <td>7</td>\n",
       "      <td>0</td>\n",
       "      <td>5</td>\n",
       "      <td>7.0</td>\n",
       "      <td>0.44</td>\n",
       "      <td>1.0</td>\n",
       "      <td>...</td>\n",
       "      <td>0.1064</td>\n",
       "      <td>1543338000</td>\n",
       "      <td>35.36</td>\n",
       "      <td>1543377600</td>\n",
       "      <td>47.55</td>\n",
       "      <td>1543320000</td>\n",
       "      <td>31.04</td>\n",
       "      <td>1543377600</td>\n",
       "      <td>44.12</td>\n",
       "      <td>1543320000</td>\n",
       "    </tr>\n",
       "    <tr>\n",
       "      <th>3</th>\n",
       "      <td>4</td>\n",
       "      <td>30</td>\n",
       "      <td>11</td>\n",
       "      <td>5</td>\n",
       "      <td>7</td>\n",
       "      <td>0</td>\n",
       "      <td>4</td>\n",
       "      <td>26.0</td>\n",
       "      <td>0.44</td>\n",
       "      <td>1.0</td>\n",
       "      <td>...</td>\n",
       "      <td>0.0000</td>\n",
       "      <td>1543507200</td>\n",
       "      <td>34.67</td>\n",
       "      <td>1543550400</td>\n",
       "      <td>45.03</td>\n",
       "      <td>1543510800</td>\n",
       "      <td>30.30</td>\n",
       "      <td>1543550400</td>\n",
       "      <td>38.53</td>\n",
       "      <td>1543510800</td>\n",
       "    </tr>\n",
       "    <tr>\n",
       "      <th>4</th>\n",
       "      <td>3</td>\n",
       "      <td>29</td>\n",
       "      <td>11</td>\n",
       "      <td>5</td>\n",
       "      <td>7</td>\n",
       "      <td>0</td>\n",
       "      <td>6</td>\n",
       "      <td>9.0</td>\n",
       "      <td>0.44</td>\n",
       "      <td>1.0</td>\n",
       "      <td>...</td>\n",
       "      <td>0.0001</td>\n",
       "      <td>1543420800</td>\n",
       "      <td>33.10</td>\n",
       "      <td>1543402800</td>\n",
       "      <td>42.18</td>\n",
       "      <td>1543420800</td>\n",
       "      <td>29.11</td>\n",
       "      <td>1543392000</td>\n",
       "      <td>35.75</td>\n",
       "      <td>1543420800</td>\n",
       "    </tr>\n",
       "    <tr>\n",
       "      <th>...</th>\n",
       "      <td>...</td>\n",
       "      <td>...</td>\n",
       "      <td>...</td>\n",
       "      <td>...</td>\n",
       "      <td>...</td>\n",
       "      <td>...</td>\n",
       "      <td>...</td>\n",
       "      <td>...</td>\n",
       "      <td>...</td>\n",
       "      <td>...</td>\n",
       "      <td>...</td>\n",
       "      <td>...</td>\n",
       "      <td>...</td>\n",
       "      <td>...</td>\n",
       "      <td>...</td>\n",
       "      <td>...</td>\n",
       "      <td>...</td>\n",
       "      <td>...</td>\n",
       "      <td>...</td>\n",
       "      <td>...</td>\n",
       "      <td>...</td>\n",
       "    </tr>\n",
       "    <tr>\n",
       "      <th>693066</th>\n",
       "      <td>23</td>\n",
       "      <td>1</td>\n",
       "      <td>12</td>\n",
       "      <td>11</td>\n",
       "      <td>6</td>\n",
       "      <td>1</td>\n",
       "      <td>11</td>\n",
       "      <td>13.0</td>\n",
       "      <td>1.00</td>\n",
       "      <td>1.0</td>\n",
       "      <td>...</td>\n",
       "      <td>0.0000</td>\n",
       "      <td>1543683600</td>\n",
       "      <td>31.42</td>\n",
       "      <td>1543658400</td>\n",
       "      <td>44.76</td>\n",
       "      <td>1543690800</td>\n",
       "      <td>27.77</td>\n",
       "      <td>1543658400</td>\n",
       "      <td>44.09</td>\n",
       "      <td>1543690800</td>\n",
       "    </tr>\n",
       "    <tr>\n",
       "      <th>693067</th>\n",
       "      <td>23</td>\n",
       "      <td>1</td>\n",
       "      <td>12</td>\n",
       "      <td>11</td>\n",
       "      <td>6</td>\n",
       "      <td>1</td>\n",
       "      <td>10</td>\n",
       "      <td>9.5</td>\n",
       "      <td>1.00</td>\n",
       "      <td>1.0</td>\n",
       "      <td>...</td>\n",
       "      <td>0.0000</td>\n",
       "      <td>1543683600</td>\n",
       "      <td>31.42</td>\n",
       "      <td>1543658400</td>\n",
       "      <td>44.76</td>\n",
       "      <td>1543690800</td>\n",
       "      <td>27.77</td>\n",
       "      <td>1543658400</td>\n",
       "      <td>44.09</td>\n",
       "      <td>1543690800</td>\n",
       "    </tr>\n",
       "    <tr>\n",
       "      <th>693068</th>\n",
       "      <td>23</td>\n",
       "      <td>1</td>\n",
       "      <td>12</td>\n",
       "      <td>11</td>\n",
       "      <td>6</td>\n",
       "      <td>1</td>\n",
       "      <td>8</td>\n",
       "      <td>NaN</td>\n",
       "      <td>1.00</td>\n",
       "      <td>1.0</td>\n",
       "      <td>...</td>\n",
       "      <td>0.0000</td>\n",
       "      <td>1543683600</td>\n",
       "      <td>31.42</td>\n",
       "      <td>1543658400</td>\n",
       "      <td>44.76</td>\n",
       "      <td>1543690800</td>\n",
       "      <td>27.77</td>\n",
       "      <td>1543658400</td>\n",
       "      <td>44.09</td>\n",
       "      <td>1543690800</td>\n",
       "    </tr>\n",
       "    <tr>\n",
       "      <th>693069</th>\n",
       "      <td>23</td>\n",
       "      <td>1</td>\n",
       "      <td>12</td>\n",
       "      <td>11</td>\n",
       "      <td>6</td>\n",
       "      <td>1</td>\n",
       "      <td>1</td>\n",
       "      <td>27.0</td>\n",
       "      <td>1.00</td>\n",
       "      <td>1.0</td>\n",
       "      <td>...</td>\n",
       "      <td>0.0000</td>\n",
       "      <td>1543683600</td>\n",
       "      <td>31.42</td>\n",
       "      <td>1543658400</td>\n",
       "      <td>44.76</td>\n",
       "      <td>1543690800</td>\n",
       "      <td>27.77</td>\n",
       "      <td>1543658400</td>\n",
       "      <td>44.09</td>\n",
       "      <td>1543690800</td>\n",
       "    </tr>\n",
       "    <tr>\n",
       "      <th>693070</th>\n",
       "      <td>23</td>\n",
       "      <td>1</td>\n",
       "      <td>12</td>\n",
       "      <td>11</td>\n",
       "      <td>6</td>\n",
       "      <td>1</td>\n",
       "      <td>9</td>\n",
       "      <td>10.0</td>\n",
       "      <td>1.00</td>\n",
       "      <td>1.0</td>\n",
       "      <td>...</td>\n",
       "      <td>0.0000</td>\n",
       "      <td>1543683600</td>\n",
       "      <td>31.42</td>\n",
       "      <td>1543658400</td>\n",
       "      <td>44.76</td>\n",
       "      <td>1543690800</td>\n",
       "      <td>27.77</td>\n",
       "      <td>1543658400</td>\n",
       "      <td>44.09</td>\n",
       "      <td>1543690800</td>\n",
       "    </tr>\n",
       "  </tbody>\n",
       "</table>\n",
       "<p>693071 rows × 51 columns</p>\n",
       "</div>"
      ],
      "text/plain": [
       "        hour  day  month  source  destination  cab_type  name  price  \\\n",
       "0          9   16     12       5            7         0     7    5.0   \n",
       "1          2   27     11       5            7         0     2   11.0   \n",
       "2          1   28     11       5            7         0     5    7.0   \n",
       "3          4   30     11       5            7         0     4   26.0   \n",
       "4          3   29     11       5            7         0     6    9.0   \n",
       "...      ...  ...    ...     ...          ...       ...   ...    ...   \n",
       "693066    23    1     12      11            6         1    11   13.0   \n",
       "693067    23    1     12      11            6         1    10    9.5   \n",
       "693068    23    1     12      11            6         1     8    NaN   \n",
       "693069    23    1     12      11            6         1     1   27.0   \n",
       "693070    23    1     12      11            6         1     9   10.0   \n",
       "\n",
       "        distance  surge_multiplier  ...  precipIntensityMax  uvIndexTime  \\\n",
       "0           0.44               1.0  ...              0.1276   1544979600   \n",
       "1           0.44               1.0  ...              0.1300   1543251600   \n",
       "2           0.44               1.0  ...              0.1064   1543338000   \n",
       "3           0.44               1.0  ...              0.0000   1543507200   \n",
       "4           0.44               1.0  ...              0.0001   1543420800   \n",
       "...          ...               ...  ...                 ...          ...   \n",
       "693066      1.00               1.0  ...              0.0000   1543683600   \n",
       "693067      1.00               1.0  ...              0.0000   1543683600   \n",
       "693068      1.00               1.0  ...              0.0000   1543683600   \n",
       "693069      1.00               1.0  ...              0.0000   1543683600   \n",
       "693070      1.00               1.0  ...              0.0000   1543683600   \n",
       "\n",
       "        temperatureMin  temperatureMinTime  temperatureMax  \\\n",
       "0                39.89          1545012000           43.68   \n",
       "1                40.49          1543233600           47.30   \n",
       "2                35.36          1543377600           47.55   \n",
       "3                34.67          1543550400           45.03   \n",
       "4                33.10          1543402800           42.18   \n",
       "...                ...                 ...             ...   \n",
       "693066           31.42          1543658400           44.76   \n",
       "693067           31.42          1543658400           44.76   \n",
       "693068           31.42          1543658400           44.76   \n",
       "693069           31.42          1543658400           44.76   \n",
       "693070           31.42          1543658400           44.76   \n",
       "\n",
       "        temperatureMaxTime  apparentTemperatureMin  \\\n",
       "0               1544968800                   33.73   \n",
       "1               1543251600                   36.20   \n",
       "2               1543320000                   31.04   \n",
       "3               1543510800                   30.30   \n",
       "4               1543420800                   29.11   \n",
       "...                    ...                     ...   \n",
       "693066          1543690800                   27.77   \n",
       "693067          1543690800                   27.77   \n",
       "693068          1543690800                   27.77   \n",
       "693069          1543690800                   27.77   \n",
       "693070          1543690800                   27.77   \n",
       "\n",
       "        apparentTemperatureMinTime  apparentTemperatureMax  \\\n",
       "0                       1545012000                   38.07   \n",
       "1                       1543291200                   43.92   \n",
       "2                       1543377600                   44.12   \n",
       "3                       1543550400                   38.53   \n",
       "4                       1543392000                   35.75   \n",
       "...                            ...                     ...   \n",
       "693066                  1543658400                   44.09   \n",
       "693067                  1543658400                   44.09   \n",
       "693068                  1543658400                   44.09   \n",
       "693069                  1543658400                   44.09   \n",
       "693070                  1543658400                   44.09   \n",
       "\n",
       "        apparentTemperatureMaxTime  \n",
       "0                       1544958000  \n",
       "1                       1543251600  \n",
       "2                       1543320000  \n",
       "3                       1543510800  \n",
       "4                       1543420800  \n",
       "...                            ...  \n",
       "693066                  1543690800  \n",
       "693067                  1543690800  \n",
       "693068                  1543690800  \n",
       "693069                  1543690800  \n",
       "693070                  1543690800  \n",
       "\n",
       "[693071 rows x 51 columns]"
      ]
     },
     "execution_count": 4,
     "metadata": {},
     "output_type": "execute_result"
    }
   ],
   "source": [
    "df5"
   ]
  },
  {
   "cell_type": "code",
   "execution_count": null,
   "metadata": {},
   "outputs": [],
   "source": []
  },
  {
   "cell_type": "code",
   "execution_count": 5,
   "metadata": {},
   "outputs": [
    {
     "ename": "ValueError",
     "evalue": "Input contains NaN, infinity or a value too large for dtype('float64').",
     "output_type": "error",
     "traceback": [
      "\u001b[1;31m---------------------------------------------------------------------------\u001b[0m",
      "\u001b[1;31mValueError\u001b[0m                                Traceback (most recent call last)",
      "\u001b[1;32m<ipython-input-5-52c60b3710c1>\u001b[0m in \u001b[0;36m<module>\u001b[1;34m\u001b[0m\n\u001b[0;32m     12\u001b[0m \u001b[0mnum_clusters\u001b[0m \u001b[1;33m=\u001b[0m \u001b[1;36m5\u001b[0m\u001b[1;33m\u001b[0m\u001b[1;33m\u001b[0m\u001b[0m\n\u001b[0;32m     13\u001b[0m \u001b[0mkmeans\u001b[0m \u001b[1;33m=\u001b[0m \u001b[0mKMeans\u001b[0m\u001b[1;33m(\u001b[0m\u001b[0mn_clusters\u001b[0m\u001b[1;33m=\u001b[0m\u001b[0mnum_clusters\u001b[0m\u001b[1;33m)\u001b[0m\u001b[1;33m\u001b[0m\u001b[1;33m\u001b[0m\u001b[0m\n\u001b[1;32m---> 14\u001b[1;33m \u001b[0mdata\u001b[0m\u001b[1;33m[\u001b[0m\u001b[1;34m'cluster'\u001b[0m\u001b[1;33m]\u001b[0m \u001b[1;33m=\u001b[0m \u001b[0mkmeans\u001b[0m\u001b[1;33m.\u001b[0m\u001b[0mfit_predict\u001b[0m\u001b[1;33m(\u001b[0m\u001b[0mdata\u001b[0m\u001b[1;33m)\u001b[0m  \u001b[1;31m# Use relevant features\u001b[0m\u001b[1;33m\u001b[0m\u001b[1;33m\u001b[0m\u001b[0m\n\u001b[0m\u001b[0;32m     15\u001b[0m \u001b[1;33m\u001b[0m\u001b[0m\n\u001b[0;32m     16\u001b[0m \u001b[1;31m# Supervised Learning - Price Prediction\u001b[0m\u001b[1;33m\u001b[0m\u001b[1;33m\u001b[0m\u001b[1;33m\u001b[0m\u001b[0m\n",
      "\u001b[1;32m~\\anaconda3\\lib\\site-packages\\sklearn\\cluster\\_kmeans.py\u001b[0m in \u001b[0;36mfit_predict\u001b[1;34m(self, X, y, sample_weight)\u001b[0m\n\u001b[0;32m   1120\u001b[0m             \u001b[0mIndex\u001b[0m \u001b[0mof\u001b[0m \u001b[0mthe\u001b[0m \u001b[0mcluster\u001b[0m \u001b[0meach\u001b[0m \u001b[0msample\u001b[0m \u001b[0mbelongs\u001b[0m \u001b[0mto\u001b[0m\u001b[1;33m.\u001b[0m\u001b[1;33m\u001b[0m\u001b[1;33m\u001b[0m\u001b[0m\n\u001b[0;32m   1121\u001b[0m         \"\"\"\n\u001b[1;32m-> 1122\u001b[1;33m         \u001b[1;32mreturn\u001b[0m \u001b[0mself\u001b[0m\u001b[1;33m.\u001b[0m\u001b[0mfit\u001b[0m\u001b[1;33m(\u001b[0m\u001b[0mX\u001b[0m\u001b[1;33m,\u001b[0m \u001b[0msample_weight\u001b[0m\u001b[1;33m=\u001b[0m\u001b[0msample_weight\u001b[0m\u001b[1;33m)\u001b[0m\u001b[1;33m.\u001b[0m\u001b[0mlabels_\u001b[0m\u001b[1;33m\u001b[0m\u001b[1;33m\u001b[0m\u001b[0m\n\u001b[0m\u001b[0;32m   1123\u001b[0m \u001b[1;33m\u001b[0m\u001b[0m\n\u001b[0;32m   1124\u001b[0m     \u001b[1;32mdef\u001b[0m \u001b[0mfit_transform\u001b[0m\u001b[1;33m(\u001b[0m\u001b[0mself\u001b[0m\u001b[1;33m,\u001b[0m \u001b[0mX\u001b[0m\u001b[1;33m,\u001b[0m \u001b[0my\u001b[0m\u001b[1;33m=\u001b[0m\u001b[1;32mNone\u001b[0m\u001b[1;33m,\u001b[0m \u001b[0msample_weight\u001b[0m\u001b[1;33m=\u001b[0m\u001b[1;32mNone\u001b[0m\u001b[1;33m)\u001b[0m\u001b[1;33m:\u001b[0m\u001b[1;33m\u001b[0m\u001b[1;33m\u001b[0m\u001b[0m\n",
      "\u001b[1;32m~\\anaconda3\\lib\\site-packages\\sklearn\\cluster\\_kmeans.py\u001b[0m in \u001b[0;36mfit\u001b[1;34m(self, X, y, sample_weight)\u001b[0m\n\u001b[0;32m   1028\u001b[0m             \u001b[0mFitted\u001b[0m \u001b[0mestimator\u001b[0m\u001b[1;33m.\u001b[0m\u001b[1;33m\u001b[0m\u001b[1;33m\u001b[0m\u001b[0m\n\u001b[0;32m   1029\u001b[0m         \"\"\"\n\u001b[1;32m-> 1030\u001b[1;33m         X = self._validate_data(X, accept_sparse='csr',\n\u001b[0m\u001b[0;32m   1031\u001b[0m                                 \u001b[0mdtype\u001b[0m\u001b[1;33m=\u001b[0m\u001b[1;33m[\u001b[0m\u001b[0mnp\u001b[0m\u001b[1;33m.\u001b[0m\u001b[0mfloat64\u001b[0m\u001b[1;33m,\u001b[0m \u001b[0mnp\u001b[0m\u001b[1;33m.\u001b[0m\u001b[0mfloat32\u001b[0m\u001b[1;33m]\u001b[0m\u001b[1;33m,\u001b[0m\u001b[1;33m\u001b[0m\u001b[1;33m\u001b[0m\u001b[0m\n\u001b[0;32m   1032\u001b[0m                                 \u001b[0morder\u001b[0m\u001b[1;33m=\u001b[0m\u001b[1;34m'C'\u001b[0m\u001b[1;33m,\u001b[0m \u001b[0mcopy\u001b[0m\u001b[1;33m=\u001b[0m\u001b[0mself\u001b[0m\u001b[1;33m.\u001b[0m\u001b[0mcopy_x\u001b[0m\u001b[1;33m,\u001b[0m\u001b[1;33m\u001b[0m\u001b[1;33m\u001b[0m\u001b[0m\n",
      "\u001b[1;32m~\\anaconda3\\lib\\site-packages\\sklearn\\base.py\u001b[0m in \u001b[0;36m_validate_data\u001b[1;34m(self, X, y, reset, validate_separately, **check_params)\u001b[0m\n\u001b[0;32m    418\u001b[0m                     \u001b[1;34mf\"requires y to be passed, but the target y is None.\"\u001b[0m\u001b[1;33m\u001b[0m\u001b[1;33m\u001b[0m\u001b[0m\n\u001b[0;32m    419\u001b[0m                 )\n\u001b[1;32m--> 420\u001b[1;33m             \u001b[0mX\u001b[0m \u001b[1;33m=\u001b[0m \u001b[0mcheck_array\u001b[0m\u001b[1;33m(\u001b[0m\u001b[0mX\u001b[0m\u001b[1;33m,\u001b[0m \u001b[1;33m**\u001b[0m\u001b[0mcheck_params\u001b[0m\u001b[1;33m)\u001b[0m\u001b[1;33m\u001b[0m\u001b[1;33m\u001b[0m\u001b[0m\n\u001b[0m\u001b[0;32m    421\u001b[0m             \u001b[0mout\u001b[0m \u001b[1;33m=\u001b[0m \u001b[0mX\u001b[0m\u001b[1;33m\u001b[0m\u001b[1;33m\u001b[0m\u001b[0m\n\u001b[0;32m    422\u001b[0m         \u001b[1;32melse\u001b[0m\u001b[1;33m:\u001b[0m\u001b[1;33m\u001b[0m\u001b[1;33m\u001b[0m\u001b[0m\n",
      "\u001b[1;32m~\\anaconda3\\lib\\site-packages\\sklearn\\utils\\validation.py\u001b[0m in \u001b[0;36minner_f\u001b[1;34m(*args, **kwargs)\u001b[0m\n\u001b[0;32m     70\u001b[0m                           FutureWarning)\n\u001b[0;32m     71\u001b[0m         \u001b[0mkwargs\u001b[0m\u001b[1;33m.\u001b[0m\u001b[0mupdate\u001b[0m\u001b[1;33m(\u001b[0m\u001b[1;33m{\u001b[0m\u001b[0mk\u001b[0m\u001b[1;33m:\u001b[0m \u001b[0marg\u001b[0m \u001b[1;32mfor\u001b[0m \u001b[0mk\u001b[0m\u001b[1;33m,\u001b[0m \u001b[0marg\u001b[0m \u001b[1;32min\u001b[0m \u001b[0mzip\u001b[0m\u001b[1;33m(\u001b[0m\u001b[0msig\u001b[0m\u001b[1;33m.\u001b[0m\u001b[0mparameters\u001b[0m\u001b[1;33m,\u001b[0m \u001b[0margs\u001b[0m\u001b[1;33m)\u001b[0m\u001b[1;33m}\u001b[0m\u001b[1;33m)\u001b[0m\u001b[1;33m\u001b[0m\u001b[1;33m\u001b[0m\u001b[0m\n\u001b[1;32m---> 72\u001b[1;33m         \u001b[1;32mreturn\u001b[0m \u001b[0mf\u001b[0m\u001b[1;33m(\u001b[0m\u001b[1;33m**\u001b[0m\u001b[0mkwargs\u001b[0m\u001b[1;33m)\u001b[0m\u001b[1;33m\u001b[0m\u001b[1;33m\u001b[0m\u001b[0m\n\u001b[0m\u001b[0;32m     73\u001b[0m     \u001b[1;32mreturn\u001b[0m \u001b[0minner_f\u001b[0m\u001b[1;33m\u001b[0m\u001b[1;33m\u001b[0m\u001b[0m\n\u001b[0;32m     74\u001b[0m \u001b[1;33m\u001b[0m\u001b[0m\n",
      "\u001b[1;32m~\\anaconda3\\lib\\site-packages\\sklearn\\utils\\validation.py\u001b[0m in \u001b[0;36mcheck_array\u001b[1;34m(array, accept_sparse, accept_large_sparse, dtype, order, copy, force_all_finite, ensure_2d, allow_nd, ensure_min_samples, ensure_min_features, estimator)\u001b[0m\n\u001b[0;32m    642\u001b[0m \u001b[1;33m\u001b[0m\u001b[0m\n\u001b[0;32m    643\u001b[0m         \u001b[1;32mif\u001b[0m \u001b[0mforce_all_finite\u001b[0m\u001b[1;33m:\u001b[0m\u001b[1;33m\u001b[0m\u001b[1;33m\u001b[0m\u001b[0m\n\u001b[1;32m--> 644\u001b[1;33m             _assert_all_finite(array,\n\u001b[0m\u001b[0;32m    645\u001b[0m                                allow_nan=force_all_finite == 'allow-nan')\n\u001b[0;32m    646\u001b[0m \u001b[1;33m\u001b[0m\u001b[0m\n",
      "\u001b[1;32m~\\anaconda3\\lib\\site-packages\\sklearn\\utils\\validation.py\u001b[0m in \u001b[0;36m_assert_all_finite\u001b[1;34m(X, allow_nan, msg_dtype)\u001b[0m\n\u001b[0;32m     94\u001b[0m                 not allow_nan and not np.isfinite(X).all()):\n\u001b[0;32m     95\u001b[0m             \u001b[0mtype_err\u001b[0m \u001b[1;33m=\u001b[0m \u001b[1;34m'infinity'\u001b[0m \u001b[1;32mif\u001b[0m \u001b[0mallow_nan\u001b[0m \u001b[1;32melse\u001b[0m \u001b[1;34m'NaN, infinity'\u001b[0m\u001b[1;33m\u001b[0m\u001b[1;33m\u001b[0m\u001b[0m\n\u001b[1;32m---> 96\u001b[1;33m             raise ValueError(\n\u001b[0m\u001b[0;32m     97\u001b[0m                     \u001b[0mmsg_err\u001b[0m\u001b[1;33m.\u001b[0m\u001b[0mformat\u001b[0m\u001b[1;33m\u001b[0m\u001b[1;33m\u001b[0m\u001b[0m\n\u001b[0;32m     98\u001b[0m                     (type_err,\n",
      "\u001b[1;31mValueError\u001b[0m: Input contains NaN, infinity or a value too large for dtype('float64')."
     ]
    }
   ],
   "source": [
    "import pandas as pd\n",
    "from sklearn.cluster import KMeans\n",
    "from sklearn.model_selection import train_test_split\n",
    "from sklearn.linear_model import LinearRegression\n",
    "import folium\n",
    "\n",
    "# Load and preprocess the dataset\n",
    "data = df5\n",
    "# Preprocess and feature extraction\n",
    "\n",
    "# Unsupervised Learning - Clustering\n",
    "num_clusters = 5\n",
    "kmeans = KMeans(n_clusters=num_clusters)\n",
    "data['cluster'] = kmeans.fit_predict(data)  # Use relevant features\n",
    "\n",
    "# Supervised Learning - Price Prediction\n",
    "X = data.drop(['price'], axis=1)\n",
    "y = data['price']\n",
    "X_train, X_test, y_train, y_test = train_test_split(X, y, test_size=0.2, random_state=42)\n",
    "\n",
    "model = LinearRegression()\n",
    "model.fit(X_train, y_train)\n",
    "\n",
    "# Visualization using Folium\n",
    "m = folium.Map(location=[initial_lat, initial_lon], zoom_start=10)\n",
    "\n",
    "# Add cluster markers to the map\n",
    "for cluster_id in range(num_clusters):\n",
    "    cluster_data = data[data['cluster'] == cluster_id]\n",
    "    for index, row in cluster_data.iterrows():\n",
    "        folium.Marker([row['lat'], row['lon']], popup=f\"Price: {model.predict([[row['feature1'], row['feature2']]])[0]:.2f}\").add_to(m)\n",
    "\n",
    "m.save('map.html')\n"
   ]
  },
  {
   "cell_type": "code",
   "execution_count": null,
   "metadata": {},
   "outputs": [],
   "source": []
  }
 ],
 "metadata": {
  "kernelspec": {
   "display_name": "Python 3",
   "language": "python",
   "name": "python3"
  },
  "language_info": {
   "codemirror_mode": {
    "name": "ipython",
    "version": 3
   },
   "file_extension": ".py",
   "mimetype": "text/x-python",
   "name": "python",
   "nbconvert_exporter": "python",
   "pygments_lexer": "ipython3",
   "version": "3.8.5"
  }
 },
 "nbformat": 4,
 "nbformat_minor": 4
}
